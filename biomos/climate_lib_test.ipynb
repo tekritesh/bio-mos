{
 "cells": [
  {
   "cell_type": "code",
   "execution_count": null,
   "metadata": {},
   "outputs": [],
   "source": [
    "from noaa_sdk import NOAA\n",
    "import pandas as pd\n",
    "\n",
    "\n",
    "df= pd.read_csv(\"/mnt/Work/PersonalData/Raw/GBIF/Data/Vulpes vulpes_Haliaeetus albicilla_Dama dama_Hydropotes inermis_Capreolus capreolus_Cervus elaphus.csv\")\n",
    "\n",
    "df.head()"
   ]
  },
  {
   "cell_type": "code",
   "execution_count": null,
   "metadata": {},
   "outputs": [],
   "source": []
  },
  {
   "cell_type": "code",
   "execution_count": null,
   "metadata": {},
   "outputs": [],
   "source": [
    "n = NOAA()\n",
    "n.get_forecasts()\n",
    "res = n.get_forecasts('11365', 'US', type='forecastGridData')\n",
    "for i in res:\n",
    "    print(i)"
   ]
  },
  {
   "cell_type": "code",
   "execution_count": null,
   "metadata": {},
   "outputs": [],
   "source": [
    "# results= n.get_observations_by_lat_lon(\n",
    "#     lat=51.271,\n",
    "#     lon=-1.230,\n",
    "    \n",
    "#     # 40.7314,\n",
    "#     # -73.8656,\n",
    "#     # start='2021-01-01',\n",
    "#     # end='2021-01-10',\n",
    "#     num_of_stations=100)\n",
    "\n",
    "results = n.points_forecast(40.7314, -73.8656, hourly= False)\n",
    "\n"
   ]
  },
  {
   "cell_type": "code",
   "execution_count": null,
   "metadata": {},
   "outputs": [],
   "source": [
    "from meteostat import Point, Daily\n",
    "from datetime import datetime\n",
    "\n",
    "# Refer : https://dev.meteostat.net/python/point.html#api"
   ]
  },
  {
   "cell_type": "code",
   "execution_count": null,
   "metadata": {},
   "outputs": [],
   "source": [
    "\n",
    "date_string = \"2012-12-12\"\n",
    "start = datetime.fromisoformat(date_string)\n",
    "end = datetime.fromisoformat(date_string)\n",
    "\n",
    "# Set time period\n",
    "# start = datetime(2022, 6, 11)\n",
    "# end = datetime(2022, 6, 11)\n",
    "\n",
    "# Create Point for Vancouver, BC\n",
    "location = Point(52.33428, 4.544288)\n",
    "\n",
    "# Get daily data for 2018\n",
    "data = Daily(location, start, end)\n",
    "data = data.fetch()"
   ]
  },
  {
   "cell_type": "code",
   "execution_count": null,
   "metadata": {},
   "outputs": [],
   "source": [
    "import logging"
   ]
  },
  {
   "cell_type": "code",
   "execution_count": null,
   "metadata": {},
   "outputs": [],
   "source": [
    "log = logging.getLogger(\"my-logger\")"
   ]
  },
  {
   "cell_type": "code",
   "execution_count": null,
   "metadata": {},
   "outputs": [],
   "source": [
    "log.info(\"Hello\")"
   ]
  },
  {
   "cell_type": "code",
   "execution_count": null,
   "metadata": {},
   "outputs": [],
   "source": [
    "date_string = \"2012-12-12\"\n",
    "print (datetime.fromisoformat(date_string))"
   ]
  },
  {
   "cell_type": "code",
   "execution_count": null,
   "metadata": {},
   "outputs": [],
   "source": [
    "# pd.DataFrame(results)\n",
    "len(data.index)"
   ]
  },
  {
   "cell_type": "code",
   "execution_count": null,
   "metadata": {},
   "outputs": [],
   "source": [
    "from gbif import climate\n",
    "import logging"
   ]
  },
  {
   "cell_type": "code",
   "execution_count": null,
   "metadata": {},
   "outputs": [],
   "source": []
  },
  {
   "cell_type": "code",
   "execution_count": null,
   "metadata": {},
   "outputs": [],
   "source": [
    "c= climate.GetClimateData(log_level=logging.DEBUG)"
   ]
  },
  {
   "cell_type": "code",
   "execution_count": null,
   "metadata": {},
   "outputs": [],
   "source": [
    "df = c.get_interpolated_climate_data(\n",
    "    lat_deg=52.33428,\n",
    "    lon_deg=4.544288,\n",
    "    start_date='2022-01-02',\n",
    "    end_date='2022-01-02'\n",
    ")\n",
    "df"
   ]
  },
  {
   "cell_type": "code",
   "execution_count": null,
   "metadata": {},
   "outputs": [],
   "source": [
    "assert df['tavg'].values[0] == 10.6"
   ]
  },
  {
   "cell_type": "code",
   "execution_count": null,
   "metadata": {},
   "outputs": [],
   "source": [
    "from gbif import human_interference\n"
   ]
  },
  {
   "cell_type": "code",
   "execution_count": null,
   "metadata": {},
   "outputs": [],
   "source": [
    "c = human_interference.HumanInterference()"
   ]
  },
  {
   "cell_type": "code",
   "execution_count": null,
   "metadata": {},
   "outputs": [],
   "source": [
    "radiance = c.get_avg_radiance(\n",
    "    lat=52.33428,\n",
    "    lon=4.544288,\n",
    "    date='2022-01-02')\n",
    "\n",
    "assert round(radiance,2) ==11.75"
   ]
  },
  {
   "cell_type": "code",
   "execution_count": null,
   "metadata": {},
   "outputs": [],
   "source": [
    "# from pygbif import occurrences as occ\n",
    "\n",
    "\n",
    "# from pygbif import occurences as occ\n"
   ]
  },
  {
   "cell_type": "code",
   "execution_count": null,
   "metadata": {},
   "outputs": [],
   "source": [
    "from biomos import species\n",
    "c = species.Occurence()\n",
    "\n",
    "data= c.get_occurrences(\n",
    "    eventDate='2022-01-02',\n",
    "    country=\"GB\",\n",
    ")"
   ]
  },
  {
   "cell_type": "markdown",
   "metadata": {},
   "source": []
  },
  {
   "cell_type": "code",
   "execution_count": null,
   "metadata": {},
   "outputs": [],
   "source": [
    "data['key'].values[0] == 3436650793"
   ]
  },
  {
   "cell_type": "code",
   "execution_count": null,
   "metadata": {},
   "outputs": [],
   "source": [
    "from biomos import soil_info\n",
    "\n",
    "c = soil_info.SoilInfo()\n",
    "\n"
   ]
  },
  {
   "cell_type": "code",
   "execution_count": null,
   "metadata": {},
   "outputs": [],
   "source": [
    "x = c.get_soil_info( lat_deg=52.33428,\n",
    "    lon_deg=4.544288,country_code=\"GB\")"
   ]
  },
  {
   "cell_type": "code",
   "execution_count": null,
   "metadata": {},
   "outputs": [],
   "source": [
    "from biomos import land_cover\n",
    "c = land_cover.LandCoverLabel()"
   ]
  },
  {
   "cell_type": "code",
   "execution_count": null,
   "metadata": {},
   "outputs": [],
   "source": [
    "x = c.get_land_cover_data(lat_deg=52.33428,\n",
    "    lon_deg=4.544288, event_date= '2022-04-05T00:00:00Z')"
   ]
  },
  {
   "cell_type": "code",
   "execution_count": null,
   "metadata": {},
   "outputs": [],
   "source": [
    "x[0] == 'trees'"
   ]
  }
 ],
 "metadata": {
  "kernelspec": {
   "display_name": "Python 3.9.13 ('biomos-VRBTzXIz-py3.9')",
   "language": "python",
   "name": "python3"
  },
  "language_info": {
   "codemirror_mode": {
    "name": "ipython",
    "version": 3
   },
   "file_extension": ".py",
   "mimetype": "text/x-python",
   "name": "python",
   "nbconvert_exporter": "python",
   "pygments_lexer": "ipython3",
   "version": "3.9.13"
  },
  "orig_nbformat": 4,
  "vscode": {
   "interpreter": {
    "hash": "5331803a33fcd70e89dde1dcae46bcfa60eb1d61d0e320b09719002ab57b030b"
   }
  }
 },
 "nbformat": 4,
 "nbformat_minor": 2
}
