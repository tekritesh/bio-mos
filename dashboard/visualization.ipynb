{
 "cells": [
  {
   "cell_type": "code",
   "execution_count": 9,
   "id": "4bbd259b",
   "metadata": {
    "ExecuteTime": {
     "end_time": "2022-07-30T20:29:20.458448Z",
     "start_time": "2022-07-30T20:29:20.451538Z"
    }
   },
   "outputs": [],
   "source": [
    "import os \n",
    "import pandas as pd\n",
    "import numpy as np\n",
    "import datetime as dt\n",
    "# import ee\n",
    "# import geemap as geemap\n",
    "from IPython.display import HTML\n",
    "\n",
    "import panel as pn\n",
    "import param\n",
    "import plotly.express as px\n",
    "import plotly.graph_objects as go\n",
    "\n",
    "\n",
    "from meteostat import Point, Daily\n",
    "\n",
    "#pn.extension('plotly')"
   ]
  },
  {
   "cell_type": "code",
   "execution_count": 2,
   "id": "ed832e6c",
   "metadata": {
    "ExecuteTime": {
     "end_time": "2022-07-30T20:29:05.360253Z",
     "start_time": "2022-07-30T20:29:05.017843Z"
    }
   },
   "outputs": [],
   "source": [
    "%load_ext google.cloud.bigquery\n",
    "\n",
    "os.environ['GOOGLE_APPLICATION_CREDENTIALS'] = 'gbif-challenge-deed5b20a659.json' ##change this"
   ]
  },
  {
   "cell_type": "code",
   "execution_count": 3,
   "id": "706a1842",
   "metadata": {
    "ExecuteTime": {
     "end_time": "2022-07-30T20:29:05.389383Z",
     "start_time": "2022-07-30T20:29:05.363470Z"
    }
   },
   "outputs": [],
   "source": [
    "from google.cloud import bigquery\n",
    "\n",
    "client = bigquery.Client()"
   ]
  },
  {
   "cell_type": "code",
   "execution_count": 4,
   "id": "fb0dff55",
   "metadata": {
    "ExecuteTime": {
     "end_time": "2022-07-30T20:29:05.932581Z",
     "start_time": "2022-07-30T20:29:05.925148Z"
    }
   },
   "outputs": [],
   "source": [
    "# %%bigquery df_bq\n",
    "# SELECT\n",
    "#     *\n",
    "# FROM `gbif-challenge.airflow_uploads.gbif_combined`\n",
    "# WHERE DATE(eventDate) = \"2022-04-04\"\n",
    "# ee.Initialize()"
   ]
  },
  {
   "cell_type": "code",
   "execution_count": 5,
   "id": "0d01d8f0",
   "metadata": {
    "ExecuteTime": {
     "end_time": "2022-07-30T20:29:07.146949Z",
     "start_time": "2022-07-30T20:29:07.104060Z"
    }
   },
   "outputs": [
    {
     "data": {
      "text/html": [
       "<div>\n",
       "<style scoped>\n",
       "    .dataframe tbody tr th:only-of-type {\n",
       "        vertical-align: middle;\n",
       "    }\n",
       "\n",
       "    .dataframe tbody tr th {\n",
       "        vertical-align: top;\n",
       "    }\n",
       "\n",
       "    .dataframe thead th {\n",
       "        text-align: right;\n",
       "    }\n",
       "</style>\n",
       "<table border=\"1\" class=\"dataframe\">\n",
       "  <thead>\n",
       "    <tr style=\"text-align: right;\">\n",
       "      <th></th>\n",
       "      <th>key</th>\n",
       "      <th>publishingCountry</th>\n",
       "      <th>basisOfRecord</th>\n",
       "      <th>scientificName</th>\n",
       "      <th>species</th>\n",
       "      <th>genericName</th>\n",
       "      <th>iucnRedListCategory</th>\n",
       "      <th>decimalLongitude</th>\n",
       "      <th>decimalLatitude</th>\n",
       "      <th>coordinateUncertaintyInMeters</th>\n",
       "      <th>eventDate</th>\n",
       "      <th>recordedBy</th>\n",
       "      <th>country</th>\n",
       "      <th>countryCode</th>\n",
       "      <th>date</th>\n",
       "      <th>is_invasive</th>\n",
       "      <th>avg_radiance</th>\n",
       "      <th>avg_deg_urban</th>\n",
       "    </tr>\n",
       "  </thead>\n",
       "  <tbody>\n",
       "    <tr>\n",
       "      <th>0</th>\n",
       "      <td>3031987049</td>\n",
       "      <td>US</td>\n",
       "      <td>HUMAN_OBSERVATION</td>\n",
       "      <td>Chrysocyon brachyurus (Illiger, 1815)</td>\n",
       "      <td>Chrysocyon brachyurus</td>\n",
       "      <td>Chrysocyon</td>\n",
       "      <td>NT</td>\n",
       "      <td>-47.491164</td>\n",
       "      <td>-22.258903</td>\n",
       "      <td>30298.0</td>\n",
       "      <td>2021-01-13T05:07:00</td>\n",
       "      <td>registroscomunitariosderioclarosp</td>\n",
       "      <td>Brazil</td>\n",
       "      <td>BR</td>\n",
       "      <td>2021-01-13</td>\n",
       "      <td>False</td>\n",
       "      <td>1.463336</td>\n",
       "      <td>0.389394</td>\n",
       "    </tr>\n",
       "    <tr>\n",
       "      <th>1</th>\n",
       "      <td>3307456876</td>\n",
       "      <td>US</td>\n",
       "      <td>HUMAN_OBSERVATION</td>\n",
       "      <td>Chrysocyon brachyurus (Illiger, 1815)</td>\n",
       "      <td>Chrysocyon brachyurus</td>\n",
       "      <td>Chrysocyon</td>\n",
       "      <td>NT</td>\n",
       "      <td>-43.628159</td>\n",
       "      <td>-17.983999</td>\n",
       "      <td>587863.0</td>\n",
       "      <td>2021-06-17T13:21:01</td>\n",
       "      <td>Enrico A. R. Tosto</td>\n",
       "      <td>Brazil</td>\n",
       "      <td>BR</td>\n",
       "      <td>2021-06-17</td>\n",
       "      <td>False</td>\n",
       "      <td>0.234009</td>\n",
       "      <td>0.352468</td>\n",
       "    </tr>\n",
       "    <tr>\n",
       "      <th>2</th>\n",
       "      <td>3328022769</td>\n",
       "      <td>US</td>\n",
       "      <td>HUMAN_OBSERVATION</td>\n",
       "      <td>Chrysocyon brachyurus (Illiger, 1815)</td>\n",
       "      <td>Chrysocyon brachyurus</td>\n",
       "      <td>Chrysocyon</td>\n",
       "      <td>NT</td>\n",
       "      <td>-47.509019</td>\n",
       "      <td>-22.525994</td>\n",
       "      <td>30278.0</td>\n",
       "      <td>2021-07-09T17:33:00</td>\n",
       "      <td>mariosoares</td>\n",
       "      <td>Brazil</td>\n",
       "      <td>BR</td>\n",
       "      <td>2021-07-09</td>\n",
       "      <td>False</td>\n",
       "      <td>5.220234</td>\n",
       "      <td>0.820176</td>\n",
       "    </tr>\n",
       "    <tr>\n",
       "      <th>3</th>\n",
       "      <td>3335201455</td>\n",
       "      <td>US</td>\n",
       "      <td>HUMAN_OBSERVATION</td>\n",
       "      <td>Chrysocyon brachyurus (Illiger, 1815)</td>\n",
       "      <td>Chrysocyon brachyurus</td>\n",
       "      <td>Chrysocyon</td>\n",
       "      <td>NT</td>\n",
       "      <td>-46.934391</td>\n",
       "      <td>-21.306569</td>\n",
       "      <td>30396.0</td>\n",
       "      <td>2021-07-18T06:34:00</td>\n",
       "      <td>CRISTINA RAPPA</td>\n",
       "      <td>Brazil</td>\n",
       "      <td>BR</td>\n",
       "      <td>2021-07-18</td>\n",
       "      <td>False</td>\n",
       "      <td>1.010773</td>\n",
       "      <td>0.391316</td>\n",
       "    </tr>\n",
       "    <tr>\n",
       "      <th>4</th>\n",
       "      <td>3773393229</td>\n",
       "      <td>US</td>\n",
       "      <td>HUMAN_OBSERVATION</td>\n",
       "      <td>Chrysocyon brachyurus (Illiger, 1815)</td>\n",
       "      <td>Chrysocyon brachyurus</td>\n",
       "      <td>Chrysocyon</td>\n",
       "      <td>NT</td>\n",
       "      <td>-46.874809</td>\n",
       "      <td>-21.219875</td>\n",
       "      <td>30396.0</td>\n",
       "      <td>2021-07-18T19:34:00</td>\n",
       "      <td>ademircarosia</td>\n",
       "      <td>Brazil</td>\n",
       "      <td>BR</td>\n",
       "      <td>2021-07-18</td>\n",
       "      <td>False</td>\n",
       "      <td>0.943412</td>\n",
       "      <td>0.683220</td>\n",
       "    </tr>\n",
       "  </tbody>\n",
       "</table>\n",
       "</div>"
      ],
      "text/plain": [
       "          key publishingCountry      basisOfRecord  \\\n",
       "0  3031987049                US  HUMAN_OBSERVATION   \n",
       "1  3307456876                US  HUMAN_OBSERVATION   \n",
       "2  3328022769                US  HUMAN_OBSERVATION   \n",
       "3  3335201455                US  HUMAN_OBSERVATION   \n",
       "4  3773393229                US  HUMAN_OBSERVATION   \n",
       "\n",
       "                          scientificName                species genericName  \\\n",
       "0  Chrysocyon brachyurus (Illiger, 1815)  Chrysocyon brachyurus  Chrysocyon   \n",
       "1  Chrysocyon brachyurus (Illiger, 1815)  Chrysocyon brachyurus  Chrysocyon   \n",
       "2  Chrysocyon brachyurus (Illiger, 1815)  Chrysocyon brachyurus  Chrysocyon   \n",
       "3  Chrysocyon brachyurus (Illiger, 1815)  Chrysocyon brachyurus  Chrysocyon   \n",
       "4  Chrysocyon brachyurus (Illiger, 1815)  Chrysocyon brachyurus  Chrysocyon   \n",
       "\n",
       "  iucnRedListCategory  decimalLongitude  decimalLatitude  \\\n",
       "0                  NT        -47.491164       -22.258903   \n",
       "1                  NT        -43.628159       -17.983999   \n",
       "2                  NT        -47.509019       -22.525994   \n",
       "3                  NT        -46.934391       -21.306569   \n",
       "4                  NT        -46.874809       -21.219875   \n",
       "\n",
       "   coordinateUncertaintyInMeters            eventDate  \\\n",
       "0                        30298.0  2021-01-13T05:07:00   \n",
       "1                       587863.0  2021-06-17T13:21:01   \n",
       "2                        30278.0  2021-07-09T17:33:00   \n",
       "3                        30396.0  2021-07-18T06:34:00   \n",
       "4                        30396.0  2021-07-18T19:34:00   \n",
       "\n",
       "                          recordedBy country countryCode        date  \\\n",
       "0  registroscomunitariosderioclarosp  Brazil          BR  2021-01-13   \n",
       "1                 Enrico A. R. Tosto  Brazil          BR  2021-06-17   \n",
       "2                        mariosoares  Brazil          BR  2021-07-09   \n",
       "3                     CRISTINA RAPPA  Brazil          BR  2021-07-18   \n",
       "4                      ademircarosia  Brazil          BR  2021-07-18   \n",
       "\n",
       "   is_invasive  avg_radiance  avg_deg_urban  \n",
       "0        False      1.463336       0.389394  \n",
       "1        False      0.234009       0.352468  \n",
       "2        False      5.220234       0.820176  \n",
       "3        False      1.010773       0.391316  \n",
       "4        False      0.943412       0.683220  "
      ]
     },
     "execution_count": 5,
     "metadata": {},
     "output_type": "execute_result"
    }
   ],
   "source": [
    "df = pd.read_csv('human_interference_sample.csv')\n",
    "df.head()"
   ]
  },
  {
   "cell_type": "code",
   "execution_count": 20,
   "id": "e49b7f95",
   "metadata": {
    "ExecuteTime": {
     "end_time": "2022-07-30T23:41:44.656647Z",
     "start_time": "2022-07-30T23:41:44.273792Z"
    }
   },
   "outputs": [
    {
     "name": "stderr",
     "output_type": "stream",
     "text": [
      "WARNING:param.Update Plots: Setting non-parameter attribute color=blue using a mechanism intended only for parameters\n"
     ]
    },
    {
     "name": "stdout",
     "output_type": "stream",
     "text": [
      "0    2021-01-13T05:07:00\n",
      "Name: eventDate, dtype: object\n"
     ]
    },
    {
     "data": {
      "text/plain": [
       "Watcher(inst=Button(name='Update Plots', width=200), cls=<class 'panel.widgets.button.Button'>, fn=<function fetch_data at 0x7ff58b987550>, mode='args', onlychanged=False, parameter_names=('clicks',), what='value', queued=False, precedence=0)"
      ]
     },
     "execution_count": 20,
     "metadata": {},
     "output_type": "execute_result"
    }
   ],
   "source": [
    "#### all the filter widgets we need\n",
    "latitude = pn.widgets.FloatInput(name='Latitude', value=5., step=1e-1, \n",
    "                                 start=min(df.decimalLatitude), end=max(df.decimalLatitude), width=150)\n",
    "longitude = pn.widgets.FloatInput(name='Longitude', value=5., step=1e-1,\n",
    "                                  start=min(df.decimalLongitude), end=min(df.decimalLongitude), width=150)\n",
    "species = pn.widgets.Select(name='Species', options=list(df.species.unique()))\n",
    "\n",
    "event_date = pn.widgets.DateRangeSlider(\n",
    "    name='Date Range',\n",
    "    start=min(pd.to_datetime(df['eventDate'])), end=max(pd.to_datetime(df['eventDate'])),\n",
    "    value=(dt.datetime(2021, 1, 1), dt.datetime(2021, 12, 1)),\n",
    ")\n",
    "\n",
    "country = pn.widgets.Select(name='Country', options=list(df.country.unique()))\n",
    "\n",
    "button = pn.widgets.Button(name='Update Plots', width= 200, button_type='success')\n",
    "\n",
    "\n",
    "#### all our plot functions\n",
    "### the world map view of occurrence data\n",
    "def occ_plot(df=df):\n",
    "    fig = px.scatter_geo(df, lat=\"decimalLatitude\", lon='decimalLongitude', color='species')\n",
    "    ## making the background transparent below\n",
    "    fig.update_layout({\n",
    "    'plot_bgcolor': 'rgba(0, 0, 0, 0)',\n",
    "    'paper_bgcolor': 'rgba(0, 0, 0, 0)'\n",
    "    },\n",
    "    margin=dict(t=0, b=0, l=0, r=0))\n",
    "    return fig\n",
    "\n",
    "## create the world scatter plot\n",
    "plot_scatter = pn.pane.Plotly(occ_plot())\n",
    "\n",
    "\n",
    "## function for creating the treemap to show specific point wise values \n",
    "def create_cards(df, query=None):\n",
    "    if query:\n",
    "        ## filter the dataframe to the selected point\n",
    "        df = df.query(query)\n",
    "        df = pd.melt(df, value_vars=['avg_radiance', 'is_invasive', 'avg_deg_urban'])\n",
    "        fig = px.treemap(df, path=['variable'], values='value')\n",
    "        fig.data[0].textinfo = 'label+value'\n",
    "\n",
    "        level = 1 # write the number of the last level you have\n",
    "        lvl_clr = \"#5cb25d\"\n",
    "        font_clr = \"black\"\n",
    "\n",
    "        fig.data[0]['marker']['colors'] =[lvl_clr for sector in fig.data[0]['ids'] if len(sector.split(\"/\")) == level]\n",
    "        fig.data[0]['textfont']['color'] = [font_clr  for sector in fig.data[0]['ids'] if len(sector.split(\"/\")) == level]\n",
    "\n",
    "        fig.data[0]['textfont']['size'] = 30\n",
    "        return  fig\n",
    "\n",
    "\n",
    "###instantiate the cards plot\n",
    "plot_cards = pn.pane.Plotly(create_cards(df, f'decimalLatitude == -22.258903'), width=400, height=400)\n",
    "\n",
    "\n",
    "## function for creating the treemap to show specific point wise values \n",
    "def create_trends(df, query=None):\n",
    "    if query:\n",
    "        ## filter the dataframe to the selected point\n",
    "        df = df.query(query)\n",
    "        \n",
    "        print(df.eventDate)\n",
    "        start = dt.datetime(2018, 1, 1)\n",
    "        end = dt.datetime(2018, 12, 31)\n",
    "\n",
    "        # Create Point for Vancouver, BC\n",
    "#         pt = Point(df.loc[0,'decimalLatitude'], df.loc[0,'decimalLongitude'], 0)\n",
    "        pt = Point(53.033981, -1.380991, 0)\n",
    "\n",
    "        # Get daily data for 2018\n",
    "        data = Daily(pt, start, end)\n",
    "        data = data.fetch().reset_index(level=0)\n",
    "        if data.shape[0] > 0:\n",
    "            fig = px.line(data, x='time', y='tavg', template='plotly_white',\n",
    "                          title='Climate Covariates')\n",
    "            fig.update_layout(width=600)\n",
    "            return  fig\n",
    "\n",
    "\n",
    "###instantiate the cards plot\n",
    "plot_trends = pn.pane.Plotly(create_trends(df, f'decimalLatitude == -22.258903'), width=400, height=400)\n",
    "\n",
    "## display data, can delete\n",
    "cols = ['decimalLatitude','decimalLongitude', 'eventDate', 'species']\n",
    "display_data = pn.widgets.DataFrame(df[cols].head(20))\n",
    "\n",
    "## dependent hidden function to run when a point is clicked in the plot_scatter\n",
    "@pn.depends(plot_scatter.param.click_data, watch=True)\n",
    "def _update_after_click_on_1(click_data):\n",
    "    if click_data !=None:\n",
    "        lat = click_data['points'][0]['lat']\n",
    "        lon = click_data['points'][0]['lon']\n",
    "        plot_cards.object = create_cards(df, f'decimalLatitude == {lat}')\n",
    "\n",
    "\n",
    "def query(start=\"2022-04-04\", end=\"2022-04-04\"):\n",
    "    sql = f\"\"\"\n",
    "    SELECT\n",
    "        *\n",
    "    FROM `gbif-challenge.airflow_uploads.gbif_combined`\n",
    "    WHERE DATE(eventDate) BETWEEN \"{start}\" AND \"{end}\"\n",
    "    \"\"\"\n",
    "    bq = client.query(sql).to_dataframe() \n",
    "    return bq\n",
    "    \n",
    "def fetch_data(start=\"2022-04-04\", end=\"2022-04-04\"):\n",
    "    global df, cols\n",
    "    if button.clicks > 0:\n",
    "        bq = query(event_date.value[0].strftime('%Y-%m-%d'), event_date.value[0].strftime('%Y-%m-%d')) ###change this to 1\n",
    "        df = bq.copy()\n",
    "        plot_scatter.object = occ_plot(df)\n",
    "        plot_cards.object = create_cards(df, f\"decimalLatitude == {df.loc[0,'decimalLatitude']}\")\n",
    "        plot_trends.object = create_trends(df, f\"decimalLatitude == {df.loc[0,'decimalLatitude']}\")\n",
    "\n",
    "        plot_species.object = species_counts(df)\n",
    "        display_data.value = df[cols]\n",
    "        \n",
    "### placeholder histogram plot of species counts\n",
    "def species_counts(df=df):\n",
    "    fig = px.histogram(df, y=\"species\",color_discrete_sequence=['#5cb25d'])\n",
    "    fig.update_layout({\n",
    "    'plot_bgcolor': 'rgba(0, 0, 0, 0)',\n",
    "    'paper_bgcolor': 'rgba(0, 0, 0, 0)',\n",
    "    })\n",
    "    return fig\n",
    "    \n",
    "plot_species = pn.pane.Plotly(species_counts())\n",
    "\n",
    "\n",
    "button.on_click(fetch_data)"
   ]
  },
  {
   "cell_type": "code",
   "execution_count": 34,
   "id": "fcceb92a",
   "metadata": {
    "ExecuteTime": {
     "end_time": "2022-07-30T06:57:02.771798Z",
     "start_time": "2022-07-30T06:56:57.883218Z"
    }
   },
   "outputs": [],
   "source": [
    "## The main template to render, sidebar for text\n",
    "\n",
    "template = pn.template.FastGridTemplate(\n",
    "    title=\"🌏 GBIF Powered by Covariates\",\n",
    "#     sidebar=[\"We are interested bleh bleh bleh\",\n",
    "#              pn.pane.Markdown(\"## Select Filters\"), latitude, longitude,\n",
    "#              '', event_date, '', species, '', country, button],\n",
    "    header = ['<a href=\"https://github.com/tekritesh/bio-conservation/tree/main\">About</a>'],\n",
    "    sidebar=[\"\"\"We are interested bleh bleh bleh.\\n We will hunt you down if you harm ANY flora or fauna.\"\"\"],\n",
    "    accent = '#5cb25d', sidebar_width = 280, background_color = '#f5f5f5',\n",
    "    neutral_color = '#ffffff',\n",
    "    corner_radius = 15\n",
    ")\n",
    "\n",
    "### specify which portion of the main page grid you want to place a plot in\n",
    "\n",
    "template.main[:1, :] = pn.Row(pn.Column(latitude, longitude),\n",
    "                              event_date,\n",
    "                              pn.Column(species, country),\n",
    "                              pn.Column('<br>',button))\n",
    "\n",
    "template.main[1:4, :6]=pn.Tabs(('GBIF',pn.Column(plot_scatter)),\n",
    "                              ('Radiance', pn.pane.HTML(HTML('map1.html'), width=600)), dynamic=True)\n",
    "\n",
    "template.main[1:4, 6:12] = pn.Column(plot_cards)\n",
    "\n",
    "template.main[4:7, :6]= pn.Column('### Species Counts', plot_species, height=400)\n",
    "template.main[4:7, 6:12]= pn.Column(display_data, height=400)\n",
    "\n",
    "template.main[7:10, :6] = pn.Column(plot_trends)\n",
    "\n",
    "\n",
    "\n",
    "###color examples\n",
    "##77cb\n",
    "#'#faad55'\n",
    "#'#f0a3bc'\n",
    "#a18dd6"
   ]
  },
  {
   "cell_type": "code",
   "execution_count": null,
   "id": "b29b2b08",
   "metadata": {
    "ExecuteTime": {
     "end_time": "2022-07-29T05:04:33.293854Z",
     "start_time": "2022-07-29T05:04:33.287170Z"
    }
   },
   "outputs": [],
   "source": [
    "## tells the terminal command to run the template variable as a dashboard\n",
    "\n",
    "template.servable();"
   ]
  },
  {
   "cell_type": "code",
   "execution_count": null,
   "id": "f06f2f6d",
   "metadata": {},
   "outputs": [],
   "source": [
    "####extra code\n",
    "\n",
    "# center_lat = -3.497341\n",
    "# center_lon = 38.642394\n",
    "\n",
    "# zoomlevel=15\n",
    "\n",
    "# get December image, we're using the \"avg_rad\" band\n",
    "# viirs2020_01 = ee.ImageCollection(\"NOAA/VIIRS/DNB/MONTHLY_V1/VCMSLCFG\").filterDate(\"2022-01-01\",\"2022-01-31\").select('avg_rad').median()\n",
    "\n",
    "\n",
    "# initialize our map\n",
    "# map1 = geemap.Map()\n",
    "# map1.addLayer(viirs2020_01, {}, \"VIIRS-DNB\")\n",
    "#map1.to_html('map1.html')\n",
    "\n",
    "# def get_map(lat=20.5936832, long=78.962883, zoom_start=5):\n",
    "#     mm = fm.Map(location=[lat,long], zoom_start=zoom_start)\n",
    "#     return mm\n",
    "\n",
    "# map = get_map()\n",
    "\n",
    "\n",
    "# @pn.depends(button.param.clicks, watch=True)\n",
    "# def fetch_data(clicks,start=\"2022-04-04\", end=\"2022-04-04\"):\n",
    "#     ##de = \"2022-04-04\"\\\n",
    "#     #end = event_date.value[0].strftime('%Y-%m-%d')\n",
    "#     cols = ['decimalLatitude','decimalLongitude', 'eventDate', 'species']\n",
    "#     if clicks > 0:\n",
    "#         global df\n",
    "#         sql = f\"\"\"\n",
    "#         SELECT\n",
    "#             *\n",
    "#         FROM `gbif-challenge.airflow_uploads.gbif_combined`\n",
    "#         WHERE DATE(eventDate) BETWEEN \"{start}\" AND \"{end}\"\n",
    "#         \"\"\"\n",
    "#         bq = client.query(sql).to_dataframe() \n",
    "#         plot_scatter.object = occ_plot(bq)\n",
    "#         plot_cards.object = create_cards(bq, f\"decimalLatitude == {bq.loc[0,'decimalLatitude']}\")\n",
    "#         plot_species.object = species_counts(bq)\n",
    "#         df = bq.copy()\n",
    "#         return pn.widgets.DataFrame(df[cols].head(20))\n",
    "    "
   ]
  },
  {
   "cell_type": "code",
   "execution_count": 19,
   "id": "d24564f0",
   "metadata": {
    "ExecuteTime": {
     "end_time": "2022-07-30T21:56:26.536853Z",
     "start_time": "2022-07-30T21:56:25.439210Z"
    }
   },
   "outputs": [
    {
     "name": "stderr",
     "output_type": "stream",
     "text": [
      "/Users/advikabattini/anaconda/envs/gbif/lib/python3.8/site-packages/meteostat/core/warn.py:32: Warning:\n",
      "\n",
      "Cannot load daily/EGXN0.csv.gz from https://bulk.meteostat.net/v2/\n",
      "\n"
     ]
    },
    {
     "data": {
      "application/vnd.plotly.v1+json": {
       "config": {
        "plotlyServerURL": "https://plot.ly"
       },
       "data": [
        {
         "hovertemplate": "time=%{x}<br>tavg=%{y}<extra></extra>",
         "legendgroup": "",
         "line": {
          "color": "#636efa",
          "dash": "solid"
         },
         "marker": {
          "symbol": "circle"
         },
         "mode": "lines",
         "name": "",
         "orientation": "v",
         "showlegend": false,
         "type": "scatter",
         "x": [
          "2018-01-04T00:00:00",
          "2018-01-05T00:00:00",
          "2018-01-06T00:00:00",
          "2018-01-07T00:00:00",
          "2018-01-08T00:00:00",
          "2018-01-09T00:00:00",
          "2018-01-10T00:00:00",
          "2018-01-11T00:00:00",
          "2018-01-12T00:00:00",
          "2018-01-13T00:00:00",
          "2018-01-14T00:00:00",
          "2018-01-15T00:00:00",
          "2018-01-16T00:00:00",
          "2018-01-17T00:00:00",
          "2018-01-18T00:00:00",
          "2018-01-19T00:00:00",
          "2018-01-20T00:00:00",
          "2018-01-21T00:00:00",
          "2018-01-22T00:00:00",
          "2018-01-23T00:00:00",
          "2018-01-24T00:00:00",
          "2018-01-25T00:00:00",
          "2018-01-26T00:00:00",
          "2018-01-27T00:00:00",
          "2018-01-28T00:00:00",
          "2018-01-29T00:00:00",
          "2018-01-30T00:00:00",
          "2018-01-31T00:00:00",
          "2018-02-01T00:00:00",
          "2018-02-02T00:00:00",
          "2018-02-03T00:00:00",
          "2018-02-04T00:00:00",
          "2018-02-05T00:00:00",
          "2018-02-06T00:00:00",
          "2018-02-07T00:00:00",
          "2018-02-08T00:00:00",
          "2018-02-09T00:00:00",
          "2018-02-10T00:00:00",
          "2018-02-11T00:00:00",
          "2018-02-12T00:00:00",
          "2018-02-13T00:00:00",
          "2018-02-14T00:00:00",
          "2018-02-15T00:00:00",
          "2018-02-16T00:00:00",
          "2018-02-17T00:00:00",
          "2018-02-18T00:00:00",
          "2018-02-19T00:00:00",
          "2018-02-20T00:00:00",
          "2018-02-21T00:00:00",
          "2018-02-22T00:00:00",
          "2018-02-23T00:00:00",
          "2018-02-24T00:00:00",
          "2018-02-25T00:00:00",
          "2018-02-26T00:00:00",
          "2018-02-27T00:00:00",
          "2018-02-28T00:00:00",
          "2018-03-01T00:00:00",
          "2018-03-02T00:00:00",
          "2018-03-03T00:00:00",
          "2018-03-04T00:00:00",
          "2018-03-05T00:00:00",
          "2018-03-06T00:00:00",
          "2018-03-07T00:00:00",
          "2018-03-08T00:00:00",
          "2018-03-09T00:00:00",
          "2018-03-10T00:00:00",
          "2018-03-11T00:00:00",
          "2018-03-12T00:00:00",
          "2018-03-13T00:00:00",
          "2018-03-14T00:00:00",
          "2018-03-15T00:00:00",
          "2018-03-16T00:00:00",
          "2018-03-17T00:00:00",
          "2018-03-18T00:00:00",
          "2018-03-19T00:00:00",
          "2018-03-20T00:00:00",
          "2018-03-21T00:00:00",
          "2018-03-22T00:00:00",
          "2018-03-23T00:00:00",
          "2018-03-24T00:00:00",
          "2018-03-25T00:00:00",
          "2018-03-26T00:00:00",
          "2018-03-27T00:00:00",
          "2018-03-28T00:00:00",
          "2018-03-29T00:00:00",
          "2018-03-30T00:00:00",
          "2018-03-31T00:00:00",
          "2018-04-01T00:00:00",
          "2018-04-02T00:00:00",
          "2018-04-03T00:00:00",
          "2018-04-04T00:00:00",
          "2018-04-05T00:00:00",
          "2018-04-06T00:00:00",
          "2018-04-07T00:00:00",
          "2018-04-08T00:00:00",
          "2018-04-09T00:00:00",
          "2018-04-10T00:00:00",
          "2018-04-11T00:00:00",
          "2018-04-12T00:00:00",
          "2018-04-13T00:00:00",
          "2018-04-14T00:00:00",
          "2018-04-15T00:00:00",
          "2018-04-16T00:00:00",
          "2018-04-17T00:00:00",
          "2018-04-18T00:00:00",
          "2018-04-19T00:00:00",
          "2018-04-20T00:00:00",
          "2018-04-21T00:00:00",
          "2018-04-22T00:00:00",
          "2018-04-23T00:00:00",
          "2018-04-24T00:00:00",
          "2018-04-25T00:00:00",
          "2018-04-26T00:00:00",
          "2018-04-27T00:00:00",
          "2018-04-28T00:00:00",
          "2018-04-29T00:00:00",
          "2018-04-30T00:00:00",
          "2018-05-01T00:00:00",
          "2018-05-02T00:00:00",
          "2018-05-03T00:00:00",
          "2018-05-04T00:00:00",
          "2018-05-05T00:00:00",
          "2018-05-06T00:00:00",
          "2018-05-07T00:00:00",
          "2018-05-08T00:00:00",
          "2018-05-09T00:00:00",
          "2018-05-10T00:00:00",
          "2018-05-11T00:00:00",
          "2018-05-12T00:00:00",
          "2018-05-13T00:00:00",
          "2018-05-14T00:00:00",
          "2018-05-15T00:00:00",
          "2018-05-16T00:00:00",
          "2018-05-17T00:00:00",
          "2018-05-18T00:00:00",
          "2018-05-19T00:00:00",
          "2018-05-20T00:00:00",
          "2018-05-21T00:00:00",
          "2018-05-22T00:00:00",
          "2018-05-23T00:00:00",
          "2018-05-24T00:00:00",
          "2018-05-25T00:00:00",
          "2018-05-26T00:00:00",
          "2018-05-27T00:00:00",
          "2018-05-28T00:00:00",
          "2018-05-29T00:00:00",
          "2018-05-30T00:00:00",
          "2018-05-31T00:00:00",
          "2018-06-01T00:00:00",
          "2018-06-02T00:00:00",
          "2018-06-03T00:00:00",
          "2018-06-04T00:00:00",
          "2018-06-05T00:00:00",
          "2018-06-06T00:00:00",
          "2018-06-07T00:00:00",
          "2018-06-08T00:00:00",
          "2018-06-09T00:00:00",
          "2018-06-10T00:00:00",
          "2018-06-11T00:00:00",
          "2018-06-12T00:00:00",
          "2018-06-13T00:00:00",
          "2018-06-14T00:00:00",
          "2018-06-15T00:00:00",
          "2018-06-16T00:00:00",
          "2018-06-17T00:00:00",
          "2018-06-18T00:00:00",
          "2018-06-19T00:00:00",
          "2018-06-20T00:00:00",
          "2018-06-21T00:00:00",
          "2018-06-22T00:00:00",
          "2018-06-23T00:00:00",
          "2018-06-24T00:00:00",
          "2018-06-25T00:00:00",
          "2018-06-26T00:00:00",
          "2018-06-27T00:00:00",
          "2018-06-28T00:00:00",
          "2018-06-29T00:00:00",
          "2018-06-30T00:00:00",
          "2018-07-01T00:00:00",
          "2018-07-02T00:00:00",
          "2018-07-03T00:00:00",
          "2018-07-04T00:00:00",
          "2018-07-05T00:00:00",
          "2018-07-06T00:00:00",
          "2018-07-07T00:00:00",
          "2018-07-08T00:00:00",
          "2018-07-09T00:00:00",
          "2018-07-10T00:00:00",
          "2018-07-11T00:00:00",
          "2018-07-12T00:00:00",
          "2018-07-13T00:00:00",
          "2018-07-14T00:00:00",
          "2018-07-15T00:00:00",
          "2018-07-16T00:00:00",
          "2018-07-17T00:00:00",
          "2018-07-18T00:00:00",
          "2018-07-19T00:00:00",
          "2018-07-20T00:00:00",
          "2018-07-21T00:00:00",
          "2018-07-22T00:00:00",
          "2018-07-23T00:00:00",
          "2018-07-24T00:00:00",
          "2018-07-25T00:00:00",
          "2018-07-26T00:00:00",
          "2018-07-27T00:00:00",
          "2018-07-28T00:00:00",
          "2018-07-29T00:00:00",
          "2018-07-30T00:00:00",
          "2018-07-31T00:00:00",
          "2018-08-01T00:00:00",
          "2018-08-02T00:00:00",
          "2018-08-03T00:00:00",
          "2018-08-04T00:00:00",
          "2018-08-05T00:00:00",
          "2018-08-06T00:00:00",
          "2018-08-07T00:00:00",
          "2018-08-08T00:00:00",
          "2018-08-09T00:00:00",
          "2018-08-10T00:00:00",
          "2018-08-11T00:00:00",
          "2018-08-12T00:00:00",
          "2018-08-13T00:00:00",
          "2018-08-14T00:00:00",
          "2018-08-15T00:00:00",
          "2018-08-16T00:00:00",
          "2018-08-17T00:00:00",
          "2018-08-18T00:00:00",
          "2018-08-19T00:00:00",
          "2018-08-20T00:00:00",
          "2018-08-21T00:00:00",
          "2018-08-22T00:00:00",
          "2018-08-23T00:00:00",
          "2018-08-24T00:00:00",
          "2018-08-25T00:00:00",
          "2018-08-26T00:00:00",
          "2018-08-27T00:00:00",
          "2018-08-28T00:00:00",
          "2018-08-29T00:00:00",
          "2018-08-30T00:00:00",
          "2018-08-31T00:00:00",
          "2018-09-01T00:00:00",
          "2018-09-02T00:00:00",
          "2018-09-03T00:00:00",
          "2018-09-04T00:00:00",
          "2018-09-05T00:00:00",
          "2018-09-06T00:00:00",
          "2018-09-07T00:00:00",
          "2018-09-08T00:00:00",
          "2018-09-09T00:00:00",
          "2018-09-10T00:00:00",
          "2018-09-11T00:00:00",
          "2018-09-12T00:00:00",
          "2018-09-13T00:00:00",
          "2018-09-14T00:00:00",
          "2018-09-15T00:00:00",
          "2018-09-16T00:00:00",
          "2018-09-17T00:00:00",
          "2018-09-18T00:00:00",
          "2018-09-19T00:00:00",
          "2018-09-20T00:00:00",
          "2018-09-21T00:00:00",
          "2018-09-22T00:00:00",
          "2018-09-23T00:00:00",
          "2018-09-24T00:00:00",
          "2018-09-25T00:00:00",
          "2018-09-26T00:00:00",
          "2018-09-27T00:00:00",
          "2018-09-28T00:00:00",
          "2018-09-29T00:00:00",
          "2018-09-30T00:00:00",
          "2018-10-01T00:00:00",
          "2018-10-02T00:00:00",
          "2018-10-03T00:00:00",
          "2018-10-04T00:00:00",
          "2018-10-05T00:00:00",
          "2018-10-06T00:00:00",
          "2018-10-07T00:00:00",
          "2018-10-08T00:00:00",
          "2018-10-09T00:00:00",
          "2018-10-10T00:00:00",
          "2018-10-11T00:00:00",
          "2018-10-12T00:00:00",
          "2018-10-13T00:00:00",
          "2018-10-14T00:00:00",
          "2018-10-15T00:00:00",
          "2018-10-16T00:00:00",
          "2018-10-17T00:00:00",
          "2018-10-18T00:00:00",
          "2018-10-19T00:00:00",
          "2018-10-20T00:00:00",
          "2018-10-21T00:00:00",
          "2018-10-22T00:00:00",
          "2018-10-23T00:00:00",
          "2018-10-24T00:00:00",
          "2018-10-25T00:00:00",
          "2018-10-26T00:00:00",
          "2018-10-27T00:00:00",
          "2018-10-28T00:00:00",
          "2018-10-29T00:00:00",
          "2018-10-30T00:00:00",
          "2018-10-31T00:00:00",
          "2018-11-01T00:00:00",
          "2018-11-02T00:00:00",
          "2018-11-03T00:00:00",
          "2018-11-04T00:00:00",
          "2018-11-05T00:00:00",
          "2018-11-06T00:00:00",
          "2018-11-07T00:00:00",
          "2018-11-08T00:00:00",
          "2018-11-09T00:00:00",
          "2018-11-10T00:00:00",
          "2018-11-11T00:00:00",
          "2018-11-12T00:00:00",
          "2018-11-13T00:00:00",
          "2018-11-14T00:00:00",
          "2018-11-15T00:00:00",
          "2018-11-16T00:00:00",
          "2018-11-17T00:00:00",
          "2018-11-18T00:00:00",
          "2018-11-19T00:00:00",
          "2018-11-20T00:00:00",
          "2018-11-21T00:00:00",
          "2018-11-22T00:00:00",
          "2018-11-23T00:00:00",
          "2018-11-24T00:00:00",
          "2018-11-25T00:00:00",
          "2018-11-26T00:00:00",
          "2018-11-27T00:00:00",
          "2018-11-28T00:00:00",
          "2018-11-29T00:00:00",
          "2018-11-30T00:00:00",
          "2018-12-01T00:00:00",
          "2018-12-02T00:00:00",
          "2018-12-03T00:00:00",
          "2018-12-04T00:00:00",
          "2018-12-05T00:00:00",
          "2018-12-06T00:00:00",
          "2018-12-07T00:00:00",
          "2018-12-08T00:00:00",
          "2018-12-09T00:00:00",
          "2018-12-10T00:00:00",
          "2018-12-11T00:00:00",
          "2018-12-12T00:00:00",
          "2018-12-13T00:00:00",
          "2018-12-14T00:00:00",
          "2018-12-15T00:00:00",
          "2018-12-16T00:00:00",
          "2018-12-17T00:00:00",
          "2018-12-18T00:00:00",
          "2018-12-19T00:00:00",
          "2018-12-20T00:00:00",
          "2018-12-21T00:00:00",
          "2018-12-22T00:00:00",
          "2018-12-23T00:00:00",
          "2018-12-24T00:00:00",
          "2018-12-25T00:00:00",
          "2018-12-26T00:00:00",
          "2018-12-27T00:00:00",
          "2018-12-28T00:00:00",
          "2018-12-29T00:00:00",
          "2018-12-30T00:00:00",
          "2018-12-31T00:00:00"
         ],
         "xaxis": "x",
         "y": [
          7.2,
          null,
          2.7,
          null,
          null,
          null,
          6.6,
          5.9,
          6.2,
          5.5,
          null,
          null,
          null,
          3.7,
          5.1,
          null,
          1.6,
          1.6,
          null,
          null,
          8.7,
          5.8,
          4.2,
          7.2,
          10.9,
          8.6,
          4,
          5.2,
          4.8,
          4.7,
          2.6,
          3.3,
          2,
          null,
          null,
          4,
          4.6,
          4.4,
          3.6,
          2.4,
          3,
          2.3,
          6.1,
          4.1,
          5.1,
          6.1,
          8.8,
          7.9,
          5.6,
          2.1,
          0.8,
          2.4,
          0.9,
          -0.2,
          -1.1,
          -4,
          -3.4,
          -0.9,
          -0.4,
          3.1,
          6.2,
          5.9,
          4.5,
          4.7,
          4.8,
          10.3,
          7.9,
          6.3,
          7,
          7.6,
          8.1,
          7.4,
          0.1,
          -0.9,
          2,
          4,
          4.8,
          8.2,
          8.7,
          7.5,
          null,
          7.7,
          7.9,
          6.3,
          4.9,
          5.7,
          4.9,
          4,
          5.8,
          10.3,
          8.7,
          6.9,
          9.2,
          10.5,
          9.4,
          8.5,
          7.5,
          6.9,
          5.9,
          7.7,
          11.9,
          10.4,
          11.6,
          12.7,
          17.4,
          19,
          16.2,
          15,
          15.9,
          11.5,
          11.2,
          9.7,
          10,
          7.2,
          7.2,
          7.1,
          7.1,
          9,
          9.8,
          10.4,
          13.2,
          16.1,
          17.9,
          19.4,
          16.9,
          13,
          11.7,
          12,
          12.7,
          13.1,
          14.5,
          16.4,
          12.4,
          null,
          null,
          14.8,
          16.3,
          16.4,
          14.5,
          13,
          13.4,
          12.7,
          15.8,
          17.4,
          17.2,
          15.6,
          14.3,
          17.1,
          18.1,
          18,
          19.1,
          15.4,
          null,
          13.4,
          14.4,
          13.9,
          14.4,
          15.2,
          17.4,
          14.8,
          16.5,
          16.9,
          15.2,
          15,
          15.1,
          17.9,
          18.9,
          18.2,
          14.3,
          15.9,
          15.8,
          18,
          21.2,
          20.1,
          17.3,
          18.3,
          null,
          19,
          20,
          19.8,
          17.7,
          18.1,
          22.1,
          21.5,
          22.1,
          22.8,
          19.8,
          17.9,
          17.5,
          17.5,
          18.1,
          20.5,
          21.6,
          21.2,
          18.2,
          19.4,
          21.2,
          18.5,
          19,
          19.9,
          24.1,
          21.8,
          20.5,
          23.9,
          24.1,
          17.4,
          16.7,
          18.7,
          18.5,
          18.3,
          21.7,
          21.7,
          20.2,
          21.2,
          22,
          21.5,
          17.9,
          16.7,
          14.1,
          15.6,
          17.2,
          18.6,
          17.9,
          19.6,
          17.3,
          15.4,
          19.1,
          19.3,
          19.6,
          20.5,
          19.6,
          15.2,
          11.9,
          13.6,
          12.8,
          15.5,
          16,
          15.8,
          14.5,
          14.4,
          16.9,
          19.7,
          18,
          13.9,
          15.2,
          12.5,
          11.8,
          13.6,
          16,
          14.9,
          16.5,
          13.1,
          12.9,
          13.6,
          13.9,
          16.7,
          18.6,
          18.8,
          16.8,
          14.2,
          11.5,
          10.2,
          10.6,
          10.3,
          10.7,
          15.5,
          16.9,
          11.1,
          10.4,
          10,
          9.5,
          13.5,
          13.8,
          14.9,
          13.9,
          8,
          7.9,
          13,
          14.8,
          15.6,
          16.3,
          16.1,
          20,
          11.7,
          9.8,
          13,
          13.2,
          9.8,
          8.8,
          11.6,
          12.5,
          9.4,
          11.7,
          12.1,
          11.2,
          8.6,
          4.4,
          5.6,
          4,
          5.8,
          6.4,
          7.9,
          6,
          10.4,
          10.7,
          9.8,
          12.2,
          11.8,
          9.4,
          9.4,
          9.9,
          9.4,
          10,
          10,
          11.8,
          12.2,
          11.6,
          8.2,
          6.9,
          7,
          4.7,
          3.4,
          2.7,
          5.3,
          7.1,
          5.9,
          5.5,
          4.9,
          11.2,
          11.1,
          8.1,
          9.2,
          11.9,
          8.6,
          3.6,
          7.9,
          11.7,
          9.6,
          8.9,
          7.6,
          6.3,
          4.9,
          4.2,
          3.5,
          1.5,
          2.2,
          6,
          6.2,
          8.9,
          6.7,
          7.1,
          7.7,
          8.2,
          6,
          3.6,
          5.8,
          8.9,
          8.5,
          8.9,
          10.2,
          9.5,
          9.5
         ],
         "yaxis": "y"
        }
       ],
       "layout": {
        "legend": {
         "tracegroupgap": 0
        },
        "template": {
         "data": {
          "bar": [
           {
            "error_x": {
             "color": "#2a3f5f"
            },
            "error_y": {
             "color": "#2a3f5f"
            },
            "marker": {
             "line": {
              "color": "#E5ECF6",
              "width": 0.5
             },
             "pattern": {
              "fillmode": "overlay",
              "size": 10,
              "solidity": 0.2
             }
            },
            "type": "bar"
           }
          ],
          "barpolar": [
           {
            "marker": {
             "line": {
              "color": "#E5ECF6",
              "width": 0.5
             },
             "pattern": {
              "fillmode": "overlay",
              "size": 10,
              "solidity": 0.2
             }
            },
            "type": "barpolar"
           }
          ],
          "carpet": [
           {
            "aaxis": {
             "endlinecolor": "#2a3f5f",
             "gridcolor": "white",
             "linecolor": "white",
             "minorgridcolor": "white",
             "startlinecolor": "#2a3f5f"
            },
            "baxis": {
             "endlinecolor": "#2a3f5f",
             "gridcolor": "white",
             "linecolor": "white",
             "minorgridcolor": "white",
             "startlinecolor": "#2a3f5f"
            },
            "type": "carpet"
           }
          ],
          "choropleth": [
           {
            "colorbar": {
             "outlinewidth": 0,
             "ticks": ""
            },
            "type": "choropleth"
           }
          ],
          "contour": [
           {
            "colorbar": {
             "outlinewidth": 0,
             "ticks": ""
            },
            "colorscale": [
             [
              0,
              "#0d0887"
             ],
             [
              0.1111111111111111,
              "#46039f"
             ],
             [
              0.2222222222222222,
              "#7201a8"
             ],
             [
              0.3333333333333333,
              "#9c179e"
             ],
             [
              0.4444444444444444,
              "#bd3786"
             ],
             [
              0.5555555555555556,
              "#d8576b"
             ],
             [
              0.6666666666666666,
              "#ed7953"
             ],
             [
              0.7777777777777778,
              "#fb9f3a"
             ],
             [
              0.8888888888888888,
              "#fdca26"
             ],
             [
              1,
              "#f0f921"
             ]
            ],
            "type": "contour"
           }
          ],
          "contourcarpet": [
           {
            "colorbar": {
             "outlinewidth": 0,
             "ticks": ""
            },
            "type": "contourcarpet"
           }
          ],
          "heatmap": [
           {
            "colorbar": {
             "outlinewidth": 0,
             "ticks": ""
            },
            "colorscale": [
             [
              0,
              "#0d0887"
             ],
             [
              0.1111111111111111,
              "#46039f"
             ],
             [
              0.2222222222222222,
              "#7201a8"
             ],
             [
              0.3333333333333333,
              "#9c179e"
             ],
             [
              0.4444444444444444,
              "#bd3786"
             ],
             [
              0.5555555555555556,
              "#d8576b"
             ],
             [
              0.6666666666666666,
              "#ed7953"
             ],
             [
              0.7777777777777778,
              "#fb9f3a"
             ],
             [
              0.8888888888888888,
              "#fdca26"
             ],
             [
              1,
              "#f0f921"
             ]
            ],
            "type": "heatmap"
           }
          ],
          "heatmapgl": [
           {
            "colorbar": {
             "outlinewidth": 0,
             "ticks": ""
            },
            "colorscale": [
             [
              0,
              "#0d0887"
             ],
             [
              0.1111111111111111,
              "#46039f"
             ],
             [
              0.2222222222222222,
              "#7201a8"
             ],
             [
              0.3333333333333333,
              "#9c179e"
             ],
             [
              0.4444444444444444,
              "#bd3786"
             ],
             [
              0.5555555555555556,
              "#d8576b"
             ],
             [
              0.6666666666666666,
              "#ed7953"
             ],
             [
              0.7777777777777778,
              "#fb9f3a"
             ],
             [
              0.8888888888888888,
              "#fdca26"
             ],
             [
              1,
              "#f0f921"
             ]
            ],
            "type": "heatmapgl"
           }
          ],
          "histogram": [
           {
            "marker": {
             "pattern": {
              "fillmode": "overlay",
              "size": 10,
              "solidity": 0.2
             }
            },
            "type": "histogram"
           }
          ],
          "histogram2d": [
           {
            "colorbar": {
             "outlinewidth": 0,
             "ticks": ""
            },
            "colorscale": [
             [
              0,
              "#0d0887"
             ],
             [
              0.1111111111111111,
              "#46039f"
             ],
             [
              0.2222222222222222,
              "#7201a8"
             ],
             [
              0.3333333333333333,
              "#9c179e"
             ],
             [
              0.4444444444444444,
              "#bd3786"
             ],
             [
              0.5555555555555556,
              "#d8576b"
             ],
             [
              0.6666666666666666,
              "#ed7953"
             ],
             [
              0.7777777777777778,
              "#fb9f3a"
             ],
             [
              0.8888888888888888,
              "#fdca26"
             ],
             [
              1,
              "#f0f921"
             ]
            ],
            "type": "histogram2d"
           }
          ],
          "histogram2dcontour": [
           {
            "colorbar": {
             "outlinewidth": 0,
             "ticks": ""
            },
            "colorscale": [
             [
              0,
              "#0d0887"
             ],
             [
              0.1111111111111111,
              "#46039f"
             ],
             [
              0.2222222222222222,
              "#7201a8"
             ],
             [
              0.3333333333333333,
              "#9c179e"
             ],
             [
              0.4444444444444444,
              "#bd3786"
             ],
             [
              0.5555555555555556,
              "#d8576b"
             ],
             [
              0.6666666666666666,
              "#ed7953"
             ],
             [
              0.7777777777777778,
              "#fb9f3a"
             ],
             [
              0.8888888888888888,
              "#fdca26"
             ],
             [
              1,
              "#f0f921"
             ]
            ],
            "type": "histogram2dcontour"
           }
          ],
          "mesh3d": [
           {
            "colorbar": {
             "outlinewidth": 0,
             "ticks": ""
            },
            "type": "mesh3d"
           }
          ],
          "parcoords": [
           {
            "line": {
             "colorbar": {
              "outlinewidth": 0,
              "ticks": ""
             }
            },
            "type": "parcoords"
           }
          ],
          "pie": [
           {
            "automargin": true,
            "type": "pie"
           }
          ],
          "scatter": [
           {
            "fillpattern": {
             "fillmode": "overlay",
             "size": 10,
             "solidity": 0.2
            },
            "type": "scatter"
           }
          ],
          "scatter3d": [
           {
            "line": {
             "colorbar": {
              "outlinewidth": 0,
              "ticks": ""
             }
            },
            "marker": {
             "colorbar": {
              "outlinewidth": 0,
              "ticks": ""
             }
            },
            "type": "scatter3d"
           }
          ],
          "scattercarpet": [
           {
            "marker": {
             "colorbar": {
              "outlinewidth": 0,
              "ticks": ""
             }
            },
            "type": "scattercarpet"
           }
          ],
          "scattergeo": [
           {
            "marker": {
             "colorbar": {
              "outlinewidth": 0,
              "ticks": ""
             }
            },
            "type": "scattergeo"
           }
          ],
          "scattergl": [
           {
            "marker": {
             "colorbar": {
              "outlinewidth": 0,
              "ticks": ""
             }
            },
            "type": "scattergl"
           }
          ],
          "scattermapbox": [
           {
            "marker": {
             "colorbar": {
              "outlinewidth": 0,
              "ticks": ""
             }
            },
            "type": "scattermapbox"
           }
          ],
          "scatterpolar": [
           {
            "marker": {
             "colorbar": {
              "outlinewidth": 0,
              "ticks": ""
             }
            },
            "type": "scatterpolar"
           }
          ],
          "scatterpolargl": [
           {
            "marker": {
             "colorbar": {
              "outlinewidth": 0,
              "ticks": ""
             }
            },
            "type": "scatterpolargl"
           }
          ],
          "scatterternary": [
           {
            "marker": {
             "colorbar": {
              "outlinewidth": 0,
              "ticks": ""
             }
            },
            "type": "scatterternary"
           }
          ],
          "surface": [
           {
            "colorbar": {
             "outlinewidth": 0,
             "ticks": ""
            },
            "colorscale": [
             [
              0,
              "#0d0887"
             ],
             [
              0.1111111111111111,
              "#46039f"
             ],
             [
              0.2222222222222222,
              "#7201a8"
             ],
             [
              0.3333333333333333,
              "#9c179e"
             ],
             [
              0.4444444444444444,
              "#bd3786"
             ],
             [
              0.5555555555555556,
              "#d8576b"
             ],
             [
              0.6666666666666666,
              "#ed7953"
             ],
             [
              0.7777777777777778,
              "#fb9f3a"
             ],
             [
              0.8888888888888888,
              "#fdca26"
             ],
             [
              1,
              "#f0f921"
             ]
            ],
            "type": "surface"
           }
          ],
          "table": [
           {
            "cells": {
             "fill": {
              "color": "#EBF0F8"
             },
             "line": {
              "color": "white"
             }
            },
            "header": {
             "fill": {
              "color": "#C8D4E3"
             },
             "line": {
              "color": "white"
             }
            },
            "type": "table"
           }
          ]
         },
         "layout": {
          "annotationdefaults": {
           "arrowcolor": "#2a3f5f",
           "arrowhead": 0,
           "arrowwidth": 1
          },
          "autotypenumbers": "strict",
          "coloraxis": {
           "colorbar": {
            "outlinewidth": 0,
            "ticks": ""
           }
          },
          "colorscale": {
           "diverging": [
            [
             0,
             "#8e0152"
            ],
            [
             0.1,
             "#c51b7d"
            ],
            [
             0.2,
             "#de77ae"
            ],
            [
             0.3,
             "#f1b6da"
            ],
            [
             0.4,
             "#fde0ef"
            ],
            [
             0.5,
             "#f7f7f7"
            ],
            [
             0.6,
             "#e6f5d0"
            ],
            [
             0.7,
             "#b8e186"
            ],
            [
             0.8,
             "#7fbc41"
            ],
            [
             0.9,
             "#4d9221"
            ],
            [
             1,
             "#276419"
            ]
           ],
           "sequential": [
            [
             0,
             "#0d0887"
            ],
            [
             0.1111111111111111,
             "#46039f"
            ],
            [
             0.2222222222222222,
             "#7201a8"
            ],
            [
             0.3333333333333333,
             "#9c179e"
            ],
            [
             0.4444444444444444,
             "#bd3786"
            ],
            [
             0.5555555555555556,
             "#d8576b"
            ],
            [
             0.6666666666666666,
             "#ed7953"
            ],
            [
             0.7777777777777778,
             "#fb9f3a"
            ],
            [
             0.8888888888888888,
             "#fdca26"
            ],
            [
             1,
             "#f0f921"
            ]
           ],
           "sequentialminus": [
            [
             0,
             "#0d0887"
            ],
            [
             0.1111111111111111,
             "#46039f"
            ],
            [
             0.2222222222222222,
             "#7201a8"
            ],
            [
             0.3333333333333333,
             "#9c179e"
            ],
            [
             0.4444444444444444,
             "#bd3786"
            ],
            [
             0.5555555555555556,
             "#d8576b"
            ],
            [
             0.6666666666666666,
             "#ed7953"
            ],
            [
             0.7777777777777778,
             "#fb9f3a"
            ],
            [
             0.8888888888888888,
             "#fdca26"
            ],
            [
             1,
             "#f0f921"
            ]
           ]
          },
          "colorway": [
           "#636efa",
           "#EF553B",
           "#00cc96",
           "#ab63fa",
           "#FFA15A",
           "#19d3f3",
           "#FF6692",
           "#B6E880",
           "#FF97FF",
           "#FECB52"
          ],
          "font": {
           "color": "#2a3f5f"
          },
          "geo": {
           "bgcolor": "white",
           "lakecolor": "white",
           "landcolor": "#E5ECF6",
           "showlakes": true,
           "showland": true,
           "subunitcolor": "white"
          },
          "hoverlabel": {
           "align": "left"
          },
          "hovermode": "closest",
          "mapbox": {
           "style": "light"
          },
          "paper_bgcolor": "white",
          "plot_bgcolor": "#E5ECF6",
          "polar": {
           "angularaxis": {
            "gridcolor": "white",
            "linecolor": "white",
            "ticks": ""
           },
           "bgcolor": "#E5ECF6",
           "radialaxis": {
            "gridcolor": "white",
            "linecolor": "white",
            "ticks": ""
           }
          },
          "scene": {
           "xaxis": {
            "backgroundcolor": "#E5ECF6",
            "gridcolor": "white",
            "gridwidth": 2,
            "linecolor": "white",
            "showbackground": true,
            "ticks": "",
            "zerolinecolor": "white"
           },
           "yaxis": {
            "backgroundcolor": "#E5ECF6",
            "gridcolor": "white",
            "gridwidth": 2,
            "linecolor": "white",
            "showbackground": true,
            "ticks": "",
            "zerolinecolor": "white"
           },
           "zaxis": {
            "backgroundcolor": "#E5ECF6",
            "gridcolor": "white",
            "gridwidth": 2,
            "linecolor": "white",
            "showbackground": true,
            "ticks": "",
            "zerolinecolor": "white"
           }
          },
          "shapedefaults": {
           "line": {
            "color": "#2a3f5f"
           }
          },
          "ternary": {
           "aaxis": {
            "gridcolor": "white",
            "linecolor": "white",
            "ticks": ""
           },
           "baxis": {
            "gridcolor": "white",
            "linecolor": "white",
            "ticks": ""
           },
           "bgcolor": "#E5ECF6",
           "caxis": {
            "gridcolor": "white",
            "linecolor": "white",
            "ticks": ""
           }
          },
          "title": {
           "x": 0.05
          },
          "xaxis": {
           "automargin": true,
           "gridcolor": "white",
           "linecolor": "white",
           "ticks": "",
           "title": {
            "standoff": 15
           },
           "zerolinecolor": "white",
           "zerolinewidth": 2
          },
          "yaxis": {
           "automargin": true,
           "gridcolor": "white",
           "linecolor": "white",
           "ticks": "",
           "title": {
            "standoff": 15
           },
           "zerolinecolor": "white",
           "zerolinewidth": 2
          }
         }
        },
        "title": {
         "text": "Climate Covariates"
        },
        "xaxis": {
         "anchor": "y",
         "domain": [
          0,
          1
         ],
         "title": {
          "text": "time"
         }
        },
        "yaxis": {
         "anchor": "x",
         "domain": [
          0,
          1
         ],
         "title": {
          "text": "tavg"
         }
        }
       }
      },
      "text/html": [
       "<div>                            <div id=\"73bdbe09-6e08-45e8-b925-53f2e9655690\" class=\"plotly-graph-div\" style=\"height:525px; width:100%;\"></div>            <script type=\"text/javascript\">                require([\"plotly\"], function(Plotly) {                    window.PLOTLYENV=window.PLOTLYENV || {};                                    if (document.getElementById(\"73bdbe09-6e08-45e8-b925-53f2e9655690\")) {                    Plotly.newPlot(                        \"73bdbe09-6e08-45e8-b925-53f2e9655690\",                        [{\"hovertemplate\":\"time=%{x}<br>tavg=%{y}<extra></extra>\",\"legendgroup\":\"\",\"line\":{\"color\":\"#636efa\",\"dash\":\"solid\"},\"marker\":{\"symbol\":\"circle\"},\"mode\":\"lines\",\"name\":\"\",\"orientation\":\"v\",\"showlegend\":false,\"x\":[\"2018-01-04T00:00:00\",\"2018-01-05T00:00:00\",\"2018-01-06T00:00:00\",\"2018-01-07T00:00:00\",\"2018-01-08T00:00:00\",\"2018-01-09T00:00:00\",\"2018-01-10T00:00:00\",\"2018-01-11T00:00:00\",\"2018-01-12T00:00:00\",\"2018-01-13T00:00:00\",\"2018-01-14T00:00:00\",\"2018-01-15T00:00:00\",\"2018-01-16T00:00:00\",\"2018-01-17T00:00:00\",\"2018-01-18T00:00:00\",\"2018-01-19T00:00:00\",\"2018-01-20T00:00:00\",\"2018-01-21T00:00:00\",\"2018-01-22T00:00:00\",\"2018-01-23T00:00:00\",\"2018-01-24T00:00:00\",\"2018-01-25T00:00:00\",\"2018-01-26T00:00:00\",\"2018-01-27T00:00:00\",\"2018-01-28T00:00:00\",\"2018-01-29T00:00:00\",\"2018-01-30T00:00:00\",\"2018-01-31T00:00:00\",\"2018-02-01T00:00:00\",\"2018-02-02T00:00:00\",\"2018-02-03T00:00:00\",\"2018-02-04T00:00:00\",\"2018-02-05T00:00:00\",\"2018-02-06T00:00:00\",\"2018-02-07T00:00:00\",\"2018-02-08T00:00:00\",\"2018-02-09T00:00:00\",\"2018-02-10T00:00:00\",\"2018-02-11T00:00:00\",\"2018-02-12T00:00:00\",\"2018-02-13T00:00:00\",\"2018-02-14T00:00:00\",\"2018-02-15T00:00:00\",\"2018-02-16T00:00:00\",\"2018-02-17T00:00:00\",\"2018-02-18T00:00:00\",\"2018-02-19T00:00:00\",\"2018-02-20T00:00:00\",\"2018-02-21T00:00:00\",\"2018-02-22T00:00:00\",\"2018-02-23T00:00:00\",\"2018-02-24T00:00:00\",\"2018-02-25T00:00:00\",\"2018-02-26T00:00:00\",\"2018-02-27T00:00:00\",\"2018-02-28T00:00:00\",\"2018-03-01T00:00:00\",\"2018-03-02T00:00:00\",\"2018-03-03T00:00:00\",\"2018-03-04T00:00:00\",\"2018-03-05T00:00:00\",\"2018-03-06T00:00:00\",\"2018-03-07T00:00:00\",\"2018-03-08T00:00:00\",\"2018-03-09T00:00:00\",\"2018-03-10T00:00:00\",\"2018-03-11T00:00:00\",\"2018-03-12T00:00:00\",\"2018-03-13T00:00:00\",\"2018-03-14T00:00:00\",\"2018-03-15T00:00:00\",\"2018-03-16T00:00:00\",\"2018-03-17T00:00:00\",\"2018-03-18T00:00:00\",\"2018-03-19T00:00:00\",\"2018-03-20T00:00:00\",\"2018-03-21T00:00:00\",\"2018-03-22T00:00:00\",\"2018-03-23T00:00:00\",\"2018-03-24T00:00:00\",\"2018-03-25T00:00:00\",\"2018-03-26T00:00:00\",\"2018-03-27T00:00:00\",\"2018-03-28T00:00:00\",\"2018-03-29T00:00:00\",\"2018-03-30T00:00:00\",\"2018-03-31T00:00:00\",\"2018-04-01T00:00:00\",\"2018-04-02T00:00:00\",\"2018-04-03T00:00:00\",\"2018-04-04T00:00:00\",\"2018-04-05T00:00:00\",\"2018-04-06T00:00:00\",\"2018-04-07T00:00:00\",\"2018-04-08T00:00:00\",\"2018-04-09T00:00:00\",\"2018-04-10T00:00:00\",\"2018-04-11T00:00:00\",\"2018-04-12T00:00:00\",\"2018-04-13T00:00:00\",\"2018-04-14T00:00:00\",\"2018-04-15T00:00:00\",\"2018-04-16T00:00:00\",\"2018-04-17T00:00:00\",\"2018-04-18T00:00:00\",\"2018-04-19T00:00:00\",\"2018-04-20T00:00:00\",\"2018-04-21T00:00:00\",\"2018-04-22T00:00:00\",\"2018-04-23T00:00:00\",\"2018-04-24T00:00:00\",\"2018-04-25T00:00:00\",\"2018-04-26T00:00:00\",\"2018-04-27T00:00:00\",\"2018-04-28T00:00:00\",\"2018-04-29T00:00:00\",\"2018-04-30T00:00:00\",\"2018-05-01T00:00:00\",\"2018-05-02T00:00:00\",\"2018-05-03T00:00:00\",\"2018-05-04T00:00:00\",\"2018-05-05T00:00:00\",\"2018-05-06T00:00:00\",\"2018-05-07T00:00:00\",\"2018-05-08T00:00:00\",\"2018-05-09T00:00:00\",\"2018-05-10T00:00:00\",\"2018-05-11T00:00:00\",\"2018-05-12T00:00:00\",\"2018-05-13T00:00:00\",\"2018-05-14T00:00:00\",\"2018-05-15T00:00:00\",\"2018-05-16T00:00:00\",\"2018-05-17T00:00:00\",\"2018-05-18T00:00:00\",\"2018-05-19T00:00:00\",\"2018-05-20T00:00:00\",\"2018-05-21T00:00:00\",\"2018-05-22T00:00:00\",\"2018-05-23T00:00:00\",\"2018-05-24T00:00:00\",\"2018-05-25T00:00:00\",\"2018-05-26T00:00:00\",\"2018-05-27T00:00:00\",\"2018-05-28T00:00:00\",\"2018-05-29T00:00:00\",\"2018-05-30T00:00:00\",\"2018-05-31T00:00:00\",\"2018-06-01T00:00:00\",\"2018-06-02T00:00:00\",\"2018-06-03T00:00:00\",\"2018-06-04T00:00:00\",\"2018-06-05T00:00:00\",\"2018-06-06T00:00:00\",\"2018-06-07T00:00:00\",\"2018-06-08T00:00:00\",\"2018-06-09T00:00:00\",\"2018-06-10T00:00:00\",\"2018-06-11T00:00:00\",\"2018-06-12T00:00:00\",\"2018-06-13T00:00:00\",\"2018-06-14T00:00:00\",\"2018-06-15T00:00:00\",\"2018-06-16T00:00:00\",\"2018-06-17T00:00:00\",\"2018-06-18T00:00:00\",\"2018-06-19T00:00:00\",\"2018-06-20T00:00:00\",\"2018-06-21T00:00:00\",\"2018-06-22T00:00:00\",\"2018-06-23T00:00:00\",\"2018-06-24T00:00:00\",\"2018-06-25T00:00:00\",\"2018-06-26T00:00:00\",\"2018-06-27T00:00:00\",\"2018-06-28T00:00:00\",\"2018-06-29T00:00:00\",\"2018-06-30T00:00:00\",\"2018-07-01T00:00:00\",\"2018-07-02T00:00:00\",\"2018-07-03T00:00:00\",\"2018-07-04T00:00:00\",\"2018-07-05T00:00:00\",\"2018-07-06T00:00:00\",\"2018-07-07T00:00:00\",\"2018-07-08T00:00:00\",\"2018-07-09T00:00:00\",\"2018-07-10T00:00:00\",\"2018-07-11T00:00:00\",\"2018-07-12T00:00:00\",\"2018-07-13T00:00:00\",\"2018-07-14T00:00:00\",\"2018-07-15T00:00:00\",\"2018-07-16T00:00:00\",\"2018-07-17T00:00:00\",\"2018-07-18T00:00:00\",\"2018-07-19T00:00:00\",\"2018-07-20T00:00:00\",\"2018-07-21T00:00:00\",\"2018-07-22T00:00:00\",\"2018-07-23T00:00:00\",\"2018-07-24T00:00:00\",\"2018-07-25T00:00:00\",\"2018-07-26T00:00:00\",\"2018-07-27T00:00:00\",\"2018-07-28T00:00:00\",\"2018-07-29T00:00:00\",\"2018-07-30T00:00:00\",\"2018-07-31T00:00:00\",\"2018-08-01T00:00:00\",\"2018-08-02T00:00:00\",\"2018-08-03T00:00:00\",\"2018-08-04T00:00:00\",\"2018-08-05T00:00:00\",\"2018-08-06T00:00:00\",\"2018-08-07T00:00:00\",\"2018-08-08T00:00:00\",\"2018-08-09T00:00:00\",\"2018-08-10T00:00:00\",\"2018-08-11T00:00:00\",\"2018-08-12T00:00:00\",\"2018-08-13T00:00:00\",\"2018-08-14T00:00:00\",\"2018-08-15T00:00:00\",\"2018-08-16T00:00:00\",\"2018-08-17T00:00:00\",\"2018-08-18T00:00:00\",\"2018-08-19T00:00:00\",\"2018-08-20T00:00:00\",\"2018-08-21T00:00:00\",\"2018-08-22T00:00:00\",\"2018-08-23T00:00:00\",\"2018-08-24T00:00:00\",\"2018-08-25T00:00:00\",\"2018-08-26T00:00:00\",\"2018-08-27T00:00:00\",\"2018-08-28T00:00:00\",\"2018-08-29T00:00:00\",\"2018-08-30T00:00:00\",\"2018-08-31T00:00:00\",\"2018-09-01T00:00:00\",\"2018-09-02T00:00:00\",\"2018-09-03T00:00:00\",\"2018-09-04T00:00:00\",\"2018-09-05T00:00:00\",\"2018-09-06T00:00:00\",\"2018-09-07T00:00:00\",\"2018-09-08T00:00:00\",\"2018-09-09T00:00:00\",\"2018-09-10T00:00:00\",\"2018-09-11T00:00:00\",\"2018-09-12T00:00:00\",\"2018-09-13T00:00:00\",\"2018-09-14T00:00:00\",\"2018-09-15T00:00:00\",\"2018-09-16T00:00:00\",\"2018-09-17T00:00:00\",\"2018-09-18T00:00:00\",\"2018-09-19T00:00:00\",\"2018-09-20T00:00:00\",\"2018-09-21T00:00:00\",\"2018-09-22T00:00:00\",\"2018-09-23T00:00:00\",\"2018-09-24T00:00:00\",\"2018-09-25T00:00:00\",\"2018-09-26T00:00:00\",\"2018-09-27T00:00:00\",\"2018-09-28T00:00:00\",\"2018-09-29T00:00:00\",\"2018-09-30T00:00:00\",\"2018-10-01T00:00:00\",\"2018-10-02T00:00:00\",\"2018-10-03T00:00:00\",\"2018-10-04T00:00:00\",\"2018-10-05T00:00:00\",\"2018-10-06T00:00:00\",\"2018-10-07T00:00:00\",\"2018-10-08T00:00:00\",\"2018-10-09T00:00:00\",\"2018-10-10T00:00:00\",\"2018-10-11T00:00:00\",\"2018-10-12T00:00:00\",\"2018-10-13T00:00:00\",\"2018-10-14T00:00:00\",\"2018-10-15T00:00:00\",\"2018-10-16T00:00:00\",\"2018-10-17T00:00:00\",\"2018-10-18T00:00:00\",\"2018-10-19T00:00:00\",\"2018-10-20T00:00:00\",\"2018-10-21T00:00:00\",\"2018-10-22T00:00:00\",\"2018-10-23T00:00:00\",\"2018-10-24T00:00:00\",\"2018-10-25T00:00:00\",\"2018-10-26T00:00:00\",\"2018-10-27T00:00:00\",\"2018-10-28T00:00:00\",\"2018-10-29T00:00:00\",\"2018-10-30T00:00:00\",\"2018-10-31T00:00:00\",\"2018-11-01T00:00:00\",\"2018-11-02T00:00:00\",\"2018-11-03T00:00:00\",\"2018-11-04T00:00:00\",\"2018-11-05T00:00:00\",\"2018-11-06T00:00:00\",\"2018-11-07T00:00:00\",\"2018-11-08T00:00:00\",\"2018-11-09T00:00:00\",\"2018-11-10T00:00:00\",\"2018-11-11T00:00:00\",\"2018-11-12T00:00:00\",\"2018-11-13T00:00:00\",\"2018-11-14T00:00:00\",\"2018-11-15T00:00:00\",\"2018-11-16T00:00:00\",\"2018-11-17T00:00:00\",\"2018-11-18T00:00:00\",\"2018-11-19T00:00:00\",\"2018-11-20T00:00:00\",\"2018-11-21T00:00:00\",\"2018-11-22T00:00:00\",\"2018-11-23T00:00:00\",\"2018-11-24T00:00:00\",\"2018-11-25T00:00:00\",\"2018-11-26T00:00:00\",\"2018-11-27T00:00:00\",\"2018-11-28T00:00:00\",\"2018-11-29T00:00:00\",\"2018-11-30T00:00:00\",\"2018-12-01T00:00:00\",\"2018-12-02T00:00:00\",\"2018-12-03T00:00:00\",\"2018-12-04T00:00:00\",\"2018-12-05T00:00:00\",\"2018-12-06T00:00:00\",\"2018-12-07T00:00:00\",\"2018-12-08T00:00:00\",\"2018-12-09T00:00:00\",\"2018-12-10T00:00:00\",\"2018-12-11T00:00:00\",\"2018-12-12T00:00:00\",\"2018-12-13T00:00:00\",\"2018-12-14T00:00:00\",\"2018-12-15T00:00:00\",\"2018-12-16T00:00:00\",\"2018-12-17T00:00:00\",\"2018-12-18T00:00:00\",\"2018-12-19T00:00:00\",\"2018-12-20T00:00:00\",\"2018-12-21T00:00:00\",\"2018-12-22T00:00:00\",\"2018-12-23T00:00:00\",\"2018-12-24T00:00:00\",\"2018-12-25T00:00:00\",\"2018-12-26T00:00:00\",\"2018-12-27T00:00:00\",\"2018-12-28T00:00:00\",\"2018-12-29T00:00:00\",\"2018-12-30T00:00:00\",\"2018-12-31T00:00:00\"],\"xaxis\":\"x\",\"y\":[7.2,null,2.7,null,null,null,6.6,5.9,6.2,5.5,null,null,null,3.7,5.1,null,1.6,1.6,null,null,8.7,5.8,4.2,7.2,10.9,8.6,4.0,5.2,4.8,4.7,2.6,3.3,2.0,null,null,4.0,4.6,4.4,3.6,2.4,3.0,2.3,6.1,4.1,5.1,6.1,8.8,7.9,5.6,2.1,0.8,2.4,0.9,-0.2,-1.1,-4.0,-3.4,-0.9,-0.4,3.1,6.2,5.9,4.5,4.7,4.8,10.3,7.9,6.3,7.0,7.6,8.1,7.4,0.1,-0.9,2.0,4.0,4.8,8.2,8.7,7.5,null,7.7,7.9,6.3,4.9,5.7,4.9,4.0,5.8,10.3,8.7,6.9,9.2,10.5,9.4,8.5,7.5,6.9,5.9,7.7,11.9,10.4,11.6,12.7,17.4,19.0,16.2,15.0,15.9,11.5,11.2,9.7,10.0,7.2,7.2,7.1,7.1,9.0,9.8,10.4,13.2,16.1,17.9,19.4,16.9,13.0,11.7,12.0,12.7,13.1,14.5,16.4,12.4,null,null,14.8,16.3,16.4,14.5,13.0,13.4,12.7,15.8,17.4,17.2,15.6,14.3,17.1,18.1,18.0,19.1,15.4,null,13.4,14.4,13.9,14.4,15.2,17.4,14.8,16.5,16.9,15.2,15.0,15.1,17.9,18.9,18.2,14.3,15.9,15.8,18.0,21.2,20.1,17.3,18.3,null,19.0,20.0,19.8,17.7,18.1,22.1,21.5,22.1,22.8,19.8,17.9,17.5,17.5,18.1,20.5,21.6,21.2,18.2,19.4,21.2,18.5,19.0,19.9,24.1,21.8,20.5,23.9,24.1,17.4,16.7,18.7,18.5,18.3,21.7,21.7,20.2,21.2,22.0,21.5,17.9,16.7,14.1,15.6,17.2,18.6,17.9,19.6,17.3,15.4,19.1,19.3,19.6,20.5,19.6,15.2,11.9,13.6,12.8,15.5,16.0,15.8,14.5,14.4,16.9,19.7,18.0,13.9,15.2,12.5,11.8,13.6,16.0,14.9,16.5,13.1,12.9,13.6,13.9,16.7,18.6,18.8,16.8,14.2,11.5,10.2,10.6,10.3,10.7,15.5,16.9,11.1,10.4,10.0,9.5,13.5,13.8,14.9,13.9,8.0,7.9,13.0,14.8,15.6,16.3,16.1,20.0,11.7,9.8,13.0,13.2,9.8,8.8,11.6,12.5,9.4,11.7,12.1,11.2,8.6,4.4,5.6,4.0,5.8,6.4,7.9,6.0,10.4,10.7,9.8,12.2,11.8,9.4,9.4,9.9,9.4,10.0,10.0,11.8,12.2,11.6,8.2,6.9,7.0,4.7,3.4,2.7,5.3,7.1,5.9,5.5,4.9,11.2,11.1,8.1,9.2,11.9,8.6,3.6,7.9,11.7,9.6,8.9,7.6,6.3,4.9,4.2,3.5,1.5,2.2,6.0,6.2,8.9,6.7,7.1,7.7,8.2,6.0,3.6,5.8,8.9,8.5,8.9,10.2,9.5,9.5],\"yaxis\":\"y\",\"type\":\"scatter\"}],                        {\"template\":{\"data\":{\"histogram2dcontour\":[{\"type\":\"histogram2dcontour\",\"colorbar\":{\"outlinewidth\":0,\"ticks\":\"\"},\"colorscale\":[[0.0,\"#0d0887\"],[0.1111111111111111,\"#46039f\"],[0.2222222222222222,\"#7201a8\"],[0.3333333333333333,\"#9c179e\"],[0.4444444444444444,\"#bd3786\"],[0.5555555555555556,\"#d8576b\"],[0.6666666666666666,\"#ed7953\"],[0.7777777777777778,\"#fb9f3a\"],[0.8888888888888888,\"#fdca26\"],[1.0,\"#f0f921\"]]}],\"choropleth\":[{\"type\":\"choropleth\",\"colorbar\":{\"outlinewidth\":0,\"ticks\":\"\"}}],\"histogram2d\":[{\"type\":\"histogram2d\",\"colorbar\":{\"outlinewidth\":0,\"ticks\":\"\"},\"colorscale\":[[0.0,\"#0d0887\"],[0.1111111111111111,\"#46039f\"],[0.2222222222222222,\"#7201a8\"],[0.3333333333333333,\"#9c179e\"],[0.4444444444444444,\"#bd3786\"],[0.5555555555555556,\"#d8576b\"],[0.6666666666666666,\"#ed7953\"],[0.7777777777777778,\"#fb9f3a\"],[0.8888888888888888,\"#fdca26\"],[1.0,\"#f0f921\"]]}],\"heatmap\":[{\"type\":\"heatmap\",\"colorbar\":{\"outlinewidth\":0,\"ticks\":\"\"},\"colorscale\":[[0.0,\"#0d0887\"],[0.1111111111111111,\"#46039f\"],[0.2222222222222222,\"#7201a8\"],[0.3333333333333333,\"#9c179e\"],[0.4444444444444444,\"#bd3786\"],[0.5555555555555556,\"#d8576b\"],[0.6666666666666666,\"#ed7953\"],[0.7777777777777778,\"#fb9f3a\"],[0.8888888888888888,\"#fdca26\"],[1.0,\"#f0f921\"]]}],\"heatmapgl\":[{\"type\":\"heatmapgl\",\"colorbar\":{\"outlinewidth\":0,\"ticks\":\"\"},\"colorscale\":[[0.0,\"#0d0887\"],[0.1111111111111111,\"#46039f\"],[0.2222222222222222,\"#7201a8\"],[0.3333333333333333,\"#9c179e\"],[0.4444444444444444,\"#bd3786\"],[0.5555555555555556,\"#d8576b\"],[0.6666666666666666,\"#ed7953\"],[0.7777777777777778,\"#fb9f3a\"],[0.8888888888888888,\"#fdca26\"],[1.0,\"#f0f921\"]]}],\"contourcarpet\":[{\"type\":\"contourcarpet\",\"colorbar\":{\"outlinewidth\":0,\"ticks\":\"\"}}],\"contour\":[{\"type\":\"contour\",\"colorbar\":{\"outlinewidth\":0,\"ticks\":\"\"},\"colorscale\":[[0.0,\"#0d0887\"],[0.1111111111111111,\"#46039f\"],[0.2222222222222222,\"#7201a8\"],[0.3333333333333333,\"#9c179e\"],[0.4444444444444444,\"#bd3786\"],[0.5555555555555556,\"#d8576b\"],[0.6666666666666666,\"#ed7953\"],[0.7777777777777778,\"#fb9f3a\"],[0.8888888888888888,\"#fdca26\"],[1.0,\"#f0f921\"]]}],\"surface\":[{\"type\":\"surface\",\"colorbar\":{\"outlinewidth\":0,\"ticks\":\"\"},\"colorscale\":[[0.0,\"#0d0887\"],[0.1111111111111111,\"#46039f\"],[0.2222222222222222,\"#7201a8\"],[0.3333333333333333,\"#9c179e\"],[0.4444444444444444,\"#bd3786\"],[0.5555555555555556,\"#d8576b\"],[0.6666666666666666,\"#ed7953\"],[0.7777777777777778,\"#fb9f3a\"],[0.8888888888888888,\"#fdca26\"],[1.0,\"#f0f921\"]]}],\"mesh3d\":[{\"type\":\"mesh3d\",\"colorbar\":{\"outlinewidth\":0,\"ticks\":\"\"}}],\"scatter\":[{\"fillpattern\":{\"fillmode\":\"overlay\",\"size\":10,\"solidity\":0.2},\"type\":\"scatter\"}],\"parcoords\":[{\"type\":\"parcoords\",\"line\":{\"colorbar\":{\"outlinewidth\":0,\"ticks\":\"\"}}}],\"scatterpolargl\":[{\"type\":\"scatterpolargl\",\"marker\":{\"colorbar\":{\"outlinewidth\":0,\"ticks\":\"\"}}}],\"bar\":[{\"error_x\":{\"color\":\"#2a3f5f\"},\"error_y\":{\"color\":\"#2a3f5f\"},\"marker\":{\"line\":{\"color\":\"#E5ECF6\",\"width\":0.5},\"pattern\":{\"fillmode\":\"overlay\",\"size\":10,\"solidity\":0.2}},\"type\":\"bar\"}],\"scattergeo\":[{\"type\":\"scattergeo\",\"marker\":{\"colorbar\":{\"outlinewidth\":0,\"ticks\":\"\"}}}],\"scatterpolar\":[{\"type\":\"scatterpolar\",\"marker\":{\"colorbar\":{\"outlinewidth\":0,\"ticks\":\"\"}}}],\"histogram\":[{\"marker\":{\"pattern\":{\"fillmode\":\"overlay\",\"size\":10,\"solidity\":0.2}},\"type\":\"histogram\"}],\"scattergl\":[{\"type\":\"scattergl\",\"marker\":{\"colorbar\":{\"outlinewidth\":0,\"ticks\":\"\"}}}],\"scatter3d\":[{\"type\":\"scatter3d\",\"line\":{\"colorbar\":{\"outlinewidth\":0,\"ticks\":\"\"}},\"marker\":{\"colorbar\":{\"outlinewidth\":0,\"ticks\":\"\"}}}],\"scattermapbox\":[{\"type\":\"scattermapbox\",\"marker\":{\"colorbar\":{\"outlinewidth\":0,\"ticks\":\"\"}}}],\"scatterternary\":[{\"type\":\"scatterternary\",\"marker\":{\"colorbar\":{\"outlinewidth\":0,\"ticks\":\"\"}}}],\"scattercarpet\":[{\"type\":\"scattercarpet\",\"marker\":{\"colorbar\":{\"outlinewidth\":0,\"ticks\":\"\"}}}],\"carpet\":[{\"aaxis\":{\"endlinecolor\":\"#2a3f5f\",\"gridcolor\":\"white\",\"linecolor\":\"white\",\"minorgridcolor\":\"white\",\"startlinecolor\":\"#2a3f5f\"},\"baxis\":{\"endlinecolor\":\"#2a3f5f\",\"gridcolor\":\"white\",\"linecolor\":\"white\",\"minorgridcolor\":\"white\",\"startlinecolor\":\"#2a3f5f\"},\"type\":\"carpet\"}],\"table\":[{\"cells\":{\"fill\":{\"color\":\"#EBF0F8\"},\"line\":{\"color\":\"white\"}},\"header\":{\"fill\":{\"color\":\"#C8D4E3\"},\"line\":{\"color\":\"white\"}},\"type\":\"table\"}],\"barpolar\":[{\"marker\":{\"line\":{\"color\":\"#E5ECF6\",\"width\":0.5},\"pattern\":{\"fillmode\":\"overlay\",\"size\":10,\"solidity\":0.2}},\"type\":\"barpolar\"}],\"pie\":[{\"automargin\":true,\"type\":\"pie\"}]},\"layout\":{\"autotypenumbers\":\"strict\",\"colorway\":[\"#636efa\",\"#EF553B\",\"#00cc96\",\"#ab63fa\",\"#FFA15A\",\"#19d3f3\",\"#FF6692\",\"#B6E880\",\"#FF97FF\",\"#FECB52\"],\"font\":{\"color\":\"#2a3f5f\"},\"hovermode\":\"closest\",\"hoverlabel\":{\"align\":\"left\"},\"paper_bgcolor\":\"white\",\"plot_bgcolor\":\"#E5ECF6\",\"polar\":{\"bgcolor\":\"#E5ECF6\",\"angularaxis\":{\"gridcolor\":\"white\",\"linecolor\":\"white\",\"ticks\":\"\"},\"radialaxis\":{\"gridcolor\":\"white\",\"linecolor\":\"white\",\"ticks\":\"\"}},\"ternary\":{\"bgcolor\":\"#E5ECF6\",\"aaxis\":{\"gridcolor\":\"white\",\"linecolor\":\"white\",\"ticks\":\"\"},\"baxis\":{\"gridcolor\":\"white\",\"linecolor\":\"white\",\"ticks\":\"\"},\"caxis\":{\"gridcolor\":\"white\",\"linecolor\":\"white\",\"ticks\":\"\"}},\"coloraxis\":{\"colorbar\":{\"outlinewidth\":0,\"ticks\":\"\"}},\"colorscale\":{\"sequential\":[[0.0,\"#0d0887\"],[0.1111111111111111,\"#46039f\"],[0.2222222222222222,\"#7201a8\"],[0.3333333333333333,\"#9c179e\"],[0.4444444444444444,\"#bd3786\"],[0.5555555555555556,\"#d8576b\"],[0.6666666666666666,\"#ed7953\"],[0.7777777777777778,\"#fb9f3a\"],[0.8888888888888888,\"#fdca26\"],[1.0,\"#f0f921\"]],\"sequentialminus\":[[0.0,\"#0d0887\"],[0.1111111111111111,\"#46039f\"],[0.2222222222222222,\"#7201a8\"],[0.3333333333333333,\"#9c179e\"],[0.4444444444444444,\"#bd3786\"],[0.5555555555555556,\"#d8576b\"],[0.6666666666666666,\"#ed7953\"],[0.7777777777777778,\"#fb9f3a\"],[0.8888888888888888,\"#fdca26\"],[1.0,\"#f0f921\"]],\"diverging\":[[0,\"#8e0152\"],[0.1,\"#c51b7d\"],[0.2,\"#de77ae\"],[0.3,\"#f1b6da\"],[0.4,\"#fde0ef\"],[0.5,\"#f7f7f7\"],[0.6,\"#e6f5d0\"],[0.7,\"#b8e186\"],[0.8,\"#7fbc41\"],[0.9,\"#4d9221\"],[1,\"#276419\"]]},\"xaxis\":{\"gridcolor\":\"white\",\"linecolor\":\"white\",\"ticks\":\"\",\"title\":{\"standoff\":15},\"zerolinecolor\":\"white\",\"automargin\":true,\"zerolinewidth\":2},\"yaxis\":{\"gridcolor\":\"white\",\"linecolor\":\"white\",\"ticks\":\"\",\"title\":{\"standoff\":15},\"zerolinecolor\":\"white\",\"automargin\":true,\"zerolinewidth\":2},\"scene\":{\"xaxis\":{\"backgroundcolor\":\"#E5ECF6\",\"gridcolor\":\"white\",\"linecolor\":\"white\",\"showbackground\":true,\"ticks\":\"\",\"zerolinecolor\":\"white\",\"gridwidth\":2},\"yaxis\":{\"backgroundcolor\":\"#E5ECF6\",\"gridcolor\":\"white\",\"linecolor\":\"white\",\"showbackground\":true,\"ticks\":\"\",\"zerolinecolor\":\"white\",\"gridwidth\":2},\"zaxis\":{\"backgroundcolor\":\"#E5ECF6\",\"gridcolor\":\"white\",\"linecolor\":\"white\",\"showbackground\":true,\"ticks\":\"\",\"zerolinecolor\":\"white\",\"gridwidth\":2}},\"shapedefaults\":{\"line\":{\"color\":\"#2a3f5f\"}},\"annotationdefaults\":{\"arrowcolor\":\"#2a3f5f\",\"arrowhead\":0,\"arrowwidth\":1},\"geo\":{\"bgcolor\":\"white\",\"landcolor\":\"#E5ECF6\",\"subunitcolor\":\"white\",\"showland\":true,\"showlakes\":true,\"lakecolor\":\"white\"},\"title\":{\"x\":0.05},\"mapbox\":{\"style\":\"light\"}}},\"xaxis\":{\"anchor\":\"y\",\"domain\":[0.0,1.0],\"title\":{\"text\":\"time\"}},\"yaxis\":{\"anchor\":\"x\",\"domain\":[0.0,1.0],\"title\":{\"text\":\"tavg\"}},\"legend\":{\"tracegroupgap\":0},\"title\":{\"text\":\"Climate Covariates\"}},                        {\"responsive\": true}                    ).then(function(){\n",
       "                            \n",
       "var gd = document.getElementById('73bdbe09-6e08-45e8-b925-53f2e9655690');\n",
       "var x = new MutationObserver(function (mutations, observer) {{\n",
       "        var display = window.getComputedStyle(gd).display;\n",
       "        if (!display || display === 'none') {{\n",
       "            console.log([gd, 'removed!']);\n",
       "            Plotly.purge(gd);\n",
       "            observer.disconnect();\n",
       "        }}\n",
       "}});\n",
       "\n",
       "// Listen for the removal of the full notebook cells\n",
       "var notebookContainer = gd.closest('#notebook-container');\n",
       "if (notebookContainer) {{\n",
       "    x.observe(notebookContainer, {childList: true});\n",
       "}}\n",
       "\n",
       "// Listen for the clearing of the current output cell\n",
       "var outputEl = gd.closest('.output');\n",
       "if (outputEl) {{\n",
       "    x.observe(outputEl, {childList: true});\n",
       "}}\n",
       "\n",
       "                        })                };                });            </script>        </div>"
      ]
     },
     "metadata": {},
     "output_type": "display_data"
    }
   ],
   "source": [
    "# # from datetime import datetime\n",
    "\n",
    "# # from meteostat import Point, Daily\n",
    "\n",
    "# # Set time period\n",
    "# start = dt.datetime(2018, 1, 1)\n",
    "# end = dt.datetime(2018, 12, 31)\n",
    "\n",
    "# # Create Point for Vancouver, BC\n",
    "# vancouver = Point(53.033981, -47.491164, 0)\n",
    "\n",
    "# # Get daily data for 2018\n",
    "# data = Daily(vancouver, start, end)\n",
    "# data = data.fetch().reset_index(level=0)\n",
    "# fig = px.line(data, x='time', y='tavg',\n",
    "#               title='Climate Covariates')\n",
    "\n",
    "# fig.show()"
   ]
  }
 ],
 "metadata": {
  "kernelspec": {
   "display_name": "Python 3 (ipykernel)",
   "language": "python",
   "name": "python3"
  },
  "language_info": {
   "codemirror_mode": {
    "name": "ipython",
    "version": 3
   },
   "file_extension": ".py",
   "mimetype": "text/x-python",
   "name": "python",
   "nbconvert_exporter": "python",
   "pygments_lexer": "ipython3",
   "version": "3.8.13"
  },
  "vscode": {
   "interpreter": {
    "hash": "f14b205544243dd8588217dedee7c5c0286a371980b592427970ca7c95139004"
   }
  }
 },
 "nbformat": 4,
 "nbformat_minor": 5
}
