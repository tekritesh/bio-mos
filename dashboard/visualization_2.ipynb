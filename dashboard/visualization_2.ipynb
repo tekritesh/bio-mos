{
 "cells": [
  {
   "cell_type": "code",
   "execution_count": null,
   "id": "4bbd259b",
   "metadata": {
    "ExecuteTime": {
     "end_time": "2022-07-30T20:29:20.458448Z",
     "start_time": "2022-07-30T20:29:20.451538Z"
    }
   },
   "outputs": [],
   "source": [
    "import os \n",
    "import pandas as pd\n",
    "import numpy as np\n",
    "import datetime as dt\n",
    "# import ee\n",
    "# import geemap as geemap\n",
    "from IPython.display import HTML\n",
    "\n",
    "import panel as pn\n",
    "# import param\n",
    "import plotly.express as px\n",
    "import plotly.graph_objects as go\n",
    "# import folium\n",
    "# from folium import plugins\n",
    "\n",
    "\n",
    "from meteostat import Point, Daily\n",
    "\n",
    "pn.extension('plotly')"
   ]
  },
  {
   "cell_type": "code",
   "execution_count": null,
   "id": "ed832e6c",
   "metadata": {
    "ExecuteTime": {
     "end_time": "2022-07-30T20:29:05.360253Z",
     "start_time": "2022-07-30T20:29:05.017843Z"
    }
   },
   "outputs": [],
   "source": [
    "%load_ext google.cloud.bigquery\n",
    "\n",
    "os.environ['GOOGLE_APPLICATION_CREDENTIALS'] = '../gbif-challenge-953ed382a2dd.json' ##change this"
   ]
  },
  {
   "cell_type": "code",
   "execution_count": null,
   "id": "706a1842",
   "metadata": {
    "ExecuteTime": {
     "end_time": "2022-07-30T20:29:05.389383Z",
     "start_time": "2022-07-30T20:29:05.363470Z"
    }
   },
   "outputs": [],
   "source": [
    "from google.cloud import bigquery\n",
    "\n",
    "client = bigquery.Client()"
   ]
  },
  {
   "cell_type": "code",
   "execution_count": null,
   "id": "fb0dff55",
   "metadata": {
    "ExecuteTime": {
     "end_time": "2022-07-30T20:29:05.932581Z",
     "start_time": "2022-07-30T20:29:05.925148Z"
    }
   },
   "outputs": [],
   "source": [
    "# %%bigquery df_bq\n",
    "# SELECT\n",
    "#     *\n",
    "# FROM `gbif-challenge.airflow_uploads.gbif_combined`\n",
    "# WHERE DATE(eventDate) = \"2022-04-04\"\n",
    "# ee.Initialize()"
   ]
  },
  {
   "cell_type": "code",
   "execution_count": null,
   "id": "c01ea068",
   "metadata": {},
   "outputs": [],
   "source": [
    "def get_species_names():\n",
    "    sql = f\"\"\"\n",
    "     SELECT COUNT(*) as occ_count, genericName,country FROM `gbif-challenge.airflow_uploads.gbif_combined` GROUP BY genericName,country ORDER BY country,genericName\n",
    "    \"\"\"\n",
    "    bq = client.query(sql).to_dataframe() \n",
    "    return bq.dropna()\n",
    "    "
   ]
  },
  {
   "cell_type": "code",
   "execution_count": null,
   "id": "470ec9cf",
   "metadata": {},
   "outputs": [],
   "source": [
    "# Drop Down Species Filter \n",
    "\n",
    "if os.path.exists( os.getcwd() + \"/species_names.csv\"):\n",
    "    df_species_names = pd.read_csv( os.getcwd() + \"/species_names.csv\")\n",
    "else:\n",
    "    df_species_names = get_species_names()\n",
    "    df_species_names.to_csv(os.getcwd() + \"/species_names.csv\", index=False)\n",
    "    \n"
   ]
  },
  {
   "cell_type": "code",
   "execution_count": 84,
   "id": "0d01d8f0",
   "metadata": {
    "ExecuteTime": {
     "end_time": "2022-07-30T20:29:07.146949Z",
     "start_time": "2022-07-30T20:29:07.104060Z"
    }
   },
   "outputs": [
    {
     "data": {
      "application/vnd.plotly.v1+json": {
       "config": {
        "plotlyServerURL": "https://plot.ly"
       },
       "data": [
        {
         "branchvalues": "total",
         "domain": {
          "x": [
           0,
           1
          ],
          "y": [
           0,
           1
          ]
         },
         "hovertemplate": "labels=%{label}<br>value=%{value}<br>parent=%{parent}<br>id=%{id}<extra></extra>",
         "ids": [
          "prcp",
          "tavg",
          "tmax",
          "tmin",
          "wdir",
          "wspd"
         ],
         "labels": [
          "prcp",
          "tavg",
          "tmax",
          "tmin",
          "wdir",
          "wspd"
         ],
         "marker": {
          "colors": [
           "#5cb25d",
           "#5cb25d",
           "#5cb25d",
           "#5cb25d",
           "#5cb25d",
           "#5cb25d"
          ]
         },
         "name": "",
         "parents": [
          "",
          "",
          "",
          "",
          "",
          ""
         ],
         "textfont": {
          "color": [
           "black",
           "black",
           "black",
           "black",
           "black",
           "black"
          ],
          "size": 30
         },
         "textinfo": "label+value",
         "type": "treemap",
         "values": [
          13073.3,
          85159.1,
          100031.1,
          73692.9,
          494754,
          27973.5
         ]
        }
       ],
       "layout": {
        "legend": {
         "tracegroupgap": 0
        },
        "margin": {
         "t": 60
        },
        "template": {
         "data": {
          "bar": [
           {
            "error_x": {
             "color": "#2a3f5f"
            },
            "error_y": {
             "color": "#2a3f5f"
            },
            "marker": {
             "line": {
              "color": "#E5ECF6",
              "width": 0.5
             },
             "pattern": {
              "fillmode": "overlay",
              "size": 10,
              "solidity": 0.2
             }
            },
            "type": "bar"
           }
          ],
          "barpolar": [
           {
            "marker": {
             "line": {
              "color": "#E5ECF6",
              "width": 0.5
             },
             "pattern": {
              "fillmode": "overlay",
              "size": 10,
              "solidity": 0.2
             }
            },
            "type": "barpolar"
           }
          ],
          "carpet": [
           {
            "aaxis": {
             "endlinecolor": "#2a3f5f",
             "gridcolor": "white",
             "linecolor": "white",
             "minorgridcolor": "white",
             "startlinecolor": "#2a3f5f"
            },
            "baxis": {
             "endlinecolor": "#2a3f5f",
             "gridcolor": "white",
             "linecolor": "white",
             "minorgridcolor": "white",
             "startlinecolor": "#2a3f5f"
            },
            "type": "carpet"
           }
          ],
          "choropleth": [
           {
            "colorbar": {
             "outlinewidth": 0,
             "ticks": ""
            },
            "type": "choropleth"
           }
          ],
          "contour": [
           {
            "colorbar": {
             "outlinewidth": 0,
             "ticks": ""
            },
            "colorscale": [
             [
              0,
              "#0d0887"
             ],
             [
              0.1111111111111111,
              "#46039f"
             ],
             [
              0.2222222222222222,
              "#7201a8"
             ],
             [
              0.3333333333333333,
              "#9c179e"
             ],
             [
              0.4444444444444444,
              "#bd3786"
             ],
             [
              0.5555555555555556,
              "#d8576b"
             ],
             [
              0.6666666666666666,
              "#ed7953"
             ],
             [
              0.7777777777777778,
              "#fb9f3a"
             ],
             [
              0.8888888888888888,
              "#fdca26"
             ],
             [
              1,
              "#f0f921"
             ]
            ],
            "type": "contour"
           }
          ],
          "contourcarpet": [
           {
            "colorbar": {
             "outlinewidth": 0,
             "ticks": ""
            },
            "type": "contourcarpet"
           }
          ],
          "heatmap": [
           {
            "colorbar": {
             "outlinewidth": 0,
             "ticks": ""
            },
            "colorscale": [
             [
              0,
              "#0d0887"
             ],
             [
              0.1111111111111111,
              "#46039f"
             ],
             [
              0.2222222222222222,
              "#7201a8"
             ],
             [
              0.3333333333333333,
              "#9c179e"
             ],
             [
              0.4444444444444444,
              "#bd3786"
             ],
             [
              0.5555555555555556,
              "#d8576b"
             ],
             [
              0.6666666666666666,
              "#ed7953"
             ],
             [
              0.7777777777777778,
              "#fb9f3a"
             ],
             [
              0.8888888888888888,
              "#fdca26"
             ],
             [
              1,
              "#f0f921"
             ]
            ],
            "type": "heatmap"
           }
          ],
          "heatmapgl": [
           {
            "colorbar": {
             "outlinewidth": 0,
             "ticks": ""
            },
            "colorscale": [
             [
              0,
              "#0d0887"
             ],
             [
              0.1111111111111111,
              "#46039f"
             ],
             [
              0.2222222222222222,
              "#7201a8"
             ],
             [
              0.3333333333333333,
              "#9c179e"
             ],
             [
              0.4444444444444444,
              "#bd3786"
             ],
             [
              0.5555555555555556,
              "#d8576b"
             ],
             [
              0.6666666666666666,
              "#ed7953"
             ],
             [
              0.7777777777777778,
              "#fb9f3a"
             ],
             [
              0.8888888888888888,
              "#fdca26"
             ],
             [
              1,
              "#f0f921"
             ]
            ],
            "type": "heatmapgl"
           }
          ],
          "histogram": [
           {
            "marker": {
             "pattern": {
              "fillmode": "overlay",
              "size": 10,
              "solidity": 0.2
             }
            },
            "type": "histogram"
           }
          ],
          "histogram2d": [
           {
            "colorbar": {
             "outlinewidth": 0,
             "ticks": ""
            },
            "colorscale": [
             [
              0,
              "#0d0887"
             ],
             [
              0.1111111111111111,
              "#46039f"
             ],
             [
              0.2222222222222222,
              "#7201a8"
             ],
             [
              0.3333333333333333,
              "#9c179e"
             ],
             [
              0.4444444444444444,
              "#bd3786"
             ],
             [
              0.5555555555555556,
              "#d8576b"
             ],
             [
              0.6666666666666666,
              "#ed7953"
             ],
             [
              0.7777777777777778,
              "#fb9f3a"
             ],
             [
              0.8888888888888888,
              "#fdca26"
             ],
             [
              1,
              "#f0f921"
             ]
            ],
            "type": "histogram2d"
           }
          ],
          "histogram2dcontour": [
           {
            "colorbar": {
             "outlinewidth": 0,
             "ticks": ""
            },
            "colorscale": [
             [
              0,
              "#0d0887"
             ],
             [
              0.1111111111111111,
              "#46039f"
             ],
             [
              0.2222222222222222,
              "#7201a8"
             ],
             [
              0.3333333333333333,
              "#9c179e"
             ],
             [
              0.4444444444444444,
              "#bd3786"
             ],
             [
              0.5555555555555556,
              "#d8576b"
             ],
             [
              0.6666666666666666,
              "#ed7953"
             ],
             [
              0.7777777777777778,
              "#fb9f3a"
             ],
             [
              0.8888888888888888,
              "#fdca26"
             ],
             [
              1,
              "#f0f921"
             ]
            ],
            "type": "histogram2dcontour"
           }
          ],
          "mesh3d": [
           {
            "colorbar": {
             "outlinewidth": 0,
             "ticks": ""
            },
            "type": "mesh3d"
           }
          ],
          "parcoords": [
           {
            "line": {
             "colorbar": {
              "outlinewidth": 0,
              "ticks": ""
             }
            },
            "type": "parcoords"
           }
          ],
          "pie": [
           {
            "automargin": true,
            "type": "pie"
           }
          ],
          "scatter": [
           {
            "fillpattern": {
             "fillmode": "overlay",
             "size": 10,
             "solidity": 0.2
            },
            "type": "scatter"
           }
          ],
          "scatter3d": [
           {
            "line": {
             "colorbar": {
              "outlinewidth": 0,
              "ticks": ""
             }
            },
            "marker": {
             "colorbar": {
              "outlinewidth": 0,
              "ticks": ""
             }
            },
            "type": "scatter3d"
           }
          ],
          "scattercarpet": [
           {
            "marker": {
             "colorbar": {
              "outlinewidth": 0,
              "ticks": ""
             }
            },
            "type": "scattercarpet"
           }
          ],
          "scattergeo": [
           {
            "marker": {
             "colorbar": {
              "outlinewidth": 0,
              "ticks": ""
             }
            },
            "type": "scattergeo"
           }
          ],
          "scattergl": [
           {
            "marker": {
             "colorbar": {
              "outlinewidth": 0,
              "ticks": ""
             }
            },
            "type": "scattergl"
           }
          ],
          "scattermapbox": [
           {
            "marker": {
             "colorbar": {
              "outlinewidth": 0,
              "ticks": ""
             }
            },
            "type": "scattermapbox"
           }
          ],
          "scatterpolar": [
           {
            "marker": {
             "colorbar": {
              "outlinewidth": 0,
              "ticks": ""
             }
            },
            "type": "scatterpolar"
           }
          ],
          "scatterpolargl": [
           {
            "marker": {
             "colorbar": {
              "outlinewidth": 0,
              "ticks": ""
             }
            },
            "type": "scatterpolargl"
           }
          ],
          "scatterternary": [
           {
            "marker": {
             "colorbar": {
              "outlinewidth": 0,
              "ticks": ""
             }
            },
            "type": "scatterternary"
           }
          ],
          "surface": [
           {
            "colorbar": {
             "outlinewidth": 0,
             "ticks": ""
            },
            "colorscale": [
             [
              0,
              "#0d0887"
             ],
             [
              0.1111111111111111,
              "#46039f"
             ],
             [
              0.2222222222222222,
              "#7201a8"
             ],
             [
              0.3333333333333333,
              "#9c179e"
             ],
             [
              0.4444444444444444,
              "#bd3786"
             ],
             [
              0.5555555555555556,
              "#d8576b"
             ],
             [
              0.6666666666666666,
              "#ed7953"
             ],
             [
              0.7777777777777778,
              "#fb9f3a"
             ],
             [
              0.8888888888888888,
              "#fdca26"
             ],
             [
              1,
              "#f0f921"
             ]
            ],
            "type": "surface"
           }
          ],
          "table": [
           {
            "cells": {
             "fill": {
              "color": "#EBF0F8"
             },
             "line": {
              "color": "white"
             }
            },
            "header": {
             "fill": {
              "color": "#C8D4E3"
             },
             "line": {
              "color": "white"
             }
            },
            "type": "table"
           }
          ]
         },
         "layout": {
          "annotationdefaults": {
           "arrowcolor": "#2a3f5f",
           "arrowhead": 0,
           "arrowwidth": 1
          },
          "autotypenumbers": "strict",
          "coloraxis": {
           "colorbar": {
            "outlinewidth": 0,
            "ticks": ""
           }
          },
          "colorscale": {
           "diverging": [
            [
             0,
             "#8e0152"
            ],
            [
             0.1,
             "#c51b7d"
            ],
            [
             0.2,
             "#de77ae"
            ],
            [
             0.3,
             "#f1b6da"
            ],
            [
             0.4,
             "#fde0ef"
            ],
            [
             0.5,
             "#f7f7f7"
            ],
            [
             0.6,
             "#e6f5d0"
            ],
            [
             0.7,
             "#b8e186"
            ],
            [
             0.8,
             "#7fbc41"
            ],
            [
             0.9,
             "#4d9221"
            ],
            [
             1,
             "#276419"
            ]
           ],
           "sequential": [
            [
             0,
             "#0d0887"
            ],
            [
             0.1111111111111111,
             "#46039f"
            ],
            [
             0.2222222222222222,
             "#7201a8"
            ],
            [
             0.3333333333333333,
             "#9c179e"
            ],
            [
             0.4444444444444444,
             "#bd3786"
            ],
            [
             0.5555555555555556,
             "#d8576b"
            ],
            [
             0.6666666666666666,
             "#ed7953"
            ],
            [
             0.7777777777777778,
             "#fb9f3a"
            ],
            [
             0.8888888888888888,
             "#fdca26"
            ],
            [
             1,
             "#f0f921"
            ]
           ],
           "sequentialminus": [
            [
             0,
             "#0d0887"
            ],
            [
             0.1111111111111111,
             "#46039f"
            ],
            [
             0.2222222222222222,
             "#7201a8"
            ],
            [
             0.3333333333333333,
             "#9c179e"
            ],
            [
             0.4444444444444444,
             "#bd3786"
            ],
            [
             0.5555555555555556,
             "#d8576b"
            ],
            [
             0.6666666666666666,
             "#ed7953"
            ],
            [
             0.7777777777777778,
             "#fb9f3a"
            ],
            [
             0.8888888888888888,
             "#fdca26"
            ],
            [
             1,
             "#f0f921"
            ]
           ]
          },
          "colorway": [
           "#636efa",
           "#EF553B",
           "#00cc96",
           "#ab63fa",
           "#FFA15A",
           "#19d3f3",
           "#FF6692",
           "#B6E880",
           "#FF97FF",
           "#FECB52"
          ],
          "font": {
           "color": "#2a3f5f"
          },
          "geo": {
           "bgcolor": "white",
           "lakecolor": "white",
           "landcolor": "#E5ECF6",
           "showlakes": true,
           "showland": true,
           "subunitcolor": "white"
          },
          "hoverlabel": {
           "align": "left"
          },
          "hovermode": "closest",
          "mapbox": {
           "style": "light"
          },
          "paper_bgcolor": "white",
          "plot_bgcolor": "#E5ECF6",
          "polar": {
           "angularaxis": {
            "gridcolor": "white",
            "linecolor": "white",
            "ticks": ""
           },
           "bgcolor": "#E5ECF6",
           "radialaxis": {
            "gridcolor": "white",
            "linecolor": "white",
            "ticks": ""
           }
          },
          "scene": {
           "xaxis": {
            "backgroundcolor": "#E5ECF6",
            "gridcolor": "white",
            "gridwidth": 2,
            "linecolor": "white",
            "showbackground": true,
            "ticks": "",
            "zerolinecolor": "white"
           },
           "yaxis": {
            "backgroundcolor": "#E5ECF6",
            "gridcolor": "white",
            "gridwidth": 2,
            "linecolor": "white",
            "showbackground": true,
            "ticks": "",
            "zerolinecolor": "white"
           },
           "zaxis": {
            "backgroundcolor": "#E5ECF6",
            "gridcolor": "white",
            "gridwidth": 2,
            "linecolor": "white",
            "showbackground": true,
            "ticks": "",
            "zerolinecolor": "white"
           }
          },
          "shapedefaults": {
           "line": {
            "color": "#2a3f5f"
           }
          },
          "ternary": {
           "aaxis": {
            "gridcolor": "white",
            "linecolor": "white",
            "ticks": ""
           },
           "baxis": {
            "gridcolor": "white",
            "linecolor": "white",
            "ticks": ""
           },
           "bgcolor": "#E5ECF6",
           "caxis": {
            "gridcolor": "white",
            "linecolor": "white",
            "ticks": ""
           }
          },
          "title": {
           "x": 0.05
          },
          "xaxis": {
           "automargin": true,
           "gridcolor": "white",
           "linecolor": "white",
           "ticks": "",
           "title": {
            "standoff": 15
           },
           "zerolinecolor": "white",
           "zerolinewidth": 2
          },
          "yaxis": {
           "automargin": true,
           "gridcolor": "white",
           "linecolor": "white",
           "ticks": "",
           "title": {
            "standoff": 15
           },
           "zerolinecolor": "white",
           "zerolinewidth": 2
          }
         }
        }
       }
      }
     },
     "metadata": {},
     "output_type": "display_data"
    }
   ],
   "source": [
    "df = pd.read_csv(\"/Users/riteshtekriwal/Work/Data/Raw/bio-conservation/test_combined.csv\")\n",
    "# df = pd.read_csv(\"gbif_combined.csv\")\n",
    "\n",
    "df.columns\n",
    "\n",
    "        ## filter the dataframe to the selected point\n",
    "# df = df.query(query)\n",
    "df = pd.melt(df, value_vars=['tavg', 'tmin', 'tmax','prcp','wspd','wdir'])\n",
    "fig = px.treemap(df, path=['variable'], values='value')\n",
    "fig.data[0].textinfo = 'label+value'\n",
    "\n",
    "level = 1 # write the number of the last level you have\n",
    "lvl_clr = \"#5cb25d\"\n",
    "font_clr = \"black\"\n",
    "\n",
    "fig.data[0]['marker']['colors'] =[lvl_clr for sector in fig.data[0]['ids'] if len(sector.split(\"/\")) == level]\n",
    "fig.data[0]['textfont']['color'] = [font_clr  for sector in fig.data[0]['ids'] if len(sector.split(\"/\")) == level]\n",
    "\n",
    "fig.data[0]['textfont']['size'] = 30\n",
    "\n",
    "fig.show()\n",
    "# df.head()\n",
    "\n",
    "# df.head(100)"
   ]
  },
  {
   "cell_type": "code",
   "execution_count": 86,
   "id": "f08de20f",
   "metadata": {},
   "outputs": [],
   "source": [
    "df.to_csv('/Users/riteshtekriwal/Work/GitClones/bio-conservation/dashboard/weather.csv', index = False)"
   ]
  },
  {
   "cell_type": "code",
   "execution_count": null,
   "id": "eddc323c",
   "metadata": {},
   "outputs": [],
   "source": [
    "df=  df[df['country'] == 'Brazil']\n",
    "x = df['species'].value_counts().rename_axis('Species').reset_index(name='Occurence Count')\n",
    "\n",
    "# x = x.rename(columns = {'index':'species_name'})\n",
    "x = x.sort_values(by = ['Occurence Count'],ascending=[False])\n",
    "x.head(10)"
   ]
  },
  {
   "cell_type": "code",
   "execution_count": null,
   "id": "6a743ab4",
   "metadata": {},
   "outputs": [],
   "source": [
    "\n",
    "fig = px.bar(\n",
    "    x.head(10),\n",
    "    x = 'Occurence Count',\n",
    "    y=\"Species\",\n",
    "    color_discrete_sequence=['#5cb25d'],\n",
    "    text = 'Occurence Count',\n",
    "    title = 'Occurence Counts for window <>'\n",
    "    )\n",
    "fig.update_layout({\n",
    "    'plot_bgcolor': 'rgba(0, 0, 0, 0)',\n",
    "    'paper_bgcolor': 'rgba(0, 0, 0, 0)',\n",
    "    })\n",
    "\n",
    "fig"
   ]
  },
  {
   "cell_type": "code",
   "execution_count": 14,
   "id": "43898d5b",
   "metadata": {},
   "outputs": [
    {
     "data": {
      "application/vnd.plotly.v1+json": {
       "config": {
        "plotlyServerURL": "https://plot.ly"
       },
       "data": [
        {
         "customdata": [
          [
           "Trichonephila clavipes",
           -46.702285,
           -23.58799
          ],
          [
           "Trichonephila clavipes",
           -46.702285,
           -23.58799
          ],
          [
           "Trichonephila clavipes",
           -46.988262,
           -23.02455
          ],
          [
           "Trichonephila clavipes",
           -46.988262,
           -23.02455
          ],
          [
           "Trichonephila clavipes",
           -48.019878,
           -15.800116
          ],
          [
           "Trichonephila clavipes",
           -43.153095,
           -22.951421
          ],
          [
           "Trichonephila clavipes",
           -48.301442,
           -25.549858
          ],
          [
           "Trichonephila clavipes",
           -47.836822,
           -15.883839
          ],
          [
           "Trichonephila clavipes",
           -46.760451,
           -23.541354
          ],
          [
           "Trichonephila clavipes",
           -45.82443,
           -23.584868
          ],
          [
           "Trichonephila clavipes",
           -45.82443,
           -23.584868
          ],
          [
           "Trichonephila clavipes",
           -46.705313,
           -23.637978
          ],
          [
           "Trichonephila clavipes",
           -46.705313,
           -23.637978
          ],
          [
           "Trichonephila clavipes",
           -47.879587,
           -15.779772
          ],
          [
           "Trichonephila clavipes",
           -47.879587,
           -15.779772
          ],
          [
           "Trichonephila clavipes",
           -50.822815,
           -29.822145
          ],
          [
           "Trichonephila clavipes",
           -42.861625,
           -20.761817
          ],
          [
           "Trichonephila clavipes",
           -49.238,
           -25.441067
          ],
          [
           "Trichonephila clavipes",
           -49.2379,
           -25.44105
          ],
          [
           "Trichonephila clavipes",
           -46.745672,
           -23.601053
          ],
          [
           "Trichonephila clavipes",
           -46.74629,
           -23.600499
          ],
          [
           "Trichonephila clavipes",
           -34.944669,
           -8.013517
          ],
          [
           "Trichonephila clavipes",
           -34.944669,
           -8.013517
          ],
          [
           "Trichonephila clavipes",
           -46.760784,
           -23.543311
          ],
          [
           "Trichonephila clavipes",
           -43.938668,
           -19.919052
          ],
          [
           "Trichonephila clavipes",
           -43.938668,
           -19.919052
          ],
          [
           "Trichonephila clavipes",
           -46.760308,
           -23.541482
          ],
          [
           "Trichonephila clavipes",
           -47.8988,
           -15.744533
          ],
          [
           "Trichonephila clavipes",
           -45.42264,
           -23.827066
          ],
          [
           "Trichonephila clavipes",
           -44.866195,
           -20.095269
          ],
          [
           "Trichonephila clavipes",
           -44.825112,
           -20.160283
          ],
          [
           "Trichonephila clavipes",
           -46.64581,
           -23.588436
          ],
          [
           "Trichonephila clavipes",
           -46.625182,
           -23.63976
          ],
          [
           "Trichonephila clavipes",
           -42.984896,
           -22.92977
          ],
          [
           "Trichonephila clavipes",
           -42.04023,
           -22.876817
          ],
          [
           "Trichonephila clavipes",
           -48.008808,
           -15.795753
          ],
          [
           "Trichonephila clavipes",
           -46.089114,
           -21.761901
          ],
          [
           "Trichonephila clavipes",
           -47.632875,
           -22.710353
          ],
          [
           "Trichonephila clavipes",
           -46.730778,
           -23.561005
          ],
          [
           "Trichonephila clavipes",
           -46.760879,
           -23.542844
          ],
          [
           "Trichonephila clavipes",
           -47.861903,
           -15.738166
          ],
          [
           "Trichonephila clavipes",
           -46.731408,
           -8.97315
          ],
          [
           "Trichonephila clavipes",
           -46.760927,
           -23.542966
          ],
          [
           "Trichonephila clavipes",
           -38.633333,
           -3.983333
          ],
          [
           "Trichonephila clavipes",
           -38.633333,
           -3.983333
          ],
          [
           "Trichonephila clavipes",
           -38.633333,
           -3.983333
          ],
          [
           "Trichonephila clavipes",
           -38.633333,
           -3.983333
          ],
          [
           "Trichonephila clavipes",
           -47.958321,
           -23.468504
          ],
          [
           "Trichonephila clavipes",
           -46.760807,
           -23.544166
          ],
          [
           "Trichonephila clavipes",
           -52.845663,
           -26.30818
          ],
          [
           "Trichonephila clavipes",
           -47.520302,
           -22.411412
          ],
          [
           "Trichonephila clavipes",
           -46.692169,
           -21.738522
          ],
          [
           "Trichonephila clavipes",
           -46.658986,
           -23.803293
          ],
          [
           "Trichonephila clavipes",
           -47.83401,
           -15.873524
          ],
          [
           "Trichonephila clavipes",
           -47.17476,
           -21.339908
          ],
          [
           "Trichonephila clavipes",
           -48.950988,
           -16.308339
          ],
          [
           "Trichonephila clavipes",
           -46.637083,
           -23.452565
          ],
          [
           "Trichonephila clavipes",
           -46.639871,
           -23.394878
          ],
          [
           "Trichonephila clavipes",
           -46.878963,
           -22.929989
          ],
          [
           "Trichonephila clavipes",
           -50.098504,
           -22.163039
          ],
          [
           "Trichonephila clavipes",
           -46.655652,
           -23.587831
          ],
          [
           "Trichonephila clavipes",
           -54.448021,
           -25.675653
          ],
          [
           "Trichonephila clavipes",
           -41.892576,
           -22.780913
          ],
          [
           "Trichonephila clavipes",
           -46.668903,
           -23.531411
          ],
          [
           "Trichonephila clavipes",
           -46.688084,
           -23.472529
          ],
          [
           "Trichonephila clavipes",
           -47.858889,
           -15.729444
          ],
          [
           "Trichonephila clavipes",
           -46.467547,
           -23.575404
          ],
          [
           "Trichonephila clavipes",
           -46.66362,
           -23.591087
          ]
         ],
         "hovertemplate": "<b>%{hovertext}</b><br><br>species=%{customdata[0]}<br>point_size=%{marker.size}<br>decimalLatitude=%{customdata[2]}<br>decimalLongitude=%{customdata[1]}<extra></extra>",
         "hovertext": [
          "Trichonephila",
          "Trichonephila",
          "Trichonephila",
          "Trichonephila",
          "Trichonephila",
          "Trichonephila",
          "Trichonephila",
          "Trichonephila",
          "Trichonephila",
          "Trichonephila",
          "Trichonephila",
          "Trichonephila",
          "Trichonephila",
          "Trichonephila",
          "Trichonephila",
          "Trichonephila",
          "Trichonephila",
          "Trichonephila",
          "Trichonephila",
          "Trichonephila",
          "Trichonephila",
          "Trichonephila",
          "Trichonephila",
          "Trichonephila",
          "Trichonephila",
          "Trichonephila",
          "Trichonephila",
          "Trichonephila",
          "Trichonephila",
          "Trichonephila",
          "Trichonephila",
          "Trichonephila",
          "Trichonephila",
          "Trichonephila",
          "Trichonephila",
          "Trichonephila",
          "Trichonephila",
          "Trichonephila",
          "Trichonephila",
          "Trichonephila",
          "Trichonephila",
          "Trichonephila",
          "Trichonephila",
          "Trichonephila",
          "Trichonephila",
          "Trichonephila",
          "Trichonephila",
          "Trichonephila",
          "Trichonephila",
          "Trichonephila",
          "Trichonephila",
          "Trichonephila",
          "Trichonephila",
          "Trichonephila",
          "Trichonephila",
          "Trichonephila",
          "Trichonephila",
          "Trichonephila",
          "Trichonephila",
          "Trichonephila",
          "Trichonephila",
          "Trichonephila",
          "Trichonephila",
          "Trichonephila",
          "Trichonephila",
          "Trichonephila",
          "Trichonephila",
          "Trichonephila"
         ],
         "lat": [
          -23.58799,
          -23.58799,
          -23.02455,
          -23.02455,
          -15.800116,
          -22.951421,
          -25.549858,
          -15.883839,
          -23.541354,
          -23.584868,
          -23.584868,
          -23.637978,
          -23.637978,
          -15.779772,
          -15.779772,
          -29.822145,
          -20.761817,
          -25.441067,
          -25.44105,
          -23.601053,
          -23.600499,
          -8.013517,
          -8.013517,
          -23.543311,
          -19.919052,
          -19.919052,
          -23.541482,
          -15.744533,
          -23.827066,
          -20.095269,
          -20.160283,
          -23.588436,
          -23.63976,
          -22.92977,
          -22.876817,
          -15.795753,
          -21.761901,
          -22.710353,
          -23.561005,
          -23.542844,
          -15.738166,
          -8.97315,
          -23.542966,
          -3.983333,
          -3.983333,
          -3.983333,
          -3.983333,
          -23.468504,
          -23.544166,
          -26.30818,
          -22.411412,
          -21.738522,
          -23.803293,
          -15.873524,
          -21.339908,
          -16.308339,
          -23.452565,
          -23.394878,
          -22.929989,
          -22.163039,
          -23.587831,
          -25.675653,
          -22.780913,
          -23.531411,
          -23.472529,
          -15.729444,
          -23.575404,
          -23.591087
         ],
         "legendgroup": "Trichonephila clavipes",
         "lon": [
          -46.702285,
          -46.702285,
          -46.988262,
          -46.988262,
          -48.019878,
          -43.153095,
          -48.301442,
          -47.836822,
          -46.760451,
          -45.82443,
          -45.82443,
          -46.705313,
          -46.705313,
          -47.879587,
          -47.879587,
          -50.822815,
          -42.861625,
          -49.238,
          -49.2379,
          -46.745672,
          -46.74629,
          -34.944669,
          -34.944669,
          -46.760784,
          -43.938668,
          -43.938668,
          -46.760308,
          -47.8988,
          -45.42264,
          -44.866195,
          -44.825112,
          -46.64581,
          -46.625182,
          -42.984896,
          -42.04023,
          -48.008808,
          -46.089114,
          -47.632875,
          -46.730778,
          -46.760879,
          -47.861903,
          -46.731408,
          -46.760927,
          -38.633333,
          -38.633333,
          -38.633333,
          -38.633333,
          -47.958321,
          -46.760807,
          -52.845663,
          -47.520302,
          -46.692169,
          -46.658986,
          -47.83401,
          -47.17476,
          -48.950988,
          -46.637083,
          -46.639871,
          -46.878963,
          -50.098504,
          -46.655652,
          -54.448021,
          -41.892576,
          -46.668903,
          -46.688084,
          -47.858889,
          -46.467547,
          -46.66362
         ],
         "marker": {
          "color": "#636efa",
          "size": [
           10,
           10,
           10,
           10,
           10,
           10,
           10,
           10,
           10,
           10,
           10,
           10,
           10,
           10,
           10,
           10,
           10,
           10,
           10,
           10,
           10,
           10,
           10,
           10,
           10,
           10,
           10,
           10,
           10,
           10,
           10,
           10,
           10,
           10,
           10,
           10,
           10,
           10,
           10,
           10,
           10,
           10,
           10,
           10,
           10,
           10,
           10,
           10,
           10,
           10,
           10,
           10,
           10,
           10,
           10,
           10,
           10,
           10,
           10,
           10,
           10,
           10,
           10,
           10,
           10,
           10,
           10,
           10
          ],
          "sizemode": "area",
          "sizeref": 0.025
         },
         "mode": "markers",
         "name": "Trichonephila clavipes",
         "showlegend": true,
         "subplot": "mapbox",
         "type": "scattermapbox"
        }
       ],
       "layout": {
        "annotations": [
         {
          "align": "left",
          "showarrow": false,
          "text": "Trace type:",
          "x": 0,
          "y": 1.06,
          "yref": "paper"
         }
        ],
        "autosize": true,
        "hovermode": "closest",
        "legend": {
         "itemsizing": "constant",
         "title": {
          "text": "species"
         },
         "tracegroupgap": 0
        },
        "mapbox": {
         "center": {
          "lat": -20.407006779411766,
          "lon": -46.053295852941176
         },
         "domain": {
          "x": [
           0,
           1
          ],
          "y": [
           0,
           1
          ]
         },
         "style": "open-street-map",
         "zoom": 6
        },
        "margin": {
         "b": 0,
         "l": 0,
         "r": 0,
         "t": 0
        },
        "showlegend": false,
        "template": {
         "data": {
          "bar": [
           {
            "error_x": {
             "color": "#2a3f5f"
            },
            "error_y": {
             "color": "#2a3f5f"
            },
            "marker": {
             "line": {
              "color": "white",
              "width": 0.5
             },
             "pattern": {
              "fillmode": "overlay",
              "size": 10,
              "solidity": 0.2
             }
            },
            "type": "bar"
           }
          ],
          "barpolar": [
           {
            "marker": {
             "line": {
              "color": "white",
              "width": 0.5
             },
             "pattern": {
              "fillmode": "overlay",
              "size": 10,
              "solidity": 0.2
             }
            },
            "type": "barpolar"
           }
          ],
          "carpet": [
           {
            "aaxis": {
             "endlinecolor": "#2a3f5f",
             "gridcolor": "#C8D4E3",
             "linecolor": "#C8D4E3",
             "minorgridcolor": "#C8D4E3",
             "startlinecolor": "#2a3f5f"
            },
            "baxis": {
             "endlinecolor": "#2a3f5f",
             "gridcolor": "#C8D4E3",
             "linecolor": "#C8D4E3",
             "minorgridcolor": "#C8D4E3",
             "startlinecolor": "#2a3f5f"
            },
            "type": "carpet"
           }
          ],
          "choropleth": [
           {
            "colorbar": {
             "outlinewidth": 0,
             "ticks": ""
            },
            "type": "choropleth"
           }
          ],
          "contour": [
           {
            "colorbar": {
             "outlinewidth": 0,
             "ticks": ""
            },
            "colorscale": [
             [
              0,
              "#0d0887"
             ],
             [
              0.1111111111111111,
              "#46039f"
             ],
             [
              0.2222222222222222,
              "#7201a8"
             ],
             [
              0.3333333333333333,
              "#9c179e"
             ],
             [
              0.4444444444444444,
              "#bd3786"
             ],
             [
              0.5555555555555556,
              "#d8576b"
             ],
             [
              0.6666666666666666,
              "#ed7953"
             ],
             [
              0.7777777777777778,
              "#fb9f3a"
             ],
             [
              0.8888888888888888,
              "#fdca26"
             ],
             [
              1,
              "#f0f921"
             ]
            ],
            "type": "contour"
           }
          ],
          "contourcarpet": [
           {
            "colorbar": {
             "outlinewidth": 0,
             "ticks": ""
            },
            "type": "contourcarpet"
           }
          ],
          "heatmap": [
           {
            "colorbar": {
             "outlinewidth": 0,
             "ticks": ""
            },
            "colorscale": [
             [
              0,
              "#0d0887"
             ],
             [
              0.1111111111111111,
              "#46039f"
             ],
             [
              0.2222222222222222,
              "#7201a8"
             ],
             [
              0.3333333333333333,
              "#9c179e"
             ],
             [
              0.4444444444444444,
              "#bd3786"
             ],
             [
              0.5555555555555556,
              "#d8576b"
             ],
             [
              0.6666666666666666,
              "#ed7953"
             ],
             [
              0.7777777777777778,
              "#fb9f3a"
             ],
             [
              0.8888888888888888,
              "#fdca26"
             ],
             [
              1,
              "#f0f921"
             ]
            ],
            "type": "heatmap"
           }
          ],
          "heatmapgl": [
           {
            "colorbar": {
             "outlinewidth": 0,
             "ticks": ""
            },
            "colorscale": [
             [
              0,
              "#0d0887"
             ],
             [
              0.1111111111111111,
              "#46039f"
             ],
             [
              0.2222222222222222,
              "#7201a8"
             ],
             [
              0.3333333333333333,
              "#9c179e"
             ],
             [
              0.4444444444444444,
              "#bd3786"
             ],
             [
              0.5555555555555556,
              "#d8576b"
             ],
             [
              0.6666666666666666,
              "#ed7953"
             ],
             [
              0.7777777777777778,
              "#fb9f3a"
             ],
             [
              0.8888888888888888,
              "#fdca26"
             ],
             [
              1,
              "#f0f921"
             ]
            ],
            "type": "heatmapgl"
           }
          ],
          "histogram": [
           {
            "marker": {
             "pattern": {
              "fillmode": "overlay",
              "size": 10,
              "solidity": 0.2
             }
            },
            "type": "histogram"
           }
          ],
          "histogram2d": [
           {
            "colorbar": {
             "outlinewidth": 0,
             "ticks": ""
            },
            "colorscale": [
             [
              0,
              "#0d0887"
             ],
             [
              0.1111111111111111,
              "#46039f"
             ],
             [
              0.2222222222222222,
              "#7201a8"
             ],
             [
              0.3333333333333333,
              "#9c179e"
             ],
             [
              0.4444444444444444,
              "#bd3786"
             ],
             [
              0.5555555555555556,
              "#d8576b"
             ],
             [
              0.6666666666666666,
              "#ed7953"
             ],
             [
              0.7777777777777778,
              "#fb9f3a"
             ],
             [
              0.8888888888888888,
              "#fdca26"
             ],
             [
              1,
              "#f0f921"
             ]
            ],
            "type": "histogram2d"
           }
          ],
          "histogram2dcontour": [
           {
            "colorbar": {
             "outlinewidth": 0,
             "ticks": ""
            },
            "colorscale": [
             [
              0,
              "#0d0887"
             ],
             [
              0.1111111111111111,
              "#46039f"
             ],
             [
              0.2222222222222222,
              "#7201a8"
             ],
             [
              0.3333333333333333,
              "#9c179e"
             ],
             [
              0.4444444444444444,
              "#bd3786"
             ],
             [
              0.5555555555555556,
              "#d8576b"
             ],
             [
              0.6666666666666666,
              "#ed7953"
             ],
             [
              0.7777777777777778,
              "#fb9f3a"
             ],
             [
              0.8888888888888888,
              "#fdca26"
             ],
             [
              1,
              "#f0f921"
             ]
            ],
            "type": "histogram2dcontour"
           }
          ],
          "mesh3d": [
           {
            "colorbar": {
             "outlinewidth": 0,
             "ticks": ""
            },
            "type": "mesh3d"
           }
          ],
          "parcoords": [
           {
            "line": {
             "colorbar": {
              "outlinewidth": 0,
              "ticks": ""
             }
            },
            "type": "parcoords"
           }
          ],
          "pie": [
           {
            "automargin": true,
            "type": "pie"
           }
          ],
          "scatter": [
           {
            "fillpattern": {
             "fillmode": "overlay",
             "size": 10,
             "solidity": 0.2
            },
            "type": "scatter"
           }
          ],
          "scatter3d": [
           {
            "line": {
             "colorbar": {
              "outlinewidth": 0,
              "ticks": ""
             }
            },
            "marker": {
             "colorbar": {
              "outlinewidth": 0,
              "ticks": ""
             }
            },
            "type": "scatter3d"
           }
          ],
          "scattercarpet": [
           {
            "marker": {
             "colorbar": {
              "outlinewidth": 0,
              "ticks": ""
             }
            },
            "type": "scattercarpet"
           }
          ],
          "scattergeo": [
           {
            "marker": {
             "colorbar": {
              "outlinewidth": 0,
              "ticks": ""
             }
            },
            "type": "scattergeo"
           }
          ],
          "scattergl": [
           {
            "marker": {
             "colorbar": {
              "outlinewidth": 0,
              "ticks": ""
             }
            },
            "type": "scattergl"
           }
          ],
          "scattermapbox": [
           {
            "marker": {
             "colorbar": {
              "outlinewidth": 0,
              "ticks": ""
             }
            },
            "type": "scattermapbox"
           }
          ],
          "scatterpolar": [
           {
            "marker": {
             "colorbar": {
              "outlinewidth": 0,
              "ticks": ""
             }
            },
            "type": "scatterpolar"
           }
          ],
          "scatterpolargl": [
           {
            "marker": {
             "colorbar": {
              "outlinewidth": 0,
              "ticks": ""
             }
            },
            "type": "scatterpolargl"
           }
          ],
          "scatterternary": [
           {
            "marker": {
             "colorbar": {
              "outlinewidth": 0,
              "ticks": ""
             }
            },
            "type": "scatterternary"
           }
          ],
          "surface": [
           {
            "colorbar": {
             "outlinewidth": 0,
             "ticks": ""
            },
            "colorscale": [
             [
              0,
              "#0d0887"
             ],
             [
              0.1111111111111111,
              "#46039f"
             ],
             [
              0.2222222222222222,
              "#7201a8"
             ],
             [
              0.3333333333333333,
              "#9c179e"
             ],
             [
              0.4444444444444444,
              "#bd3786"
             ],
             [
              0.5555555555555556,
              "#d8576b"
             ],
             [
              0.6666666666666666,
              "#ed7953"
             ],
             [
              0.7777777777777778,
              "#fb9f3a"
             ],
             [
              0.8888888888888888,
              "#fdca26"
             ],
             [
              1,
              "#f0f921"
             ]
            ],
            "type": "surface"
           }
          ],
          "table": [
           {
            "cells": {
             "fill": {
              "color": "#EBF0F8"
             },
             "line": {
              "color": "white"
             }
            },
            "header": {
             "fill": {
              "color": "#C8D4E3"
             },
             "line": {
              "color": "white"
             }
            },
            "type": "table"
           }
          ]
         },
         "layout": {
          "annotationdefaults": {
           "arrowcolor": "#2a3f5f",
           "arrowhead": 0,
           "arrowwidth": 1
          },
          "autotypenumbers": "strict",
          "coloraxis": {
           "colorbar": {
            "outlinewidth": 0,
            "ticks": ""
           }
          },
          "colorscale": {
           "diverging": [
            [
             0,
             "#8e0152"
            ],
            [
             0.1,
             "#c51b7d"
            ],
            [
             0.2,
             "#de77ae"
            ],
            [
             0.3,
             "#f1b6da"
            ],
            [
             0.4,
             "#fde0ef"
            ],
            [
             0.5,
             "#f7f7f7"
            ],
            [
             0.6,
             "#e6f5d0"
            ],
            [
             0.7,
             "#b8e186"
            ],
            [
             0.8,
             "#7fbc41"
            ],
            [
             0.9,
             "#4d9221"
            ],
            [
             1,
             "#276419"
            ]
           ],
           "sequential": [
            [
             0,
             "#0d0887"
            ],
            [
             0.1111111111111111,
             "#46039f"
            ],
            [
             0.2222222222222222,
             "#7201a8"
            ],
            [
             0.3333333333333333,
             "#9c179e"
            ],
            [
             0.4444444444444444,
             "#bd3786"
            ],
            [
             0.5555555555555556,
             "#d8576b"
            ],
            [
             0.6666666666666666,
             "#ed7953"
            ],
            [
             0.7777777777777778,
             "#fb9f3a"
            ],
            [
             0.8888888888888888,
             "#fdca26"
            ],
            [
             1,
             "#f0f921"
            ]
           ],
           "sequentialminus": [
            [
             0,
             "#0d0887"
            ],
            [
             0.1111111111111111,
             "#46039f"
            ],
            [
             0.2222222222222222,
             "#7201a8"
            ],
            [
             0.3333333333333333,
             "#9c179e"
            ],
            [
             0.4444444444444444,
             "#bd3786"
            ],
            [
             0.5555555555555556,
             "#d8576b"
            ],
            [
             0.6666666666666666,
             "#ed7953"
            ],
            [
             0.7777777777777778,
             "#fb9f3a"
            ],
            [
             0.8888888888888888,
             "#fdca26"
            ],
            [
             1,
             "#f0f921"
            ]
           ]
          },
          "colorway": [
           "#636efa",
           "#EF553B",
           "#00cc96",
           "#ab63fa",
           "#FFA15A",
           "#19d3f3",
           "#FF6692",
           "#B6E880",
           "#FF97FF",
           "#FECB52"
          ],
          "font": {
           "color": "#2a3f5f"
          },
          "geo": {
           "bgcolor": "white",
           "lakecolor": "white",
           "landcolor": "white",
           "showlakes": true,
           "showland": true,
           "subunitcolor": "#C8D4E3"
          },
          "hoverlabel": {
           "align": "left"
          },
          "hovermode": "closest",
          "mapbox": {
           "style": "light"
          },
          "paper_bgcolor": "white",
          "plot_bgcolor": "white",
          "polar": {
           "angularaxis": {
            "gridcolor": "#EBF0F8",
            "linecolor": "#EBF0F8",
            "ticks": ""
           },
           "bgcolor": "white",
           "radialaxis": {
            "gridcolor": "#EBF0F8",
            "linecolor": "#EBF0F8",
            "ticks": ""
           }
          },
          "scene": {
           "xaxis": {
            "backgroundcolor": "white",
            "gridcolor": "#DFE8F3",
            "gridwidth": 2,
            "linecolor": "#EBF0F8",
            "showbackground": true,
            "ticks": "",
            "zerolinecolor": "#EBF0F8"
           },
           "yaxis": {
            "backgroundcolor": "white",
            "gridcolor": "#DFE8F3",
            "gridwidth": 2,
            "linecolor": "#EBF0F8",
            "showbackground": true,
            "ticks": "",
            "zerolinecolor": "#EBF0F8"
           },
           "zaxis": {
            "backgroundcolor": "white",
            "gridcolor": "#DFE8F3",
            "gridwidth": 2,
            "linecolor": "#EBF0F8",
            "showbackground": true,
            "ticks": "",
            "zerolinecolor": "#EBF0F8"
           }
          },
          "shapedefaults": {
           "line": {
            "color": "#2a3f5f"
           }
          },
          "ternary": {
           "aaxis": {
            "gridcolor": "#DFE8F3",
            "linecolor": "#A2B1C6",
            "ticks": ""
           },
           "baxis": {
            "gridcolor": "#DFE8F3",
            "linecolor": "#A2B1C6",
            "ticks": ""
           },
           "bgcolor": "white",
           "caxis": {
            "gridcolor": "#DFE8F3",
            "linecolor": "#A2B1C6",
            "ticks": ""
           }
          },
          "title": {
           "x": 0.05
          },
          "xaxis": {
           "automargin": true,
           "gridcolor": "#EBF0F8",
           "linecolor": "#EBF0F8",
           "ticks": "",
           "title": {
            "standoff": 15
           },
           "zerolinecolor": "#EBF0F8",
           "zerolinewidth": 2
          },
          "yaxis": {
           "automargin": true,
           "gridcolor": "#EBF0F8",
           "linecolor": "#EBF0F8",
           "ticks": "",
           "title": {
            "standoff": 15
           },
           "zerolinecolor": "#EBF0F8",
           "zerolinewidth": 2
          }
         }
        },
        "updatemenus": [
         {
          "buttons": [
           {
            "args": [
             "hover_name",
             "tavg"
            ],
            "label": "Occurence",
            "method": "update"
           },
           {
            "args": [
             "hover_name",
             "prcp"
            ],
            "label": "Soil",
            "method": "update"
           }
          ],
          "direction": "left",
          "pad": {
           "r": 10,
           "t": 10
          },
          "showactive": true,
          "type": "buttons",
          "x": 0.11,
          "xanchor": "left",
          "y": 1.1,
          "yanchor": "top"
         }
        ]
       }
      }
     },
     "metadata": {},
     "output_type": "display_data"
    }
   ],
   "source": [
    "df['point_size'] = 10\n",
    "\n",
    "\n",
    "fig = px.scatter_mapbox(\n",
    "        df[df['species']==\"Trichonephila clavipes\"],\n",
    "        lat=\"decimalLatitude\",\n",
    "        lon=\"decimalLongitude\",\n",
    "        color=\"species\",\n",
    "        hover_name= 'genericName',\n",
    "        size = 'point_size',\n",
    "        hover_data= ['species','decimalLongitude','decimalLatitude'],\n",
    "        # color_discrete_sequence=['#5cb25d'],\n",
    "        # color_continuous_scale=px.colors.cyclical.IceFire,\n",
    "        zoom=6,\n",
    "        mapbox_style=\"open-street-map\")\n",
    "\n",
    "    # fig.update_layout(showlegend=False) \n",
    "# fig.update_layout({\n",
    "#     'plot_bgcolor': 'rgba(0, 0, 0, 0)',\n",
    "#     'paper_bgcolor': 'rgba(0, 0, 0, 0)',\n",
    "#     })\n",
    "\n",
    "fig.update_layout(\n",
    "        # title='Geo Spatial Occcurence Instances for <>',\n",
    "        autosize=True,\n",
    "        hovermode='closest',\n",
    "        margin={\"r\":0,\"t\":0,\"l\":0,\"b\":0},\n",
    "        template=\"plotly_white\",\n",
    "        showlegend=False)\n",
    "\n",
    "fig.update_layout(\n",
    "        updatemenus=[\n",
    "            dict(\n",
    "                type = \"buttons\",\n",
    "                direction = \"left\",\n",
    "                buttons=list([\n",
    "                    dict(\n",
    "                        args=[\"hover_name\", \"size\"],\n",
    "                        label=\"Occurence\",\n",
    "                        method=\"update\"\n",
    "                    ),\n",
    "                    dict(\n",
    "                        args=[\"hover_name\", \"prcp\"],\n",
    "                        label=\"Soil\",\n",
    "                        method=\"update\"\n",
    "                    )\n",
    "                ]),\n",
    "                pad={\"r\": 10, \"t\": 10},\n",
    "                showactive=True,\n",
    "                x=0.11,\n",
    "                xanchor=\"left\",\n",
    "                y=1.1,\n",
    "                yanchor=\"top\"\n",
    "            ),\n",
    "        ]\n",
    "    )\n",
    "\n",
    "    # Add annotation\n",
    "fig.update_layout(\n",
    "        annotations=[\n",
    "            dict(text=\"Trace type:\", showarrow=False,\n",
    "                                x=0, y=1.06, yref=\"paper\", align=\"left\")\n",
    "        ]\n",
    "    )\n",
    "\n",
    "fig"
   ]
  },
  {
   "cell_type": "code",
   "execution_count": 75,
   "id": "74128ab1",
   "metadata": {},
   "outputs": [
    {
     "data": {
      "text/plain": [
       "Index(['Unnamed: 0', 'key', 'publishingCountry', 'basisOfRecord',\n",
       "       'occurrenceStatus', 'scientificName', 'acceptedScientificName',\n",
       "       'kingdom', 'phylum', 'order', 'family', 'genus', 'species',\n",
       "       'genericName', 'specificEpithet', 'taxonRank', 'taxonomicStatus',\n",
       "       'iucnRedListCategory', 'decimalLongitude', 'decimalLatitude',\n",
       "       'coordinateUncertaintyInMeters', 'eventDate', 'issues', 'class',\n",
       "       'countryCode', 'country', 'datasetName', 'avg_radiance',\n",
       "       'avg_deg_urban', 'is_invasive', 'land_cover_label', 'tavg', 'tmin',\n",
       "       'tmax', 'prcp', 'snow', 'wdir', 'wspd', 'wpgt', 'pres', 'tsun',\n",
       "       'phh2o_0_5cm_mean', 'bdod_0_5cm_mean', 'cec_0_5cm_mean',\n",
       "       'cfvo_0_5cm_mean', 'clay_0_5cm_mean', 'nitrogen_0_5cm_mean',\n",
       "       'sand_0_5cm_mean', 'silt_0_5cm_mean', 'soc_0_5cm_mean',\n",
       "       'ocd_0_5cm_mean'],\n",
       "      dtype='object')"
      ]
     },
     "execution_count": 75,
     "metadata": {},
     "output_type": "execute_result"
    }
   ],
   "source": [
    "df[df['species']==\"Trichonephila clavipes\"].columns"
   ]
  },
  {
   "cell_type": "code",
   "execution_count": 104,
   "id": "eceb58e7",
   "metadata": {},
   "outputs": [
    {
     "data": {
      "text/html": [
       "<div>\n",
       "<style scoped>\n",
       "    .dataframe tbody tr th:only-of-type {\n",
       "        vertical-align: middle;\n",
       "    }\n",
       "\n",
       "    .dataframe tbody tr th {\n",
       "        vertical-align: top;\n",
       "    }\n",
       "\n",
       "    .dataframe thead th {\n",
       "        text-align: right;\n",
       "    }\n",
       "</style>\n",
       "<table border=\"1\" class=\"dataframe\">\n",
       "  <thead>\n",
       "    <tr style=\"text-align: right;\">\n",
       "      <th></th>\n",
       "      <th>variable</th>\n",
       "      <th>value</th>\n",
       "    </tr>\n",
       "  </thead>\n",
       "  <tbody>\n",
       "    <tr>\n",
       "      <th>0</th>\n",
       "      <td>tavg</td>\n",
       "      <td>NaN</td>\n",
       "    </tr>\n",
       "  </tbody>\n",
       "</table>\n",
       "</div>"
      ],
      "text/plain": [
       "  variable  value\n",
       "0     tavg    NaN"
      ]
     },
     "execution_count": 104,
     "metadata": {},
     "output_type": "execute_result"
    }
   ],
   "source": [
    "df.head(1)"
   ]
  },
  {
   "cell_type": "code",
   "execution_count": 78,
   "id": "af86d12d",
   "metadata": {},
   "outputs": [
    {
     "data": {
      "text/html": [
       "<div>\n",
       "<style scoped>\n",
       "    .dataframe tbody tr th:only-of-type {\n",
       "        vertical-align: middle;\n",
       "    }\n",
       "\n",
       "    .dataframe tbody tr th {\n",
       "        vertical-align: top;\n",
       "    }\n",
       "\n",
       "    .dataframe thead th {\n",
       "        text-align: right;\n",
       "    }\n",
       "</style>\n",
       "<table border=\"1\" class=\"dataframe\">\n",
       "  <thead>\n",
       "    <tr style=\"text-align: right;\">\n",
       "      <th></th>\n",
       "      <th>variable</th>\n",
       "      <th>value</th>\n",
       "    </tr>\n",
       "  </thead>\n",
       "  <tbody>\n",
       "    <tr>\n",
       "      <th>0</th>\n",
       "      <td>clay_0_5cm_mean</td>\n",
       "      <td>189.00</td>\n",
       "    </tr>\n",
       "    <tr>\n",
       "      <th>1</th>\n",
       "      <td>silt_0_5cm_mean</td>\n",
       "      <td>198.00</td>\n",
       "    </tr>\n",
       "    <tr>\n",
       "      <th>2</th>\n",
       "      <td>sand_0_5cm_mean</td>\n",
       "      <td>615.00</td>\n",
       "    </tr>\n",
       "    <tr>\n",
       "      <th>3</th>\n",
       "      <td>soc_0_5cm_mean</td>\n",
       "      <td>21.60</td>\n",
       "    </tr>\n",
       "    <tr>\n",
       "      <th>4</th>\n",
       "      <td>nitrogen_0_5cm_mean</td>\n",
       "      <td>14.44</td>\n",
       "    </tr>\n",
       "  </tbody>\n",
       "</table>\n",
       "</div>"
      ],
      "text/plain": [
       "              variable   value\n",
       "0      clay_0_5cm_mean  189.00\n",
       "1      silt_0_5cm_mean  198.00\n",
       "2      sand_0_5cm_mean  615.00\n",
       "3       soc_0_5cm_mean   21.60\n",
       "4  nitrogen_0_5cm_mean   14.44"
      ]
     },
     "execution_count": 78,
     "metadata": {},
     "output_type": "execute_result"
    }
   ],
   "source": [
    "df['soc_0_5cm_mean']=df['soc_0_5cm_mean']*0.1\n",
    "df['nitrogen_0_5cm_mean']=df['nitrogen_0_5cm_mean']*0.01\n",
    "\n",
    "x = pd.melt(\n",
    "            df.head(1),\n",
    "            value_vars=['clay_0_5cm_mean',\n",
    "                        'silt_0_5cm_mean',\n",
    "                        'sand_0_5cm_mean',\n",
    "                        'soc_0_5cm_mean',\n",
    "                        'nitrogen_0_5cm_mean']\n",
    "            )\n",
    "\n",
    "x = x.dropna()\n"
   ]
  },
  {
   "cell_type": "code",
   "execution_count": 79,
   "id": "b63949c9",
   "metadata": {},
   "outputs": [],
   "source": [
    "x.to_csv(\"/Users/riteshtekriwal/Work/GitClones/bio-conservation/dashboard/soil_temp.csv\",index=False)\n"
   ]
  },
  {
   "cell_type": "code",
   "execution_count": 50,
   "id": "2cb4bd9e",
   "metadata": {},
   "outputs": [
    {
     "data": {
      "application/vnd.plotly.v1+json": {
       "config": {
        "plotlyServerURL": "https://plot.ly"
       },
       "data": [
        {
         "domain": {
          "x": [
           0,
           1
          ],
          "y": [
           0,
           1
          ]
         },
         "hole": 0.25,
         "hovertemplate": "variable=%{label}<br>value=%{value}<extra></extra>",
         "labels": [
          "clay_0_5cm_mean",
          "silt_0_5cm_mean",
          "sand_0_5cm_mean",
          "soc_0_5cm_mean",
          "nitrogen_0_5cm_mean"
         ],
         "legendgroup": "",
         "name": "",
         "showlegend": true,
         "textposition": "inside",
         "type": "pie",
         "values": [
          189,
          198,
          615,
          21600,
          14.44
         ]
        }
       ],
       "layout": {
        "legend": {
         "tracegroupgap": 0
        },
        "template": {
         "data": {
          "bar": [
           {
            "error_x": {
             "color": "#2a3f5f"
            },
            "error_y": {
             "color": "#2a3f5f"
            },
            "marker": {
             "line": {
              "color": "#E5ECF6",
              "width": 0.5
             },
             "pattern": {
              "fillmode": "overlay",
              "size": 10,
              "solidity": 0.2
             }
            },
            "type": "bar"
           }
          ],
          "barpolar": [
           {
            "marker": {
             "line": {
              "color": "#E5ECF6",
              "width": 0.5
             },
             "pattern": {
              "fillmode": "overlay",
              "size": 10,
              "solidity": 0.2
             }
            },
            "type": "barpolar"
           }
          ],
          "carpet": [
           {
            "aaxis": {
             "endlinecolor": "#2a3f5f",
             "gridcolor": "white",
             "linecolor": "white",
             "minorgridcolor": "white",
             "startlinecolor": "#2a3f5f"
            },
            "baxis": {
             "endlinecolor": "#2a3f5f",
             "gridcolor": "white",
             "linecolor": "white",
             "minorgridcolor": "white",
             "startlinecolor": "#2a3f5f"
            },
            "type": "carpet"
           }
          ],
          "choropleth": [
           {
            "colorbar": {
             "outlinewidth": 0,
             "ticks": ""
            },
            "type": "choropleth"
           }
          ],
          "contour": [
           {
            "colorbar": {
             "outlinewidth": 0,
             "ticks": ""
            },
            "colorscale": [
             [
              0,
              "#0d0887"
             ],
             [
              0.1111111111111111,
              "#46039f"
             ],
             [
              0.2222222222222222,
              "#7201a8"
             ],
             [
              0.3333333333333333,
              "#9c179e"
             ],
             [
              0.4444444444444444,
              "#bd3786"
             ],
             [
              0.5555555555555556,
              "#d8576b"
             ],
             [
              0.6666666666666666,
              "#ed7953"
             ],
             [
              0.7777777777777778,
              "#fb9f3a"
             ],
             [
              0.8888888888888888,
              "#fdca26"
             ],
             [
              1,
              "#f0f921"
             ]
            ],
            "type": "contour"
           }
          ],
          "contourcarpet": [
           {
            "colorbar": {
             "outlinewidth": 0,
             "ticks": ""
            },
            "type": "contourcarpet"
           }
          ],
          "heatmap": [
           {
            "colorbar": {
             "outlinewidth": 0,
             "ticks": ""
            },
            "colorscale": [
             [
              0,
              "#0d0887"
             ],
             [
              0.1111111111111111,
              "#46039f"
             ],
             [
              0.2222222222222222,
              "#7201a8"
             ],
             [
              0.3333333333333333,
              "#9c179e"
             ],
             [
              0.4444444444444444,
              "#bd3786"
             ],
             [
              0.5555555555555556,
              "#d8576b"
             ],
             [
              0.6666666666666666,
              "#ed7953"
             ],
             [
              0.7777777777777778,
              "#fb9f3a"
             ],
             [
              0.8888888888888888,
              "#fdca26"
             ],
             [
              1,
              "#f0f921"
             ]
            ],
            "type": "heatmap"
           }
          ],
          "heatmapgl": [
           {
            "colorbar": {
             "outlinewidth": 0,
             "ticks": ""
            },
            "colorscale": [
             [
              0,
              "#0d0887"
             ],
             [
              0.1111111111111111,
              "#46039f"
             ],
             [
              0.2222222222222222,
              "#7201a8"
             ],
             [
              0.3333333333333333,
              "#9c179e"
             ],
             [
              0.4444444444444444,
              "#bd3786"
             ],
             [
              0.5555555555555556,
              "#d8576b"
             ],
             [
              0.6666666666666666,
              "#ed7953"
             ],
             [
              0.7777777777777778,
              "#fb9f3a"
             ],
             [
              0.8888888888888888,
              "#fdca26"
             ],
             [
              1,
              "#f0f921"
             ]
            ],
            "type": "heatmapgl"
           }
          ],
          "histogram": [
           {
            "marker": {
             "pattern": {
              "fillmode": "overlay",
              "size": 10,
              "solidity": 0.2
             }
            },
            "type": "histogram"
           }
          ],
          "histogram2d": [
           {
            "colorbar": {
             "outlinewidth": 0,
             "ticks": ""
            },
            "colorscale": [
             [
              0,
              "#0d0887"
             ],
             [
              0.1111111111111111,
              "#46039f"
             ],
             [
              0.2222222222222222,
              "#7201a8"
             ],
             [
              0.3333333333333333,
              "#9c179e"
             ],
             [
              0.4444444444444444,
              "#bd3786"
             ],
             [
              0.5555555555555556,
              "#d8576b"
             ],
             [
              0.6666666666666666,
              "#ed7953"
             ],
             [
              0.7777777777777778,
              "#fb9f3a"
             ],
             [
              0.8888888888888888,
              "#fdca26"
             ],
             [
              1,
              "#f0f921"
             ]
            ],
            "type": "histogram2d"
           }
          ],
          "histogram2dcontour": [
           {
            "colorbar": {
             "outlinewidth": 0,
             "ticks": ""
            },
            "colorscale": [
             [
              0,
              "#0d0887"
             ],
             [
              0.1111111111111111,
              "#46039f"
             ],
             [
              0.2222222222222222,
              "#7201a8"
             ],
             [
              0.3333333333333333,
              "#9c179e"
             ],
             [
              0.4444444444444444,
              "#bd3786"
             ],
             [
              0.5555555555555556,
              "#d8576b"
             ],
             [
              0.6666666666666666,
              "#ed7953"
             ],
             [
              0.7777777777777778,
              "#fb9f3a"
             ],
             [
              0.8888888888888888,
              "#fdca26"
             ],
             [
              1,
              "#f0f921"
             ]
            ],
            "type": "histogram2dcontour"
           }
          ],
          "mesh3d": [
           {
            "colorbar": {
             "outlinewidth": 0,
             "ticks": ""
            },
            "type": "mesh3d"
           }
          ],
          "parcoords": [
           {
            "line": {
             "colorbar": {
              "outlinewidth": 0,
              "ticks": ""
             }
            },
            "type": "parcoords"
           }
          ],
          "pie": [
           {
            "automargin": true,
            "type": "pie"
           }
          ],
          "scatter": [
           {
            "fillpattern": {
             "fillmode": "overlay",
             "size": 10,
             "solidity": 0.2
            },
            "type": "scatter"
           }
          ],
          "scatter3d": [
           {
            "line": {
             "colorbar": {
              "outlinewidth": 0,
              "ticks": ""
             }
            },
            "marker": {
             "colorbar": {
              "outlinewidth": 0,
              "ticks": ""
             }
            },
            "type": "scatter3d"
           }
          ],
          "scattercarpet": [
           {
            "marker": {
             "colorbar": {
              "outlinewidth": 0,
              "ticks": ""
             }
            },
            "type": "scattercarpet"
           }
          ],
          "scattergeo": [
           {
            "marker": {
             "colorbar": {
              "outlinewidth": 0,
              "ticks": ""
             }
            },
            "type": "scattergeo"
           }
          ],
          "scattergl": [
           {
            "marker": {
             "colorbar": {
              "outlinewidth": 0,
              "ticks": ""
             }
            },
            "type": "scattergl"
           }
          ],
          "scattermapbox": [
           {
            "marker": {
             "colorbar": {
              "outlinewidth": 0,
              "ticks": ""
             }
            },
            "type": "scattermapbox"
           }
          ],
          "scatterpolar": [
           {
            "marker": {
             "colorbar": {
              "outlinewidth": 0,
              "ticks": ""
             }
            },
            "type": "scatterpolar"
           }
          ],
          "scatterpolargl": [
           {
            "marker": {
             "colorbar": {
              "outlinewidth": 0,
              "ticks": ""
             }
            },
            "type": "scatterpolargl"
           }
          ],
          "scatterternary": [
           {
            "marker": {
             "colorbar": {
              "outlinewidth": 0,
              "ticks": ""
             }
            },
            "type": "scatterternary"
           }
          ],
          "surface": [
           {
            "colorbar": {
             "outlinewidth": 0,
             "ticks": ""
            },
            "colorscale": [
             [
              0,
              "#0d0887"
             ],
             [
              0.1111111111111111,
              "#46039f"
             ],
             [
              0.2222222222222222,
              "#7201a8"
             ],
             [
              0.3333333333333333,
              "#9c179e"
             ],
             [
              0.4444444444444444,
              "#bd3786"
             ],
             [
              0.5555555555555556,
              "#d8576b"
             ],
             [
              0.6666666666666666,
              "#ed7953"
             ],
             [
              0.7777777777777778,
              "#fb9f3a"
             ],
             [
              0.8888888888888888,
              "#fdca26"
             ],
             [
              1,
              "#f0f921"
             ]
            ],
            "type": "surface"
           }
          ],
          "table": [
           {
            "cells": {
             "fill": {
              "color": "#EBF0F8"
             },
             "line": {
              "color": "white"
             }
            },
            "header": {
             "fill": {
              "color": "#C8D4E3"
             },
             "line": {
              "color": "white"
             }
            },
            "type": "table"
           }
          ]
         },
         "layout": {
          "annotationdefaults": {
           "arrowcolor": "#2a3f5f",
           "arrowhead": 0,
           "arrowwidth": 1
          },
          "autotypenumbers": "strict",
          "coloraxis": {
           "colorbar": {
            "outlinewidth": 0,
            "ticks": ""
           }
          },
          "colorscale": {
           "diverging": [
            [
             0,
             "#8e0152"
            ],
            [
             0.1,
             "#c51b7d"
            ],
            [
             0.2,
             "#de77ae"
            ],
            [
             0.3,
             "#f1b6da"
            ],
            [
             0.4,
             "#fde0ef"
            ],
            [
             0.5,
             "#f7f7f7"
            ],
            [
             0.6,
             "#e6f5d0"
            ],
            [
             0.7,
             "#b8e186"
            ],
            [
             0.8,
             "#7fbc41"
            ],
            [
             0.9,
             "#4d9221"
            ],
            [
             1,
             "#276419"
            ]
           ],
           "sequential": [
            [
             0,
             "#0d0887"
            ],
            [
             0.1111111111111111,
             "#46039f"
            ],
            [
             0.2222222222222222,
             "#7201a8"
            ],
            [
             0.3333333333333333,
             "#9c179e"
            ],
            [
             0.4444444444444444,
             "#bd3786"
            ],
            [
             0.5555555555555556,
             "#d8576b"
            ],
            [
             0.6666666666666666,
             "#ed7953"
            ],
            [
             0.7777777777777778,
             "#fb9f3a"
            ],
            [
             0.8888888888888888,
             "#fdca26"
            ],
            [
             1,
             "#f0f921"
            ]
           ],
           "sequentialminus": [
            [
             0,
             "#0d0887"
            ],
            [
             0.1111111111111111,
             "#46039f"
            ],
            [
             0.2222222222222222,
             "#7201a8"
            ],
            [
             0.3333333333333333,
             "#9c179e"
            ],
            [
             0.4444444444444444,
             "#bd3786"
            ],
            [
             0.5555555555555556,
             "#d8576b"
            ],
            [
             0.6666666666666666,
             "#ed7953"
            ],
            [
             0.7777777777777778,
             "#fb9f3a"
            ],
            [
             0.8888888888888888,
             "#fdca26"
            ],
            [
             1,
             "#f0f921"
            ]
           ]
          },
          "colorway": [
           "#636efa",
           "#EF553B",
           "#00cc96",
           "#ab63fa",
           "#FFA15A",
           "#19d3f3",
           "#FF6692",
           "#B6E880",
           "#FF97FF",
           "#FECB52"
          ],
          "font": {
           "color": "#2a3f5f"
          },
          "geo": {
           "bgcolor": "white",
           "lakecolor": "white",
           "landcolor": "#E5ECF6",
           "showlakes": true,
           "showland": true,
           "subunitcolor": "white"
          },
          "hoverlabel": {
           "align": "left"
          },
          "hovermode": "closest",
          "mapbox": {
           "style": "light"
          },
          "paper_bgcolor": "white",
          "plot_bgcolor": "#E5ECF6",
          "polar": {
           "angularaxis": {
            "gridcolor": "white",
            "linecolor": "white",
            "ticks": ""
           },
           "bgcolor": "#E5ECF6",
           "radialaxis": {
            "gridcolor": "white",
            "linecolor": "white",
            "ticks": ""
           }
          },
          "scene": {
           "xaxis": {
            "backgroundcolor": "#E5ECF6",
            "gridcolor": "white",
            "gridwidth": 2,
            "linecolor": "white",
            "showbackground": true,
            "ticks": "",
            "zerolinecolor": "white"
           },
           "yaxis": {
            "backgroundcolor": "#E5ECF6",
            "gridcolor": "white",
            "gridwidth": 2,
            "linecolor": "white",
            "showbackground": true,
            "ticks": "",
            "zerolinecolor": "white"
           },
           "zaxis": {
            "backgroundcolor": "#E5ECF6",
            "gridcolor": "white",
            "gridwidth": 2,
            "linecolor": "white",
            "showbackground": true,
            "ticks": "",
            "zerolinecolor": "white"
           }
          },
          "shapedefaults": {
           "line": {
            "color": "#2a3f5f"
           }
          },
          "ternary": {
           "aaxis": {
            "gridcolor": "white",
            "linecolor": "white",
            "ticks": ""
           },
           "baxis": {
            "gridcolor": "white",
            "linecolor": "white",
            "ticks": ""
           },
           "bgcolor": "#E5ECF6",
           "caxis": {
            "gridcolor": "white",
            "linecolor": "white",
            "ticks": ""
           }
          },
          "title": {
           "x": 0.05
          },
          "xaxis": {
           "automargin": true,
           "gridcolor": "white",
           "linecolor": "white",
           "ticks": "",
           "title": {
            "standoff": 15
           },
           "zerolinecolor": "white",
           "zerolinewidth": 2
          },
          "yaxis": {
           "automargin": true,
           "gridcolor": "white",
           "linecolor": "white",
           "ticks": "",
           "title": {
            "standoff": 15
           },
           "zerolinecolor": "white",
           "zerolinewidth": 2
          }
         }
        },
        "title": {
         "text": "Soil Compositon %"
        },
        "uniformtext": {
         "minsize": 12,
         "mode": "hide"
        }
       }
      }
     },
     "metadata": {},
     "output_type": "display_data"
    }
   ],
   "source": [
    "fig = px.pie(\n",
    "    x,\n",
    "    values='value',\n",
    "    names='variable',\n",
    "    title='Soil Compositon %',\n",
    "    hole=.25)\n",
    "fig.update_traces(textposition='inside')\n",
    "fig.update_layout(uniformtext_minsize=12, uniformtext_mode='hide')\n",
    "fig.show()\n",
    "# fig.show()"
   ]
  },
  {
   "cell_type": "code",
   "execution_count": 69,
   "id": "f759ed44",
   "metadata": {},
   "outputs": [
    {
     "data": {
      "application/vnd.plotly.v1+json": {
       "config": {
        "plotlyServerURL": "https://plot.ly"
       },
       "data": [
        {
         "labels": [
          "CoVariates",
          "Water",
          "Soil",
          "Temperature",
          "LandCover",
          "Clay",
          "Silt",
          "Sand"
         ],
         "parents": [
          "",
          "CoVariates",
          "CoVariates",
          "CoVariates",
          "CoVariates",
          "Soil",
          "Soil",
          "Soil"
         ],
         "type": "sunburst",
         "values": [
          0,
          25,
          25,
          25,
          25,
          10,
          5,
          10
         ]
        }
       ],
       "layout": {
        "margin": {
         "b": 0,
         "l": 0,
         "r": 0,
         "t": 0
        },
        "template": {
         "data": {
          "bar": [
           {
            "error_x": {
             "color": "#2a3f5f"
            },
            "error_y": {
             "color": "#2a3f5f"
            },
            "marker": {
             "line": {
              "color": "#E5ECF6",
              "width": 0.5
             },
             "pattern": {
              "fillmode": "overlay",
              "size": 10,
              "solidity": 0.2
             }
            },
            "type": "bar"
           }
          ],
          "barpolar": [
           {
            "marker": {
             "line": {
              "color": "#E5ECF6",
              "width": 0.5
             },
             "pattern": {
              "fillmode": "overlay",
              "size": 10,
              "solidity": 0.2
             }
            },
            "type": "barpolar"
           }
          ],
          "carpet": [
           {
            "aaxis": {
             "endlinecolor": "#2a3f5f",
             "gridcolor": "white",
             "linecolor": "white",
             "minorgridcolor": "white",
             "startlinecolor": "#2a3f5f"
            },
            "baxis": {
             "endlinecolor": "#2a3f5f",
             "gridcolor": "white",
             "linecolor": "white",
             "minorgridcolor": "white",
             "startlinecolor": "#2a3f5f"
            },
            "type": "carpet"
           }
          ],
          "choropleth": [
           {
            "colorbar": {
             "outlinewidth": 0,
             "ticks": ""
            },
            "type": "choropleth"
           }
          ],
          "contour": [
           {
            "colorbar": {
             "outlinewidth": 0,
             "ticks": ""
            },
            "colorscale": [
             [
              0,
              "#0d0887"
             ],
             [
              0.1111111111111111,
              "#46039f"
             ],
             [
              0.2222222222222222,
              "#7201a8"
             ],
             [
              0.3333333333333333,
              "#9c179e"
             ],
             [
              0.4444444444444444,
              "#bd3786"
             ],
             [
              0.5555555555555556,
              "#d8576b"
             ],
             [
              0.6666666666666666,
              "#ed7953"
             ],
             [
              0.7777777777777778,
              "#fb9f3a"
             ],
             [
              0.8888888888888888,
              "#fdca26"
             ],
             [
              1,
              "#f0f921"
             ]
            ],
            "type": "contour"
           }
          ],
          "contourcarpet": [
           {
            "colorbar": {
             "outlinewidth": 0,
             "ticks": ""
            },
            "type": "contourcarpet"
           }
          ],
          "heatmap": [
           {
            "colorbar": {
             "outlinewidth": 0,
             "ticks": ""
            },
            "colorscale": [
             [
              0,
              "#0d0887"
             ],
             [
              0.1111111111111111,
              "#46039f"
             ],
             [
              0.2222222222222222,
              "#7201a8"
             ],
             [
              0.3333333333333333,
              "#9c179e"
             ],
             [
              0.4444444444444444,
              "#bd3786"
             ],
             [
              0.5555555555555556,
              "#d8576b"
             ],
             [
              0.6666666666666666,
              "#ed7953"
             ],
             [
              0.7777777777777778,
              "#fb9f3a"
             ],
             [
              0.8888888888888888,
              "#fdca26"
             ],
             [
              1,
              "#f0f921"
             ]
            ],
            "type": "heatmap"
           }
          ],
          "heatmapgl": [
           {
            "colorbar": {
             "outlinewidth": 0,
             "ticks": ""
            },
            "colorscale": [
             [
              0,
              "#0d0887"
             ],
             [
              0.1111111111111111,
              "#46039f"
             ],
             [
              0.2222222222222222,
              "#7201a8"
             ],
             [
              0.3333333333333333,
              "#9c179e"
             ],
             [
              0.4444444444444444,
              "#bd3786"
             ],
             [
              0.5555555555555556,
              "#d8576b"
             ],
             [
              0.6666666666666666,
              "#ed7953"
             ],
             [
              0.7777777777777778,
              "#fb9f3a"
             ],
             [
              0.8888888888888888,
              "#fdca26"
             ],
             [
              1,
              "#f0f921"
             ]
            ],
            "type": "heatmapgl"
           }
          ],
          "histogram": [
           {
            "marker": {
             "pattern": {
              "fillmode": "overlay",
              "size": 10,
              "solidity": 0.2
             }
            },
            "type": "histogram"
           }
          ],
          "histogram2d": [
           {
            "colorbar": {
             "outlinewidth": 0,
             "ticks": ""
            },
            "colorscale": [
             [
              0,
              "#0d0887"
             ],
             [
              0.1111111111111111,
              "#46039f"
             ],
             [
              0.2222222222222222,
              "#7201a8"
             ],
             [
              0.3333333333333333,
              "#9c179e"
             ],
             [
              0.4444444444444444,
              "#bd3786"
             ],
             [
              0.5555555555555556,
              "#d8576b"
             ],
             [
              0.6666666666666666,
              "#ed7953"
             ],
             [
              0.7777777777777778,
              "#fb9f3a"
             ],
             [
              0.8888888888888888,
              "#fdca26"
             ],
             [
              1,
              "#f0f921"
             ]
            ],
            "type": "histogram2d"
           }
          ],
          "histogram2dcontour": [
           {
            "colorbar": {
             "outlinewidth": 0,
             "ticks": ""
            },
            "colorscale": [
             [
              0,
              "#0d0887"
             ],
             [
              0.1111111111111111,
              "#46039f"
             ],
             [
              0.2222222222222222,
              "#7201a8"
             ],
             [
              0.3333333333333333,
              "#9c179e"
             ],
             [
              0.4444444444444444,
              "#bd3786"
             ],
             [
              0.5555555555555556,
              "#d8576b"
             ],
             [
              0.6666666666666666,
              "#ed7953"
             ],
             [
              0.7777777777777778,
              "#fb9f3a"
             ],
             [
              0.8888888888888888,
              "#fdca26"
             ],
             [
              1,
              "#f0f921"
             ]
            ],
            "type": "histogram2dcontour"
           }
          ],
          "mesh3d": [
           {
            "colorbar": {
             "outlinewidth": 0,
             "ticks": ""
            },
            "type": "mesh3d"
           }
          ],
          "parcoords": [
           {
            "line": {
             "colorbar": {
              "outlinewidth": 0,
              "ticks": ""
             }
            },
            "type": "parcoords"
           }
          ],
          "pie": [
           {
            "automargin": true,
            "type": "pie"
           }
          ],
          "scatter": [
           {
            "fillpattern": {
             "fillmode": "overlay",
             "size": 10,
             "solidity": 0.2
            },
            "type": "scatter"
           }
          ],
          "scatter3d": [
           {
            "line": {
             "colorbar": {
              "outlinewidth": 0,
              "ticks": ""
             }
            },
            "marker": {
             "colorbar": {
              "outlinewidth": 0,
              "ticks": ""
             }
            },
            "type": "scatter3d"
           }
          ],
          "scattercarpet": [
           {
            "marker": {
             "colorbar": {
              "outlinewidth": 0,
              "ticks": ""
             }
            },
            "type": "scattercarpet"
           }
          ],
          "scattergeo": [
           {
            "marker": {
             "colorbar": {
              "outlinewidth": 0,
              "ticks": ""
             }
            },
            "type": "scattergeo"
           }
          ],
          "scattergl": [
           {
            "marker": {
             "colorbar": {
              "outlinewidth": 0,
              "ticks": ""
             }
            },
            "type": "scattergl"
           }
          ],
          "scattermapbox": [
           {
            "marker": {
             "colorbar": {
              "outlinewidth": 0,
              "ticks": ""
             }
            },
            "type": "scattermapbox"
           }
          ],
          "scatterpolar": [
           {
            "marker": {
             "colorbar": {
              "outlinewidth": 0,
              "ticks": ""
             }
            },
            "type": "scatterpolar"
           }
          ],
          "scatterpolargl": [
           {
            "marker": {
             "colorbar": {
              "outlinewidth": 0,
              "ticks": ""
             }
            },
            "type": "scatterpolargl"
           }
          ],
          "scatterternary": [
           {
            "marker": {
             "colorbar": {
              "outlinewidth": 0,
              "ticks": ""
             }
            },
            "type": "scatterternary"
           }
          ],
          "surface": [
           {
            "colorbar": {
             "outlinewidth": 0,
             "ticks": ""
            },
            "colorscale": [
             [
              0,
              "#0d0887"
             ],
             [
              0.1111111111111111,
              "#46039f"
             ],
             [
              0.2222222222222222,
              "#7201a8"
             ],
             [
              0.3333333333333333,
              "#9c179e"
             ],
             [
              0.4444444444444444,
              "#bd3786"
             ],
             [
              0.5555555555555556,
              "#d8576b"
             ],
             [
              0.6666666666666666,
              "#ed7953"
             ],
             [
              0.7777777777777778,
              "#fb9f3a"
             ],
             [
              0.8888888888888888,
              "#fdca26"
             ],
             [
              1,
              "#f0f921"
             ]
            ],
            "type": "surface"
           }
          ],
          "table": [
           {
            "cells": {
             "fill": {
              "color": "#EBF0F8"
             },
             "line": {
              "color": "white"
             }
            },
            "header": {
             "fill": {
              "color": "#C8D4E3"
             },
             "line": {
              "color": "white"
             }
            },
            "type": "table"
           }
          ]
         },
         "layout": {
          "annotationdefaults": {
           "arrowcolor": "#2a3f5f",
           "arrowhead": 0,
           "arrowwidth": 1
          },
          "autotypenumbers": "strict",
          "coloraxis": {
           "colorbar": {
            "outlinewidth": 0,
            "ticks": ""
           }
          },
          "colorscale": {
           "diverging": [
            [
             0,
             "#8e0152"
            ],
            [
             0.1,
             "#c51b7d"
            ],
            [
             0.2,
             "#de77ae"
            ],
            [
             0.3,
             "#f1b6da"
            ],
            [
             0.4,
             "#fde0ef"
            ],
            [
             0.5,
             "#f7f7f7"
            ],
            [
             0.6,
             "#e6f5d0"
            ],
            [
             0.7,
             "#b8e186"
            ],
            [
             0.8,
             "#7fbc41"
            ],
            [
             0.9,
             "#4d9221"
            ],
            [
             1,
             "#276419"
            ]
           ],
           "sequential": [
            [
             0,
             "#0d0887"
            ],
            [
             0.1111111111111111,
             "#46039f"
            ],
            [
             0.2222222222222222,
             "#7201a8"
            ],
            [
             0.3333333333333333,
             "#9c179e"
            ],
            [
             0.4444444444444444,
             "#bd3786"
            ],
            [
             0.5555555555555556,
             "#d8576b"
            ],
            [
             0.6666666666666666,
             "#ed7953"
            ],
            [
             0.7777777777777778,
             "#fb9f3a"
            ],
            [
             0.8888888888888888,
             "#fdca26"
            ],
            [
             1,
             "#f0f921"
            ]
           ],
           "sequentialminus": [
            [
             0,
             "#0d0887"
            ],
            [
             0.1111111111111111,
             "#46039f"
            ],
            [
             0.2222222222222222,
             "#7201a8"
            ],
            [
             0.3333333333333333,
             "#9c179e"
            ],
            [
             0.4444444444444444,
             "#bd3786"
            ],
            [
             0.5555555555555556,
             "#d8576b"
            ],
            [
             0.6666666666666666,
             "#ed7953"
            ],
            [
             0.7777777777777778,
             "#fb9f3a"
            ],
            [
             0.8888888888888888,
             "#fdca26"
            ],
            [
             1,
             "#f0f921"
            ]
           ]
          },
          "colorway": [
           "#636efa",
           "#EF553B",
           "#00cc96",
           "#ab63fa",
           "#FFA15A",
           "#19d3f3",
           "#FF6692",
           "#B6E880",
           "#FF97FF",
           "#FECB52"
          ],
          "font": {
           "color": "#2a3f5f"
          },
          "geo": {
           "bgcolor": "white",
           "lakecolor": "white",
           "landcolor": "#E5ECF6",
           "showlakes": true,
           "showland": true,
           "subunitcolor": "white"
          },
          "hoverlabel": {
           "align": "left"
          },
          "hovermode": "closest",
          "mapbox": {
           "style": "light"
          },
          "paper_bgcolor": "white",
          "plot_bgcolor": "#E5ECF6",
          "polar": {
           "angularaxis": {
            "gridcolor": "white",
            "linecolor": "white",
            "ticks": ""
           },
           "bgcolor": "#E5ECF6",
           "radialaxis": {
            "gridcolor": "white",
            "linecolor": "white",
            "ticks": ""
           }
          },
          "scene": {
           "xaxis": {
            "backgroundcolor": "#E5ECF6",
            "gridcolor": "white",
            "gridwidth": 2,
            "linecolor": "white",
            "showbackground": true,
            "ticks": "",
            "zerolinecolor": "white"
           },
           "yaxis": {
            "backgroundcolor": "#E5ECF6",
            "gridcolor": "white",
            "gridwidth": 2,
            "linecolor": "white",
            "showbackground": true,
            "ticks": "",
            "zerolinecolor": "white"
           },
           "zaxis": {
            "backgroundcolor": "#E5ECF6",
            "gridcolor": "white",
            "gridwidth": 2,
            "linecolor": "white",
            "showbackground": true,
            "ticks": "",
            "zerolinecolor": "white"
           }
          },
          "shapedefaults": {
           "line": {
            "color": "#2a3f5f"
           }
          },
          "ternary": {
           "aaxis": {
            "gridcolor": "white",
            "linecolor": "white",
            "ticks": ""
           },
           "baxis": {
            "gridcolor": "white",
            "linecolor": "white",
            "ticks": ""
           },
           "bgcolor": "#E5ECF6",
           "caxis": {
            "gridcolor": "white",
            "linecolor": "white",
            "ticks": ""
           }
          },
          "title": {
           "x": 0.05
          },
          "xaxis": {
           "automargin": true,
           "gridcolor": "white",
           "linecolor": "white",
           "ticks": "",
           "title": {
            "standoff": 15
           },
           "zerolinecolor": "white",
           "zerolinewidth": 2
          },
          "yaxis": {
           "automargin": true,
           "gridcolor": "white",
           "linecolor": "white",
           "ticks": "",
           "title": {
            "standoff": 15
           },
           "zerolinecolor": "white",
           "zerolinewidth": 2
          }
         }
        }
       }
      }
     },
     "metadata": {},
     "output_type": "display_data"
    }
   ],
   "source": [
    "import plotly.graph_objects as go\n",
    "\n",
    "fig =go.Figure(go.Sunburst(\n",
    "    # labels=[\"Eve\", \"Cain\", \"Seth\", \"Enos\", \"Noam\", \"Abel\", \"Awan\", \"Enoch\", \"Azura\"],\n",
    "    # parents=[\"\"  , \"Eve\", \"Eve\", \"Seth\", \"Seth\", \"Eve\", \"Eve\", \"Awan\", \"Eve\" ],\n",
    "    labels=[\"CoVariates\", \"Water\", \"Soil\", \"Temperature\",\"LandCover\",\"Clay\",\"Silt\",\"Sand\"],\n",
    "    parents=[\"\"  , \"CoVariates\", \"CoVariates\", \"CoVariates\", \"CoVariates\", \"Soil\", \"Soil\", \"Soil\" ],\n",
    "    values=[0, 25, 25, 25, 25,10,5,10],\n",
    "))\n",
    "fig.update_layout(margin = dict(t=0, l=0, r=0, b=0))\n",
    "\n",
    "fig.show()"
   ]
  },
  {
   "cell_type": "code",
   "execution_count": 47,
   "id": "f5fbc197",
   "metadata": {},
   "outputs": [
    {
     "data": {
      "text/plain": [
       "[189.0, 198.0, 615.0, 21600.0, 14.44]"
      ]
     },
     "execution_count": 47,
     "metadata": {},
     "output_type": "execute_result"
    }
   ],
   "source": [
    "list(x['value'])"
   ]
  },
  {
   "cell_type": "code",
   "execution_count": null,
   "metadata": {},
   "outputs": [],
   "source": []
  },
  {
   "cell_type": "code",
   "execution_count": null,
   "id": "37178231",
   "metadata": {},
   "outputs": [],
   "source": []
  },
  {
   "cell_type": "code",
   "execution_count": null,
   "id": "3439f9d0",
   "metadata": {},
   "outputs": [],
   "source": []
  },
  {
   "cell_type": "code",
   "execution_count": null,
   "id": "3d732c9a",
   "metadata": {},
   "outputs": [],
   "source": []
  },
  {
   "cell_type": "code",
   "execution_count": null,
   "id": "b8bbbfd0",
   "metadata": {},
   "outputs": [],
   "source": []
  },
  {
   "cell_type": "code",
   "execution_count": null,
   "id": "65d8f624",
   "metadata": {},
   "outputs": [],
   "source": []
  },
  {
   "cell_type": "code",
   "execution_count": null,
   "id": "b53ab6df",
   "metadata": {},
   "outputs": [],
   "source": []
  },
  {
   "cell_type": "code",
   "execution_count": null,
   "id": "e49b7f95",
   "metadata": {
    "ExecuteTime": {
     "end_time": "2022-07-30T23:41:44.656647Z",
     "start_time": "2022-07-30T23:41:44.273792Z"
    }
   },
   "outputs": [],
   "source": [
    "#### all the filter widgets we need\n",
    "# latitude = pn.widgets.FloatInput(name='Latitude', value=5., step=1e-1, \n",
    "#                                  start=min(df.decimalLatitude), end=max(df.decimalLatitude), width=150)\n",
    "# longitude = pn.widgets.FloatInput(name='Longitude', value=5., step=1e-1,\n",
    "#                                   start=min(df.decimalLongitude), end=min(df.decimalLongitude), width=150)\n",
    "\n",
    "\n",
    "event_date = pn.widgets.DateRangeSlider(\n",
    "    name='Date Range',\n",
    "    start=min(pd.to_datetime(df['eventDate'])), end=max(pd.to_datetime(df['eventDate'])),\n",
    "    value=(dt.date(2021, 1, 1), dt.date(2021, 12, 1)),\n",
    ")\n",
    "# pn.widgets.DatePicker(,)\n",
    "country_list = (list(df_species_names.country.unique()))\n",
    "country = pn.widgets.Select(name='Country',width = 300, options=country_list)\n",
    "\n",
    "# species = pn.widgets.AutocompleteInput(\n",
    "#     name = 'Species',\n",
    "#     # width=400,\n",
    "#     options=sorted(list(df_species_names[df_species_names[\"country\" ]== country.value].genericName.dropna().unique())),\n",
    "#     min_characters = 1,\n",
    "#     case_sensitive=False,\n",
    "#     placeholder='Enter your Species')\n",
    "species_list = ['All']+ (list(df_species_names[df_species_names[\"country\" ]== country.value].genericName.unique()))\n",
    "species = pn.widgets.Select(\n",
    "    name='Species',\n",
    "    width= 400,\n",
    "    options=species_list)\n",
    "@pn.depends(country.value, watch=True)\n",
    "def _update_species(country):\n",
    "    species.options =  list(df_species_names[df_species_names[\"country\" ]== country.value].genericName.dropna().unique()).sort()\n",
    "    species.value = list(df_species_names[df_species_names[\"country\" ]== country.value].genericName.dropna().unique()).sort()[0]\n",
    "\n",
    "\n",
    "\n",
    "\n",
    "\n",
    "# print(\"============Country:%s\" % (country.value))\n",
    "\n",
    "button = pn.widgets.Button(name='Update Plots', width= 200, button_type='success')\n",
    "\n",
    "\n",
    "#### all our plot functions\n",
    "### the world map view of occurrence data\n",
    "def occ_plot(df=df):\n",
    "    # fig = px.scatter_geo(df, lat=\"decimalLatitude\", lon='decimalLongitude', color='species')\n",
    "    # ## making the background transparent below\n",
    "    # fig.update_layout({\n",
    "    # 'plot_bgcolor': 'rgba(0, 0, 0, 0)',\n",
    "    # 'paper_bgcolor': 'rgba(0, 0, 0, 0)'\n",
    "    # },\n",
    "    # margin=dict(t=0, b=0, l=0, r=0))\n",
    "\n",
    "    # fig = folium.Map(location=[df['decimalLatitude'].mean(), df['decimalLongitude'].mean()],\n",
    "    #                 zoom_start=5, control_scale=True,prefer_canvas=True)\n",
    "    # # folium.Circle().add_to(m)\n",
    "\n",
    "\n",
    "    # for i in range(0,len(df)):\n",
    "    #     folium.Circle(\n",
    "    #         location=[df.iloc[i]['decimalLatitude'], df.iloc[i]['decimalLongitude']],\n",
    "    #         popup=df.iloc[i]['acceptedScientificName'],\n",
    "    #         radius=1000,\n",
    "    #         # color=df.iloc[i]['acceptedScientificName'],\n",
    "    #         # fill=True,\n",
    "    #         color='r',\n",
    "    #         # fill_color=colordict[index],\n",
    "    #         fill_opacity=0.7,\n",
    "    #         fill=True,\n",
    "    #         # fill_color='red'\n",
    "    #     ).add_to(fig)\n",
    "\n",
    "    # folium.LayerControl().add_to(fig)\n",
    "\n",
    "    # minimap = plugins.MiniMap(toggle_display=True)\n",
    "\n",
    "    # m.add_child(minimap)\n",
    "    # add full screen button to map\n",
    "    # plugins.Fullscreen(position='topright').add_to(fig)\n",
    "    # draw = plugins.Draw(export=True)\n",
    "    # add draw tools to map\n",
    "    # draw.add_to(fig)\n",
    "\n",
    "\n",
    "    df = df.head(500)\n",
    "    df['point_size'] = 15\n",
    "    fig = px.scatter_mapbox(\n",
    "        df,\n",
    "        lat=\"decimalLatitude\",\n",
    "        lon=\"decimalLongitude\",\n",
    "        color=\"genericName\",\n",
    "        color_continuous_scale=px.colors.cyclical.IceFire,\n",
    "        size = 'point_size',\n",
    "        zoom=5,\n",
    "        mapbox_style=\"open-street-map\")\n",
    "\n",
    "    fig.update_layout(showlegend=False) \n",
    "\n",
    "    \n",
    "    return fig\n",
    "\n",
    "## create the world scatter plot\n",
    "plot_scatter = pn.pane.Plotly(occ_plot(),width= 1050, height= 550)\n",
    "\n",
    "\n",
    "## function for creating the treemap to show specific point wise values \n",
    "def create_cards(df, query=None):\n",
    "    if query:\n",
    "        ## filter the dataframe to the selected point\n",
    "        df = df.query(query)\n",
    "        df = pd.melt(df, value_vars=['avg_radiance', 'is_invasive', 'avg_deg_urban'])\n",
    "        fig = px.treemap(df, path=['variable'], values='value')\n",
    "        fig.data[0].textinfo = 'label+value'\n",
    "\n",
    "        level = 1 # write the number of the last level you have\n",
    "        lvl_clr = \"#5cb25d\"\n",
    "        font_clr = \"black\"\n",
    "\n",
    "        fig.data[0]['marker']['colors'] =[lvl_clr for sector in fig.data[0]['ids'] if len(sector.split(\"/\")) == level]\n",
    "        fig.data[0]['textfont']['color'] = [font_clr  for sector in fig.data[0]['ids'] if len(sector.split(\"/\")) == level]\n",
    "\n",
    "        fig.data[0]['textfont']['size'] = 30\n",
    "        return  fig\n",
    "\n",
    "\n",
    "###instantiate the cards plot\n",
    "plot_cards = pn.pane.Plotly(create_cards(df, f'decimalLatitude == -22.258903'), width=400, height=400)\n",
    "\n",
    "\n",
    "## function for creating the treemap to show specific point wise values \n",
    "def create_trends(df, query=None):\n",
    "    if query:\n",
    "        ## filter the dataframe to the selected point\n",
    "        df = df.query(query)\n",
    "        \n",
    "        print(df.eventDate)\n",
    "        start = dt.datetime(2018, 1, 1)\n",
    "        end = dt.datetime(2018, 12, 31)\n",
    "\n",
    "        # Create Point for Vancouver, BC\n",
    "#         pt = Point(df.loc[0,'decimalLatitude'], df.loc[0,'decimalLongitude'], 0)\n",
    "        pt = Point(53.033981, -1.380991, 0)\n",
    "\n",
    "        # Get daily data for 2018\n",
    "        data = Daily(pt, start, end)\n",
    "        data = data.fetch().reset_index(level=0)\n",
    "        if data.shape[0] > 0:\n",
    "            fig = px.line(data, x='time', y='tavg', template='plotly_white',\n",
    "                          title='Climate Covariates')\n",
    "            fig.update_layout(width=600)\n",
    "            return  fig\n",
    "\n",
    "\n",
    "###instantiate the cards plot\n",
    "plot_trends = pn.pane.Plotly(create_trends(df, f'decimalLatitude == -22.258903'), width=400, height=400)\n",
    "\n",
    "## display data, can delete\n",
    "cols = ['decimalLatitude','decimalLongitude', 'eventDate', 'species']\n",
    "display_data = pn.widgets.DataFrame(df[cols].head(5))\n",
    "\n",
    "## dependent hidden function to run when a point is clicked in the plot_scatter\n",
    "@pn.depends(plot_scatter.param.click_data, watch=True)\n",
    "def _update_after_click_on_1(click_data):\n",
    "    if click_data !=None:\n",
    "        lat = click_data['points'][0]['lat']\n",
    "        lon = click_data['points'][0]['lon']\n",
    "        plot_cards.object = create_cards(df, f'decimalLatitude == {lat}')\n",
    "\n",
    "\n",
    "def query(start=\"2022-04-04\", end=\"2022-04-04\", country='', species = ''):\n",
    "\n",
    "    # sql = f\"\"\"\n",
    "    # SELECT\n",
    "    #     *\n",
    "    # FROM `gbif-challenge.airflow_uploads.gbif_combined`\n",
    "    # WHERE DATE(eventDate) BETWEEN \"{start}\" AND \"{end}\" AND country in (\"{country}\") AND genericName in (\"{species}\")\" \n",
    "    # \"\"\"\n",
    "\n",
    "    if species is not 'All':\n",
    "        sql = f\"\"\"\n",
    "        SELECT\n",
    "            *\n",
    "        FROM `gbif-challenge.airflow_uploads.gbif_combined`\n",
    "        WHERE country in (\"{country}\") AND genericName in (\"{species}\")\n",
    "        \"\"\"\n",
    "\n",
    "        print(sql)\n",
    "\n",
    "        bq = client.query(sql).to_dataframe() \n",
    "    else :\n",
    "        bq = df.copy()\n",
    "    return bq\n",
    "    \n",
    "def fetch_data(start=\"2022-04-04\", end=\"2022-04-04\"):\n",
    "    global df, cols\n",
    "    if button.clicks > 0:\n",
    "        bq = query(event_date.value[0].strftime('%Y-%m-%d'), event_date.value[0].strftime('%Y-%m-%d'), country=country.value, species=species.value) ###change this to 1\n",
    "        df = bq.copy()\n",
    "        plot_scatter.object = occ_plot(df)\n",
    "        plot_cards.object = create_cards(df, f\"decimalLatitude == {df.loc[0,'decimalLatitude']}\")\n",
    "        plot_trends.object = create_trends(df, f\"decimalLatitude == {df.loc[0,'decimalLatitude']}\")\n",
    "\n",
    "        plot_species.object = species_counts(df)\n",
    "        display_data.value = df[cols]\n",
    "        \n",
    "### placeholder histogram plot of species counts\n",
    "def species_counts(df=df):\n",
    "    fig = px.histogram(df, y=\"species\",color_discrete_sequence=['#5cb25d'])\n",
    "    fig.update_layout({\n",
    "    'plot_bgcolor': 'rgba(0, 0, 0, 0)',\n",
    "    'paper_bgcolor': 'rgba(0, 0, 0, 0)',\n",
    "    })\n",
    "    return fig\n",
    "    \n",
    "plot_species = pn.pane.Plotly(species_counts())\n",
    "\n",
    "\n",
    "button.on_click(fetch_data)"
   ]
  },
  {
   "cell_type": "code",
   "execution_count": null,
   "id": "fcceb92a",
   "metadata": {
    "ExecuteTime": {
     "end_time": "2022-07-30T06:57:02.771798Z",
     "start_time": "2022-07-30T06:56:57.883218Z"
    }
   },
   "outputs": [],
   "source": [
    "## The main template to render, sidebar for text\n",
    "\n",
    "template = pn.template.FastGridTemplate(\n",
    "    title=\"🌏 GBIF Powered by Covariates\",\n",
    "#     sidebar=[\"We are interested bleh bleh bleh\",\n",
    "#              pn.pane.Markdown(\"## Select Filters\"), latitude, longitude,\n",
    "#              '', event_date, '', species, '', country, button],\n",
    "    header = ['<a href=\"https://github.com/tekritesh/bio-conservation/tree/main\">About</a>'],\n",
    "    sidebar=[\"\"\"We are interested bleh bleh bleh.\\n We will hunt you down if you harm ANY flora or fauna.\"\"\"],\n",
    "    accent = '#5cb25d', sidebar_width = 280, background_color = '#f5f5f5',\n",
    "    neutral_color = '#ffffff',\n",
    "    corner_radius = 15\n",
    ")\n",
    "\n",
    "### specify which portion of the main page grid you want to place a plot in\n",
    "\n",
    "template.main[:1, :] = pn.Row(\n",
    "    # pn.Column(latitude, longitude),\n",
    "                              pn.Column(country),\n",
    "                              pn.Column(species),\n",
    "                            #   event_date,\n",
    "                              pn.Column(button))\n",
    "\n",
    "template.main[1:5, :]=pn.Tabs(('GBIF',pn.Column(plot_scatter)),\n",
    "                              ('Radiance', pn.pane.HTML(HTML('map1.html'), width=600)), dynamic=True)\n",
    "\n",
    "template.main[5:9, :4] = pn.Column(plot_cards)\n",
    "\n",
    "template.main[5:9, 6:12]= pn.Column('### Species Counts', plot_species, height=400)\n",
    "template.main[9:11, :]= pn.Column(display_data, height=300, width = 1000)\n",
    "\n",
    "template.main[11:13, :] = pn.Column(plot_trends)\n",
    "\n",
    "\n",
    "\n",
    "###color examples\n",
    "##77cb\n",
    "#'#faad55'\n",
    "#'#f0a3bc'\n",
    "#a18dd6"
   ]
  },
  {
   "cell_type": "code",
   "execution_count": null,
   "id": "b29b2b08",
   "metadata": {
    "ExecuteTime": {
     "end_time": "2022-07-29T05:04:33.293854Z",
     "start_time": "2022-07-29T05:04:33.287170Z"
    }
   },
   "outputs": [],
   "source": [
    "## tells the terminal command to run the template variable as a dashboard\n",
    "\n",
    "template.servable();"
   ]
  },
  {
   "cell_type": "code",
   "execution_count": null,
   "id": "f06f2f6d",
   "metadata": {},
   "outputs": [],
   "source": [
    "####extra code\n",
    "\n",
    "# center_lat = -3.497341\n",
    "# center_lon = 38.642394\n",
    "\n",
    "# zoomlevel=15\n",
    "\n",
    "# get December image, we're using the \"avg_rad\" band\n",
    "# viirs2020_01 = ee.ImageCollection(\"NOAA/VIIRS/DNB/MONTHLY_V1/VCMSLCFG\").filterDate(\"2022-01-01\",\"2022-01-31\").select('avg_rad').median()\n",
    "\n",
    "\n",
    "# initialize our map\n",
    "# map1 = geemap.Map()\n",
    "# map1.addLayer(viirs2020_01, {}, \"VIIRS-DNB\")\n",
    "#map1.to_html('map1.html')\n",
    "\n",
    "# def get_map(lat=20.5936832, long=78.962883, zoom_start=5):\n",
    "#     mm = fm.Map(location=[lat,long], zoom_start=zoom_start)\n",
    "#     return mm\n",
    "\n",
    "# map = get_map()\n",
    "\n",
    "\n",
    "# @pn.depends(button.param.clicks, watch=True)\n",
    "# def fetch_data(clicks,start=\"2022-04-04\", end=\"2022-04-04\"):\n",
    "#     ##de = \"2022-04-04\"\\\n",
    "#     #end = event_date.value[0].strftime('%Y-%m-%d')\n",
    "#     cols = ['decimalLatitude','decimalLongitude', 'eventDate', 'species']\n",
    "#     if clicks > 0:\n",
    "#         global df\n",
    "#         sql = f\"\"\"\n",
    "#         SELECT\n",
    "#             *\n",
    "#         FROM `gbif-challenge.airflow_uploads.gbif_combined`\n",
    "#         WHERE DATE(eventDate) BETWEEN \"{start}\" AND \"{end}\"\n",
    "#         \"\"\"\n",
    "#         bq = client.query(sql).to_dataframe() \n",
    "#         plot_scatter.object = occ_plot(bq)\n",
    "#         plot_cards.object = create_cards(bq, f\"decimalLatitude == {bq.loc[0,'decimalLatitude']}\")\n",
    "#         plot_species.object = species_counts(bq)\n",
    "#         df = bq.copy()\n",
    "#         return pn.widgets.DataFrame(df[cols].head(20))\n",
    "    "
   ]
  },
  {
   "cell_type": "code",
   "execution_count": 103,
   "id": "d24564f0",
   "metadata": {
    "ExecuteTime": {
     "end_time": "2022-07-30T21:56:26.536853Z",
     "start_time": "2022-07-30T21:56:25.439210Z"
    }
   },
   "outputs": [
    {
     "data": {
      "image/png": "[encoded data removed]",
      "text/plain": [
       "<PIL.Image.Image image mode=RGB size=400x200>"
      ]
     },
     "execution_count": 103,
     "metadata": {},
     "output_type": "execute_result"
    }
   ],
   "source": [
    "from wordcloud import WordCloud\n",
    "df1 = pd.DataFrame({\n",
    "    'Title': ['MaxTemp:43','MinTemp:42','AvgTemp:5','Snowfal:F'],\n",
    "    'Count': [0.1,0.1,0.5,0.4,]})\n",
    "d = {a: x for a, x in df1.values}\n",
    "wc = WordCloud(background_color='white', width=400, height=200)\n",
    "wc.fit_words(d)\n",
    "wc.to_image()"
   ]
  },
  {
   "cell_type": "code",
   "execution_count": 122,
   "id": "245c6d40",
   "metadata": {},
   "outputs": [
    {
     "data": {
      "text/html": [
       "<div>\n",
       "<style scoped>\n",
       "    .dataframe tbody tr th:only-of-type {\n",
       "        vertical-align: middle;\n",
       "    }\n",
       "\n",
       "    .dataframe tbody tr th {\n",
       "        vertical-align: top;\n",
       "    }\n",
       "\n",
       "    .dataframe thead th {\n",
       "        text-align: right;\n",
       "    }\n",
       "</style>\n",
       "<table border=\"1\" class=\"dataframe\">\n",
       "  <thead>\n",
       "    <tr style=\"text-align: right;\">\n",
       "      <th></th>\n",
       "      <th>Title</th>\n",
       "      <th>count</th>\n",
       "    </tr>\n",
       "  </thead>\n",
       "  <tbody>\n",
       "    <tr>\n",
       "      <th>0</th>\n",
       "      <td>land_cover_label:trees</td>\n",
       "      <td>1</td>\n",
       "    </tr>\n",
       "    <tr>\n",
       "      <th>1</th>\n",
       "      <td>snow:nan</td>\n",
       "      <td>1</td>\n",
       "    </tr>\n",
       "    <tr>\n",
       "      <th>2</th>\n",
       "      <td>is_invasive:False</td>\n",
       "      <td>1</td>\n",
       "    </tr>\n",
       "    <tr>\n",
       "      <th>3</th>\n",
       "      <td>species:Rupornis magnirostris</td>\n",
       "      <td>3</td>\n",
       "    </tr>\n",
       "  </tbody>\n",
       "</table>\n",
       "</div>"
      ],
      "text/plain": [
       "                           Title  count\n",
       "0         land_cover_label:trees      1\n",
       "1                       snow:nan      1\n",
       "2              is_invasive:False      1\n",
       "3  species:Rupornis magnirostris      3"
      ]
     },
     "execution_count": 122,
     "metadata": {},
     "output_type": "execute_result"
    }
   ],
   "source": [
    "df = pd.read_csv(\"/Users/riteshtekriwal/Work/Data/Raw/bio-conservation/test_combined.csv\")\n",
    "df.head(1)\n",
    "df = pd.melt(df.head(1), value_vars=['land_cover_label', 'snow', 'is_invasive','species'])\n",
    "df['count']=[1,1,1,3]\n",
    "df['Title']= df['variable'].astype(str) +\":\" +df['value'].astype(str)\n",
    "\n",
    "df=df[['Title','count']]\n",
    "df"
   ]
  },
  {
   "cell_type": "code",
   "execution_count": 123,
   "id": "a9cf077c",
   "metadata": {},
   "outputs": [],
   "source": [
    "d = {a: x for a, x in df.values}\n",
    "wc = WordCloud(background_color='white', width=400, height=200)\n",
    "wc.fit_words(d)\n",
    "fig = wc.to_image()"
   ]
  },
  {
   "cell_type": "code",
   "execution_count": 138,
   "id": "31fe086e",
   "metadata": {},
   "outputs": [
    {
     "data": {
      "text/html": [
       "<div>\n",
       "<style scoped>\n",
       "    .dataframe tbody tr th:only-of-type {\n",
       "        vertical-align: middle;\n",
       "    }\n",
       "\n",
       "    .dataframe tbody tr th {\n",
       "        vertical-align: top;\n",
       "    }\n",
       "\n",
       "    .dataframe thead th {\n",
       "        text-align: right;\n",
       "    }\n",
       "</style>\n",
       "<table border=\"1\" class=\"dataframe\">\n",
       "  <thead>\n",
       "    <tr style=\"text-align: right;\">\n",
       "      <th></th>\n",
       "      <th>time</th>\n",
       "      <th>tavg</th>\n",
       "      <th>tmin</th>\n",
       "      <th>tmax</th>\n",
       "      <th>prcp</th>\n",
       "      <th>snow</th>\n",
       "      <th>wdir</th>\n",
       "      <th>wspd</th>\n",
       "      <th>wpgt</th>\n",
       "      <th>pres</th>\n",
       "      <th>tsun</th>\n",
       "    </tr>\n",
       "  </thead>\n",
       "  <tbody>\n",
       "    <tr>\n",
       "      <th>0</th>\n",
       "      <td>2018-01-04</td>\n",
       "      <td>7.2</td>\n",
       "      <td>4.6</td>\n",
       "      <td>10.6</td>\n",
       "      <td>NaN</td>\n",
       "      <td>NaN</td>\n",
       "      <td>223.0</td>\n",
       "      <td>30.5</td>\n",
       "      <td>NaN</td>\n",
       "      <td>NaN</td>\n",
       "      <td>NaN</td>\n",
       "    </tr>\n",
       "    <tr>\n",
       "      <th>1</th>\n",
       "      <td>2018-01-05</td>\n",
       "      <td>NaN</td>\n",
       "      <td>NaN</td>\n",
       "      <td>NaN</td>\n",
       "      <td>NaN</td>\n",
       "      <td>NaN</td>\n",
       "      <td>NaN</td>\n",
       "      <td>NaN</td>\n",
       "      <td>NaN</td>\n",
       "      <td>NaN</td>\n",
       "      <td>NaN</td>\n",
       "    </tr>\n",
       "    <tr>\n",
       "      <th>2</th>\n",
       "      <td>2018-01-06</td>\n",
       "      <td>2.7</td>\n",
       "      <td>-0.4</td>\n",
       "      <td>5.6</td>\n",
       "      <td>NaN</td>\n",
       "      <td>NaN</td>\n",
       "      <td>0.0</td>\n",
       "      <td>15.6</td>\n",
       "      <td>NaN</td>\n",
       "      <td>NaN</td>\n",
       "      <td>NaN</td>\n",
       "    </tr>\n",
       "    <tr>\n",
       "      <th>3</th>\n",
       "      <td>2018-01-07</td>\n",
       "      <td>NaN</td>\n",
       "      <td>NaN</td>\n",
       "      <td>NaN</td>\n",
       "      <td>NaN</td>\n",
       "      <td>NaN</td>\n",
       "      <td>NaN</td>\n",
       "      <td>NaN</td>\n",
       "      <td>NaN</td>\n",
       "      <td>NaN</td>\n",
       "      <td>NaN</td>\n",
       "    </tr>\n",
       "    <tr>\n",
       "      <th>4</th>\n",
       "      <td>2018-01-08</td>\n",
       "      <td>NaN</td>\n",
       "      <td>NaN</td>\n",
       "      <td>NaN</td>\n",
       "      <td>NaN</td>\n",
       "      <td>NaN</td>\n",
       "      <td>NaN</td>\n",
       "      <td>NaN</td>\n",
       "      <td>NaN</td>\n",
       "      <td>NaN</td>\n",
       "      <td>NaN</td>\n",
       "    </tr>\n",
       "  </tbody>\n",
       "</table>\n",
       "</div>"
      ],
      "text/plain": [
       "        time  tavg  tmin  tmax  prcp  snow   wdir  wspd  wpgt  pres  tsun\n",
       "0 2018-01-04   7.2   4.6  10.6   NaN   NaN  223.0  30.5   NaN   NaN   NaN\n",
       "1 2018-01-05   NaN   NaN   NaN   NaN   NaN    NaN   NaN   NaN   NaN   NaN\n",
       "2 2018-01-06   2.7  -0.4   5.6   NaN   NaN    0.0  15.6   NaN   NaN   NaN\n",
       "3 2018-01-07   NaN   NaN   NaN   NaN   NaN    NaN   NaN   NaN   NaN   NaN\n",
       "4 2018-01-08   NaN   NaN   NaN   NaN   NaN    NaN   NaN   NaN   NaN   NaN"
      ]
     },
     "execution_count": 138,
     "metadata": {},
     "output_type": "execute_result"
    }
   ],
   "source": [
    "from meteostat import Point, Daily\n",
    "\n",
    "start = dt.datetime(2018, 1, 1)\n",
    "end = dt.datetime(2018, 12, 31)\n",
    "\n",
    "        # start = start_date.value.strftime('%Y-%m-%d')\n",
    "        # end = end_date.value.strftime('%Y-%m-%d')\n",
    "\n",
    "        # Create Point for Vancouver, BC\n",
    "#         pt = Point(df.loc[0,'decimalLatitude'], df.loc[0,'decimalLongitude'], 0)\n",
    "pt = Point(53.033981, -1.380991, 0)\n",
    "\n",
    "        # Get daily data for 2018\n",
    "data = Daily(pt, start, end)\n",
    "data = data.fetch().reset_index(level=0)\n",
    "\n",
    "data.head()"
   ]
  },
  {
   "cell_type": "code",
   "execution_count": 139,
   "id": "0ba53ac6",
   "metadata": {},
   "outputs": [
    {
     "data": {
      "text/html": [
       "<div>\n",
       "<style scoped>\n",
       "    .dataframe tbody tr th:only-of-type {\n",
       "        vertical-align: middle;\n",
       "    }\n",
       "\n",
       "    .dataframe tbody tr th {\n",
       "        vertical-align: top;\n",
       "    }\n",
       "\n",
       "    .dataframe thead th {\n",
       "        text-align: right;\n",
       "    }\n",
       "</style>\n",
       "<table border=\"1\" class=\"dataframe\">\n",
       "  <thead>\n",
       "    <tr style=\"text-align: right;\">\n",
       "      <th></th>\n",
       "      <th>time</th>\n",
       "      <th>variable</th>\n",
       "      <th>value</th>\n",
       "    </tr>\n",
       "  </thead>\n",
       "  <tbody>\n",
       "    <tr>\n",
       "      <th>0</th>\n",
       "      <td>2018-01-04</td>\n",
       "      <td>tavg</td>\n",
       "      <td>7.2</td>\n",
       "    </tr>\n",
       "    <tr>\n",
       "      <th>1</th>\n",
       "      <td>2018-01-05</td>\n",
       "      <td>tavg</td>\n",
       "      <td>NaN</td>\n",
       "    </tr>\n",
       "    <tr>\n",
       "      <th>2</th>\n",
       "      <td>2018-01-06</td>\n",
       "      <td>tavg</td>\n",
       "      <td>2.7</td>\n",
       "    </tr>\n",
       "    <tr>\n",
       "      <th>3</th>\n",
       "      <td>2018-01-07</td>\n",
       "      <td>tavg</td>\n",
       "      <td>NaN</td>\n",
       "    </tr>\n",
       "    <tr>\n",
       "      <th>4</th>\n",
       "      <td>2018-01-08</td>\n",
       "      <td>tavg</td>\n",
       "      <td>NaN</td>\n",
       "    </tr>\n",
       "    <tr>\n",
       "      <th>...</th>\n",
       "      <td>...</td>\n",
       "      <td>...</td>\n",
       "      <td>...</td>\n",
       "    </tr>\n",
       "    <tr>\n",
       "      <th>357</th>\n",
       "      <td>2018-12-27</td>\n",
       "      <td>tavg</td>\n",
       "      <td>8.5</td>\n",
       "    </tr>\n",
       "    <tr>\n",
       "      <th>358</th>\n",
       "      <td>2018-12-28</td>\n",
       "      <td>tavg</td>\n",
       "      <td>8.9</td>\n",
       "    </tr>\n",
       "    <tr>\n",
       "      <th>359</th>\n",
       "      <td>2018-12-29</td>\n",
       "      <td>tavg</td>\n",
       "      <td>10.2</td>\n",
       "    </tr>\n",
       "    <tr>\n",
       "      <th>360</th>\n",
       "      <td>2018-12-30</td>\n",
       "      <td>tavg</td>\n",
       "      <td>9.5</td>\n",
       "    </tr>\n",
       "    <tr>\n",
       "      <th>361</th>\n",
       "      <td>2018-12-31</td>\n",
       "      <td>tavg</td>\n",
       "      <td>9.5</td>\n",
       "    </tr>\n",
       "  </tbody>\n",
       "</table>\n",
       "<p>362 rows × 3 columns</p>\n",
       "</div>"
      ],
      "text/plain": [
       "          time variable  value\n",
       "0   2018-01-04     tavg    7.2\n",
       "1   2018-01-05     tavg    NaN\n",
       "2   2018-01-06     tavg    2.7\n",
       "3   2018-01-07     tavg    NaN\n",
       "4   2018-01-08     tavg    NaN\n",
       "..         ...      ...    ...\n",
       "357 2018-12-27     tavg    8.5\n",
       "358 2018-12-28     tavg    8.9\n",
       "359 2018-12-29     tavg   10.2\n",
       "360 2018-12-30     tavg    9.5\n",
       "361 2018-12-31     tavg    9.5\n",
       "\n",
       "[362 rows x 3 columns]"
      ]
     },
     "execution_count": 139,
     "metadata": {},
     "output_type": "execute_result"
    }
   ],
   "source": [
    "data= pd.melt(data,value_vars=['tavg'],id_vars=['time'])\n",
    "data"
   ]
  },
  {
   "cell_type": "code",
   "execution_count": 141,
   "id": "3beb63fe",
   "metadata": {},
   "outputs": [
    {
     "data": {
      "application/vnd.plotly.v1+json": {
       "config": {
        "plotlyServerURL": "https://plot.ly"
       },
       "data": [
        {
         "hovertemplate": "variable=tavg<br>time=%{x}<br>value=%{y}<extra></extra>",
         "legendgroup": "tavg",
         "line": {
          "color": "#636efa",
          "dash": "solid"
         },
         "marker": {
          "symbol": "circle"
         },
         "mode": "lines",
         "name": "tavg",
         "orientation": "v",
         "showlegend": true,
         "type": "scatter",
         "x": [
          "2018-01-04T00:00:00",
          "2018-01-05T00:00:00",
          "2018-01-06T00:00:00",
          "2018-01-07T00:00:00",
          "2018-01-08T00:00:00",
          "2018-01-09T00:00:00",
          "2018-01-10T00:00:00",
          "2018-01-11T00:00:00",
          "2018-01-12T00:00:00",
          "2018-01-13T00:00:00",
          "2018-01-14T00:00:00",
          "2018-01-15T00:00:00",
          "2018-01-16T00:00:00",
          "2018-01-17T00:00:00",
          "2018-01-18T00:00:00",
          "2018-01-19T00:00:00",
          "2018-01-20T00:00:00",
          "2018-01-21T00:00:00",
          "2018-01-22T00:00:00",
          "2018-01-23T00:00:00",
          "2018-01-24T00:00:00",
          "2018-01-25T00:00:00",
          "2018-01-26T00:00:00",
          "2018-01-27T00:00:00",
          "2018-01-28T00:00:00",
          "2018-01-29T00:00:00",
          "2018-01-30T00:00:00",
          "2018-01-31T00:00:00",
          "2018-02-01T00:00:00",
          "2018-02-02T00:00:00",
          "2018-02-03T00:00:00",
          "2018-02-04T00:00:00",
          "2018-02-05T00:00:00",
          "2018-02-06T00:00:00",
          "2018-02-07T00:00:00",
          "2018-02-08T00:00:00",
          "2018-02-09T00:00:00",
          "2018-02-10T00:00:00",
          "2018-02-11T00:00:00",
          "2018-02-12T00:00:00",
          "2018-02-13T00:00:00",
          "2018-02-14T00:00:00",
          "2018-02-15T00:00:00",
          "2018-02-16T00:00:00",
          "2018-02-17T00:00:00",
          "2018-02-18T00:00:00",
          "2018-02-19T00:00:00",
          "2018-02-20T00:00:00",
          "2018-02-21T00:00:00",
          "2018-02-22T00:00:00",
          "2018-02-23T00:00:00",
          "2018-02-24T00:00:00",
          "2018-02-25T00:00:00",
          "2018-02-26T00:00:00",
          "2018-02-27T00:00:00",
          "2018-02-28T00:00:00",
          "2018-03-01T00:00:00",
          "2018-03-02T00:00:00",
          "2018-03-03T00:00:00",
          "2018-03-04T00:00:00",
          "2018-03-05T00:00:00",
          "2018-03-06T00:00:00",
          "2018-03-07T00:00:00",
          "2018-03-08T00:00:00",
          "2018-03-09T00:00:00",
          "2018-03-10T00:00:00",
          "2018-03-11T00:00:00",
          "2018-03-12T00:00:00",
          "2018-03-13T00:00:00",
          "2018-03-14T00:00:00",
          "2018-03-15T00:00:00",
          "2018-03-16T00:00:00",
          "2018-03-17T00:00:00",
          "2018-03-18T00:00:00",
          "2018-03-19T00:00:00",
          "2018-03-20T00:00:00",
          "2018-03-21T00:00:00",
          "2018-03-22T00:00:00",
          "2018-03-23T00:00:00",
          "2018-03-24T00:00:00",
          "2018-03-25T00:00:00",
          "2018-03-26T00:00:00",
          "2018-03-27T00:00:00",
          "2018-03-28T00:00:00",
          "2018-03-29T00:00:00",
          "2018-03-30T00:00:00",
          "2018-03-31T00:00:00",
          "2018-04-01T00:00:00",
          "2018-04-02T00:00:00",
          "2018-04-03T00:00:00",
          "2018-04-04T00:00:00",
          "2018-04-05T00:00:00",
          "2018-04-06T00:00:00",
          "2018-04-07T00:00:00",
          "2018-04-08T00:00:00",
          "2018-04-09T00:00:00",
          "2018-04-10T00:00:00",
          "2018-04-11T00:00:00",
          "2018-04-12T00:00:00",
          "2018-04-13T00:00:00",
          "2018-04-14T00:00:00",
          "2018-04-15T00:00:00",
          "2018-04-16T00:00:00",
          "2018-04-17T00:00:00",
          "2018-04-18T00:00:00",
          "2018-04-19T00:00:00",
          "2018-04-20T00:00:00",
          "2018-04-21T00:00:00",
          "2018-04-22T00:00:00",
          "2018-04-23T00:00:00",
          "2018-04-24T00:00:00",
          "2018-04-25T00:00:00",
          "2018-04-26T00:00:00",
          "2018-04-27T00:00:00",
          "2018-04-28T00:00:00",
          "2018-04-29T00:00:00",
          "2018-04-30T00:00:00",
          "2018-05-01T00:00:00",
          "2018-05-02T00:00:00",
          "2018-05-03T00:00:00",
          "2018-05-04T00:00:00",
          "2018-05-05T00:00:00",
          "2018-05-06T00:00:00",
          "2018-05-07T00:00:00",
          "2018-05-08T00:00:00",
          "2018-05-09T00:00:00",
          "2018-05-10T00:00:00",
          "2018-05-11T00:00:00",
          "2018-05-12T00:00:00",
          "2018-05-13T00:00:00",
          "2018-05-14T00:00:00",
          "2018-05-15T00:00:00",
          "2018-05-16T00:00:00",
          "2018-05-17T00:00:00",
          "2018-05-18T00:00:00",
          "2018-05-19T00:00:00",
          "2018-05-20T00:00:00",
          "2018-05-21T00:00:00",
          "2018-05-22T00:00:00",
          "2018-05-23T00:00:00",
          "2018-05-24T00:00:00",
          "2018-05-25T00:00:00",
          "2018-05-26T00:00:00",
          "2018-05-27T00:00:00",
          "2018-05-28T00:00:00",
          "2018-05-29T00:00:00",
          "2018-05-30T00:00:00",
          "2018-05-31T00:00:00",
          "2018-06-01T00:00:00",
          "2018-06-02T00:00:00",
          "2018-06-03T00:00:00",
          "2018-06-04T00:00:00",
          "2018-06-05T00:00:00",
          "2018-06-06T00:00:00",
          "2018-06-07T00:00:00",
          "2018-06-08T00:00:00",
          "2018-06-09T00:00:00",
          "2018-06-10T00:00:00",
          "2018-06-11T00:00:00",
          "2018-06-12T00:00:00",
          "2018-06-13T00:00:00",
          "2018-06-14T00:00:00",
          "2018-06-15T00:00:00",
          "2018-06-16T00:00:00",
          "2018-06-17T00:00:00",
          "2018-06-18T00:00:00",
          "2018-06-19T00:00:00",
          "2018-06-20T00:00:00",
          "2018-06-21T00:00:00",
          "2018-06-22T00:00:00",
          "2018-06-23T00:00:00",
          "2018-06-24T00:00:00",
          "2018-06-25T00:00:00",
          "2018-06-26T00:00:00",
          "2018-06-27T00:00:00",
          "2018-06-28T00:00:00",
          "2018-06-29T00:00:00",
          "2018-06-30T00:00:00",
          "2018-07-01T00:00:00",
          "2018-07-02T00:00:00",
          "2018-07-03T00:00:00",
          "2018-07-04T00:00:00",
          "2018-07-05T00:00:00",
          "2018-07-06T00:00:00",
          "2018-07-07T00:00:00",
          "2018-07-08T00:00:00",
          "2018-07-09T00:00:00",
          "2018-07-10T00:00:00",
          "2018-07-11T00:00:00",
          "2018-07-12T00:00:00",
          "2018-07-13T00:00:00",
          "2018-07-14T00:00:00",
          "2018-07-15T00:00:00",
          "2018-07-16T00:00:00",
          "2018-07-17T00:00:00",
          "2018-07-18T00:00:00",
          "2018-07-19T00:00:00",
          "2018-07-20T00:00:00",
          "2018-07-21T00:00:00",
          "2018-07-22T00:00:00",
          "2018-07-23T00:00:00",
          "2018-07-24T00:00:00",
          "2018-07-25T00:00:00",
          "2018-07-26T00:00:00",
          "2018-07-27T00:00:00",
          "2018-07-28T00:00:00",
          "2018-07-29T00:00:00",
          "2018-07-30T00:00:00",
          "2018-07-31T00:00:00",
          "2018-08-01T00:00:00",
          "2018-08-02T00:00:00",
          "2018-08-03T00:00:00",
          "2018-08-04T00:00:00",
          "2018-08-05T00:00:00",
          "2018-08-06T00:00:00",
          "2018-08-07T00:00:00",
          "2018-08-08T00:00:00",
          "2018-08-09T00:00:00",
          "2018-08-10T00:00:00",
          "2018-08-11T00:00:00",
          "2018-08-12T00:00:00",
          "2018-08-13T00:00:00",
          "2018-08-14T00:00:00",
          "2018-08-15T00:00:00",
          "2018-08-16T00:00:00",
          "2018-08-17T00:00:00",
          "2018-08-18T00:00:00",
          "2018-08-19T00:00:00",
          "2018-08-20T00:00:00",
          "2018-08-21T00:00:00",
          "2018-08-22T00:00:00",
          "2018-08-23T00:00:00",
          "2018-08-24T00:00:00",
          "2018-08-25T00:00:00",
          "2018-08-26T00:00:00",
          "2018-08-27T00:00:00",
          "2018-08-28T00:00:00",
          "2018-08-29T00:00:00",
          "2018-08-30T00:00:00",
          "2018-08-31T00:00:00",
          "2018-09-01T00:00:00",
          "2018-09-02T00:00:00",
          "2018-09-03T00:00:00",
          "2018-09-04T00:00:00",
          "2018-09-05T00:00:00",
          "2018-09-06T00:00:00",
          "2018-09-07T00:00:00",
          "2018-09-08T00:00:00",
          "2018-09-09T00:00:00",
          "2018-09-10T00:00:00",
          "2018-09-11T00:00:00",
          "2018-09-12T00:00:00",
          "2018-09-13T00:00:00",
          "2018-09-14T00:00:00",
          "2018-09-15T00:00:00",
          "2018-09-16T00:00:00",
          "2018-09-17T00:00:00",
          "2018-09-18T00:00:00",
          "2018-09-19T00:00:00",
          "2018-09-20T00:00:00",
          "2018-09-21T00:00:00",
          "2018-09-22T00:00:00",
          "2018-09-23T00:00:00",
          "2018-09-24T00:00:00",
          "2018-09-25T00:00:00",
          "2018-09-26T00:00:00",
          "2018-09-27T00:00:00",
          "2018-09-28T00:00:00",
          "2018-09-29T00:00:00",
          "2018-09-30T00:00:00",
          "2018-10-01T00:00:00",
          "2018-10-02T00:00:00",
          "2018-10-03T00:00:00",
          "2018-10-04T00:00:00",
          "2018-10-05T00:00:00",
          "2018-10-06T00:00:00",
          "2018-10-07T00:00:00",
          "2018-10-08T00:00:00",
          "2018-10-09T00:00:00",
          "2018-10-10T00:00:00",
          "2018-10-11T00:00:00",
          "2018-10-12T00:00:00",
          "2018-10-13T00:00:00",
          "2018-10-14T00:00:00",
          "2018-10-15T00:00:00",
          "2018-10-16T00:00:00",
          "2018-10-17T00:00:00",
          "2018-10-18T00:00:00",
          "2018-10-19T00:00:00",
          "2018-10-20T00:00:00",
          "2018-10-21T00:00:00",
          "2018-10-22T00:00:00",
          "2018-10-23T00:00:00",
          "2018-10-24T00:00:00",
          "2018-10-25T00:00:00",
          "2018-10-26T00:00:00",
          "2018-10-27T00:00:00",
          "2018-10-28T00:00:00",
          "2018-10-29T00:00:00",
          "2018-10-30T00:00:00",
          "2018-10-31T00:00:00",
          "2018-11-01T00:00:00",
          "2018-11-02T00:00:00",
          "2018-11-03T00:00:00",
          "2018-11-04T00:00:00",
          "2018-11-05T00:00:00",
          "2018-11-06T00:00:00",
          "2018-11-07T00:00:00",
          "2018-11-08T00:00:00",
          "2018-11-09T00:00:00",
          "2018-11-10T00:00:00",
          "2018-11-11T00:00:00",
          "2018-11-12T00:00:00",
          "2018-11-13T00:00:00",
          "2018-11-14T00:00:00",
          "2018-11-15T00:00:00",
          "2018-11-16T00:00:00",
          "2018-11-17T00:00:00",
          "2018-11-18T00:00:00",
          "2018-11-19T00:00:00",
          "2018-11-20T00:00:00",
          "2018-11-21T00:00:00",
          "2018-11-22T00:00:00",
          "2018-11-23T00:00:00",
          "2018-11-24T00:00:00",
          "2018-11-25T00:00:00",
          "2018-11-26T00:00:00",
          "2018-11-27T00:00:00",
          "2018-11-28T00:00:00",
          "2018-11-29T00:00:00",
          "2018-11-30T00:00:00",
          "2018-12-01T00:00:00",
          "2018-12-02T00:00:00",
          "2018-12-03T00:00:00",
          "2018-12-04T00:00:00",
          "2018-12-05T00:00:00",
          "2018-12-06T00:00:00",
          "2018-12-07T00:00:00",
          "2018-12-08T00:00:00",
          "2018-12-09T00:00:00",
          "2018-12-10T00:00:00",
          "2018-12-11T00:00:00",
          "2018-12-12T00:00:00",
          "2018-12-13T00:00:00",
          "2018-12-14T00:00:00",
          "2018-12-15T00:00:00",
          "2018-12-16T00:00:00",
          "2018-12-17T00:00:00",
          "2018-12-18T00:00:00",
          "2018-12-19T00:00:00",
          "2018-12-20T00:00:00",
          "2018-12-21T00:00:00",
          "2018-12-22T00:00:00",
          "2018-12-23T00:00:00",
          "2018-12-24T00:00:00",
          "2018-12-25T00:00:00",
          "2018-12-26T00:00:00",
          "2018-12-27T00:00:00",
          "2018-12-28T00:00:00",
          "2018-12-29T00:00:00",
          "2018-12-30T00:00:00",
          "2018-12-31T00:00:00"
         ],
         "xaxis": "x",
         "y": [
          7.2,
          null,
          2.7,
          null,
          null,
          null,
          6.6,
          5.9,
          6.2,
          5.5,
          null,
          null,
          null,
          3.7,
          5.1,
          null,
          1.6,
          1.6,
          null,
          null,
          8.7,
          5.8,
          4.2,
          7.2,
          10.9,
          8.6,
          4,
          5.2,
          4.8,
          4.7,
          2.6,
          3.3,
          2,
          null,
          null,
          4,
          4.6,
          4.4,
          3.6,
          2.4,
          3,
          2.3,
          6.1,
          4.1,
          5.1,
          6.1,
          8.8,
          7.9,
          5.6,
          2.1,
          0.8,
          2.4,
          0.9,
          -0.2,
          -1.1,
          -4,
          -3.4,
          -0.9,
          -0.4,
          3.1,
          6.2,
          5.9,
          4.5,
          4.7,
          4.8,
          10.3,
          7.9,
          6.3,
          7,
          7.6,
          8.1,
          7.4,
          0.1,
          -0.9,
          2,
          4,
          4.8,
          8.2,
          8.7,
          7.5,
          null,
          7.7,
          7.9,
          6.3,
          4.9,
          5.7,
          4.9,
          4,
          5.8,
          10.3,
          8.7,
          6.9,
          9.2,
          10.5,
          9.4,
          8.5,
          7.5,
          6.9,
          5.9,
          7.7,
          11.9,
          10.4,
          11.6,
          12.7,
          17.4,
          19,
          16.2,
          15,
          15.9,
          11.5,
          11.2,
          9.7,
          10,
          7.2,
          7.2,
          7.1,
          7.1,
          9,
          9.8,
          10.4,
          13.2,
          16.1,
          17.9,
          19.4,
          16.9,
          13,
          11.7,
          12,
          12.7,
          13.1,
          14.5,
          16.4,
          12.4,
          null,
          null,
          14.8,
          16.3,
          16.4,
          14.5,
          13,
          13.4,
          12.7,
          15.8,
          17.4,
          17.2,
          15.6,
          14.3,
          17.1,
          18.1,
          18,
          19.1,
          15.4,
          null,
          13.4,
          14.4,
          13.9,
          14.4,
          15.2,
          17.4,
          14.8,
          16.5,
          16.9,
          15.2,
          15,
          15.1,
          17.9,
          18.9,
          18.2,
          14.3,
          15.9,
          15.8,
          18,
          21.2,
          20.1,
          17.3,
          18.3,
          null,
          19,
          20,
          19.8,
          17.7,
          18.1,
          22.1,
          21.5,
          22.1,
          22.8,
          19.8,
          17.9,
          17.5,
          17.5,
          18.1,
          20.5,
          21.6,
          21.2,
          18.2,
          19.4,
          21.2,
          18.5,
          19,
          19.9,
          24.1,
          21.8,
          20.5,
          23.9,
          24.1,
          17.4,
          16.7,
          18.7,
          18.5,
          18.3,
          21.7,
          21.7,
          20.2,
          21.2,
          22,
          21.5,
          17.9,
          16.7,
          14.1,
          15.6,
          17.2,
          18.6,
          17.9,
          19.6,
          17.3,
          15.4,
          19.1,
          19.3,
          19.6,
          20.5,
          19.6,
          15.2,
          11.9,
          13.6,
          12.8,
          15.5,
          16,
          15.8,
          14.5,
          14.4,
          16.9,
          19.7,
          18,
          13.9,
          15.2,
          12.5,
          11.8,
          13.6,
          16,
          14.9,
          16.5,
          13.1,
          12.9,
          13.6,
          13.9,
          16.7,
          18.6,
          18.8,
          16.8,
          14.2,
          11.5,
          10.2,
          10.6,
          10.3,
          10.7,
          15.5,
          16.9,
          11.1,
          10.4,
          10,
          9.5,
          13.5,
          13.8,
          14.9,
          13.9,
          8,
          7.9,
          13,
          14.8,
          15.6,
          16.3,
          16.1,
          20,
          11.7,
          9.8,
          13,
          13.2,
          9.8,
          8.8,
          11.6,
          12.5,
          9.4,
          11.7,
          12.1,
          11.2,
          8.6,
          4.4,
          5.6,
          4,
          5.8,
          6.4,
          7.9,
          6,
          10.4,
          10.7,
          9.8,
          12.2,
          11.8,
          9.4,
          9.4,
          9.9,
          9.4,
          10,
          10,
          11.8,
          12.2,
          11.6,
          8.2,
          6.9,
          7,
          4.7,
          3.4,
          2.7,
          5.3,
          7.1,
          5.9,
          5.5,
          4.9,
          11.2,
          11.1,
          8.1,
          9.2,
          11.9,
          8.6,
          3.6,
          7.9,
          11.7,
          9.6,
          8.9,
          7.6,
          6.3,
          4.9,
          4.2,
          3.5,
          1.5,
          2.2,
          6,
          6.2,
          8.9,
          6.7,
          7.1,
          7.7,
          8.2,
          6,
          3.6,
          5.8,
          8.9,
          8.5,
          8.9,
          10.2,
          9.5,
          9.5
         ],
         "yaxis": "y"
        }
       ],
       "layout": {
        "autosize": true,
        "hovermode": "closest",
        "legend": {
         "title": {
          "text": "variable"
         },
         "tracegroupgap": 0
        },
        "paper_bgcolor": "rgba(0, 0, 0, 0)",
        "plot_bgcolor": "rgba(0, 0, 0, 0)",
        "showlegend": false,
        "template": {
         "data": {
          "bar": [
           {
            "error_x": {
             "color": "#2a3f5f"
            },
            "error_y": {
             "color": "#2a3f5f"
            },
            "marker": {
             "line": {
              "color": "white",
              "width": 0.5
             },
             "pattern": {
              "fillmode": "overlay",
              "size": 10,
              "solidity": 0.2
             }
            },
            "type": "bar"
           }
          ],
          "barpolar": [
           {
            "marker": {
             "line": {
              "color": "white",
              "width": 0.5
             },
             "pattern": {
              "fillmode": "overlay",
              "size": 10,
              "solidity": 0.2
             }
            },
            "type": "barpolar"
           }
          ],
          "carpet": [
           {
            "aaxis": {
             "endlinecolor": "#2a3f5f",
             "gridcolor": "#C8D4E3",
             "linecolor": "#C8D4E3",
             "minorgridcolor": "#C8D4E3",
             "startlinecolor": "#2a3f5f"
            },
            "baxis": {
             "endlinecolor": "#2a3f5f",
             "gridcolor": "#C8D4E3",
             "linecolor": "#C8D4E3",
             "minorgridcolor": "#C8D4E3",
             "startlinecolor": "#2a3f5f"
            },
            "type": "carpet"
           }
          ],
          "choropleth": [
           {
            "colorbar": {
             "outlinewidth": 0,
             "ticks": ""
            },
            "type": "choropleth"
           }
          ],
          "contour": [
           {
            "colorbar": {
             "outlinewidth": 0,
             "ticks": ""
            },
            "colorscale": [
             [
              0,
              "#0d0887"
             ],
             [
              0.1111111111111111,
              "#46039f"
             ],
             [
              0.2222222222222222,
              "#7201a8"
             ],
             [
              0.3333333333333333,
              "#9c179e"
             ],
             [
              0.4444444444444444,
              "#bd3786"
             ],
             [
              0.5555555555555556,
              "#d8576b"
             ],
             [
              0.6666666666666666,
              "#ed7953"
             ],
             [
              0.7777777777777778,
              "#fb9f3a"
             ],
             [
              0.8888888888888888,
              "#fdca26"
             ],
             [
              1,
              "#f0f921"
             ]
            ],
            "type": "contour"
           }
          ],
          "contourcarpet": [
           {
            "colorbar": {
             "outlinewidth": 0,
             "ticks": ""
            },
            "type": "contourcarpet"
           }
          ],
          "heatmap": [
           {
            "colorbar": {
             "outlinewidth": 0,
             "ticks": ""
            },
            "colorscale": [
             [
              0,
              "#0d0887"
             ],
             [
              0.1111111111111111,
              "#46039f"
             ],
             [
              0.2222222222222222,
              "#7201a8"
             ],
             [
              0.3333333333333333,
              "#9c179e"
             ],
             [
              0.4444444444444444,
              "#bd3786"
             ],
             [
              0.5555555555555556,
              "#d8576b"
             ],
             [
              0.6666666666666666,
              "#ed7953"
             ],
             [
              0.7777777777777778,
              "#fb9f3a"
             ],
             [
              0.8888888888888888,
              "#fdca26"
             ],
             [
              1,
              "#f0f921"
             ]
            ],
            "type": "heatmap"
           }
          ],
          "heatmapgl": [
           {
            "colorbar": {
             "outlinewidth": 0,
             "ticks": ""
            },
            "colorscale": [
             [
              0,
              "#0d0887"
             ],
             [
              0.1111111111111111,
              "#46039f"
             ],
             [
              0.2222222222222222,
              "#7201a8"
             ],
             [
              0.3333333333333333,
              "#9c179e"
             ],
             [
              0.4444444444444444,
              "#bd3786"
             ],
             [
              0.5555555555555556,
              "#d8576b"
             ],
             [
              0.6666666666666666,
              "#ed7953"
             ],
             [
              0.7777777777777778,
              "#fb9f3a"
             ],
             [
              0.8888888888888888,
              "#fdca26"
             ],
             [
              1,
              "#f0f921"
             ]
            ],
            "type": "heatmapgl"
           }
          ],
          "histogram": [
           {
            "marker": {
             "pattern": {
              "fillmode": "overlay",
              "size": 10,
              "solidity": 0.2
             }
            },
            "type": "histogram"
           }
          ],
          "histogram2d": [
           {
            "colorbar": {
             "outlinewidth": 0,
             "ticks": ""
            },
            "colorscale": [
             [
              0,
              "#0d0887"
             ],
             [
              0.1111111111111111,
              "#46039f"
             ],
             [
              0.2222222222222222,
              "#7201a8"
             ],
             [
              0.3333333333333333,
              "#9c179e"
             ],
             [
              0.4444444444444444,
              "#bd3786"
             ],
             [
              0.5555555555555556,
              "#d8576b"
             ],
             [
              0.6666666666666666,
              "#ed7953"
             ],
             [
              0.7777777777777778,
              "#fb9f3a"
             ],
             [
              0.8888888888888888,
              "#fdca26"
             ],
             [
              1,
              "#f0f921"
             ]
            ],
            "type": "histogram2d"
           }
          ],
          "histogram2dcontour": [
           {
            "colorbar": {
             "outlinewidth": 0,
             "ticks": ""
            },
            "colorscale": [
             [
              0,
              "#0d0887"
             ],
             [
              0.1111111111111111,
              "#46039f"
             ],
             [
              0.2222222222222222,
              "#7201a8"
             ],
             [
              0.3333333333333333,
              "#9c179e"
             ],
             [
              0.4444444444444444,
              "#bd3786"
             ],
             [
              0.5555555555555556,
              "#d8576b"
             ],
             [
              0.6666666666666666,
              "#ed7953"
             ],
             [
              0.7777777777777778,
              "#fb9f3a"
             ],
             [
              0.8888888888888888,
              "#fdca26"
             ],
             [
              1,
              "#f0f921"
             ]
            ],
            "type": "histogram2dcontour"
           }
          ],
          "mesh3d": [
           {
            "colorbar": {
             "outlinewidth": 0,
             "ticks": ""
            },
            "type": "mesh3d"
           }
          ],
          "parcoords": [
           {
            "line": {
             "colorbar": {
              "outlinewidth": 0,
              "ticks": ""
             }
            },
            "type": "parcoords"
           }
          ],
          "pie": [
           {
            "automargin": true,
            "type": "pie"
           }
          ],
          "scatter": [
           {
            "fillpattern": {
             "fillmode": "overlay",
             "size": 10,
             "solidity": 0.2
            },
            "type": "scatter"
           }
          ],
          "scatter3d": [
           {
            "line": {
             "colorbar": {
              "outlinewidth": 0,
              "ticks": ""
             }
            },
            "marker": {
             "colorbar": {
              "outlinewidth": 0,
              "ticks": ""
             }
            },
            "type": "scatter3d"
           }
          ],
          "scattercarpet": [
           {
            "marker": {
             "colorbar": {
              "outlinewidth": 0,
              "ticks": ""
             }
            },
            "type": "scattercarpet"
           }
          ],
          "scattergeo": [
           {
            "marker": {
             "colorbar": {
              "outlinewidth": 0,
              "ticks": ""
             }
            },
            "type": "scattergeo"
           }
          ],
          "scattergl": [
           {
            "marker": {
             "colorbar": {
              "outlinewidth": 0,
              "ticks": ""
             }
            },
            "type": "scattergl"
           }
          ],
          "scattermapbox": [
           {
            "marker": {
             "colorbar": {
              "outlinewidth": 0,
              "ticks": ""
             }
            },
            "type": "scattermapbox"
           }
          ],
          "scatterpolar": [
           {
            "marker": {
             "colorbar": {
              "outlinewidth": 0,
              "ticks": ""
             }
            },
            "type": "scatterpolar"
           }
          ],
          "scatterpolargl": [
           {
            "marker": {
             "colorbar": {
              "outlinewidth": 0,
              "ticks": ""
             }
            },
            "type": "scatterpolargl"
           }
          ],
          "scatterternary": [
           {
            "marker": {
             "colorbar": {
              "outlinewidth": 0,
              "ticks": ""
             }
            },
            "type": "scatterternary"
           }
          ],
          "surface": [
           {
            "colorbar": {
             "outlinewidth": 0,
             "ticks": ""
            },
            "colorscale": [
             [
              0,
              "#0d0887"
             ],
             [
              0.1111111111111111,
              "#46039f"
             ],
             [
              0.2222222222222222,
              "#7201a8"
             ],
             [
              0.3333333333333333,
              "#9c179e"
             ],
             [
              0.4444444444444444,
              "#bd3786"
             ],
             [
              0.5555555555555556,
              "#d8576b"
             ],
             [
              0.6666666666666666,
              "#ed7953"
             ],
             [
              0.7777777777777778,
              "#fb9f3a"
             ],
             [
              0.8888888888888888,
              "#fdca26"
             ],
             [
              1,
              "#f0f921"
             ]
            ],
            "type": "surface"
           }
          ],
          "table": [
           {
            "cells": {
             "fill": {
              "color": "#EBF0F8"
             },
             "line": {
              "color": "white"
             }
            },
            "header": {
             "fill": {
              "color": "#C8D4E3"
             },
             "line": {
              "color": "white"
             }
            },
            "type": "table"
           }
          ]
         },
         "layout": {
          "annotationdefaults": {
           "arrowcolor": "#2a3f5f",
           "arrowhead": 0,
           "arrowwidth": 1
          },
          "autotypenumbers": "strict",
          "coloraxis": {
           "colorbar": {
            "outlinewidth": 0,
            "ticks": ""
           }
          },
          "colorscale": {
           "diverging": [
            [
             0,
             "#8e0152"
            ],
            [
             0.1,
             "#c51b7d"
            ],
            [
             0.2,
             "#de77ae"
            ],
            [
             0.3,
             "#f1b6da"
            ],
            [
             0.4,
             "#fde0ef"
            ],
            [
             0.5,
             "#f7f7f7"
            ],
            [
             0.6,
             "#e6f5d0"
            ],
            [
             0.7,
             "#b8e186"
            ],
            [
             0.8,
             "#7fbc41"
            ],
            [
             0.9,
             "#4d9221"
            ],
            [
             1,
             "#276419"
            ]
           ],
           "sequential": [
            [
             0,
             "#0d0887"
            ],
            [
             0.1111111111111111,
             "#46039f"
            ],
            [
             0.2222222222222222,
             "#7201a8"
            ],
            [
             0.3333333333333333,
             "#9c179e"
            ],
            [
             0.4444444444444444,
             "#bd3786"
            ],
            [
             0.5555555555555556,
             "#d8576b"
            ],
            [
             0.6666666666666666,
             "#ed7953"
            ],
            [
             0.7777777777777778,
             "#fb9f3a"
            ],
            [
             0.8888888888888888,
             "#fdca26"
            ],
            [
             1,
             "#f0f921"
            ]
           ],
           "sequentialminus": [
            [
             0,
             "#0d0887"
            ],
            [
             0.1111111111111111,
             "#46039f"
            ],
            [
             0.2222222222222222,
             "#7201a8"
            ],
            [
             0.3333333333333333,
             "#9c179e"
            ],
            [
             0.4444444444444444,
             "#bd3786"
            ],
            [
             0.5555555555555556,
             "#d8576b"
            ],
            [
             0.6666666666666666,
             "#ed7953"
            ],
            [
             0.7777777777777778,
             "#fb9f3a"
            ],
            [
             0.8888888888888888,
             "#fdca26"
            ],
            [
             1,
             "#f0f921"
            ]
           ]
          },
          "colorway": [
           "#636efa",
           "#EF553B",
           "#00cc96",
           "#ab63fa",
           "#FFA15A",
           "#19d3f3",
           "#FF6692",
           "#B6E880",
           "#FF97FF",
           "#FECB52"
          ],
          "font": {
           "color": "#2a3f5f"
          },
          "geo": {
           "bgcolor": "white",
           "lakecolor": "white",
           "landcolor": "white",
           "showlakes": true,
           "showland": true,
           "subunitcolor": "#C8D4E3"
          },
          "hoverlabel": {
           "align": "left"
          },
          "hovermode": "closest",
          "mapbox": {
           "style": "light"
          },
          "paper_bgcolor": "white",
          "plot_bgcolor": "white",
          "polar": {
           "angularaxis": {
            "gridcolor": "#EBF0F8",
            "linecolor": "#EBF0F8",
            "ticks": ""
           },
           "bgcolor": "white",
           "radialaxis": {
            "gridcolor": "#EBF0F8",
            "linecolor": "#EBF0F8",
            "ticks": ""
           }
          },
          "scene": {
           "xaxis": {
            "backgroundcolor": "white",
            "gridcolor": "#DFE8F3",
            "gridwidth": 2,
            "linecolor": "#EBF0F8",
            "showbackground": true,
            "ticks": "",
            "zerolinecolor": "#EBF0F8"
           },
           "yaxis": {
            "backgroundcolor": "white",
            "gridcolor": "#DFE8F3",
            "gridwidth": 2,
            "linecolor": "#EBF0F8",
            "showbackground": true,
            "ticks": "",
            "zerolinecolor": "#EBF0F8"
           },
           "zaxis": {
            "backgroundcolor": "white",
            "gridcolor": "#DFE8F3",
            "gridwidth": 2,
            "linecolor": "#EBF0F8",
            "showbackground": true,
            "ticks": "",
            "zerolinecolor": "#EBF0F8"
           }
          },
          "shapedefaults": {
           "line": {
            "color": "#2a3f5f"
           }
          },
          "ternary": {
           "aaxis": {
            "gridcolor": "#DFE8F3",
            "linecolor": "#A2B1C6",
            "ticks": ""
           },
           "baxis": {
            "gridcolor": "#DFE8F3",
            "linecolor": "#A2B1C6",
            "ticks": ""
           },
           "bgcolor": "white",
           "caxis": {
            "gridcolor": "#DFE8F3",
            "linecolor": "#A2B1C6",
            "ticks": ""
           }
          },
          "title": {
           "x": 0.05
          },
          "xaxis": {
           "automargin": true,
           "gridcolor": "#EBF0F8",
           "linecolor": "#EBF0F8",
           "ticks": "",
           "title": {
            "standoff": 15
           },
           "zerolinecolor": "#EBF0F8",
           "zerolinewidth": 2
          },
          "yaxis": {
           "automargin": true,
           "gridcolor": "#EBF0F8",
           "linecolor": "#EBF0F8",
           "ticks": "",
           "title": {
            "standoff": 15
           },
           "zerolinecolor": "#EBF0F8",
           "zerolinewidth": 2
          }
         }
        },
        "title": {
         "text": "Climate Covariates"
        },
        "xaxis": {
         "anchor": "y",
         "domain": [
          0,
          1
         ],
         "fixedrange": true,
         "title": {
          "text": "time"
         },
         "visible": true
        },
        "yaxis": {
         "anchor": "x",
         "domain": [
          0,
          1
         ],
         "fixedrange": true,
         "title": {
          "text": "value"
         },
         "visible": false
        }
       }
      }
     },
     "metadata": {},
     "output_type": "display_data"
    }
   ],
   "source": [
    "fig = px.line(\n",
    "                data,\n",
    "                x='time',\n",
    "                y='value',\n",
    "                color='variable',\n",
    "                template='plotly_white',\n",
    "                title='Climate Covariates'\n",
    "                )\n",
    "fig.update_layout({\n",
    "                'plot_bgcolor': 'rgba(0, 0, 0, 0)',\n",
    "                'paper_bgcolor': 'rgba(0, 0, 0, 0)',\n",
    "                })\n",
    "\n",
    "fig.update_layout(\n",
    "                # title='Geo Spatial Occcurence Instances for <>',\n",
    "                autosize=True,\n",
    "                hovermode='closest',\n",
    "                # margin={\"r\":0,\"t\":0,\"l\":0,\"b\":0},\n",
    "                template=\"plotly_white\",\n",
    "                showlegend=False)\n",
    "\n",
    "            # hide and lock down axes\n",
    "fig.update_xaxes(visible=True, fixedrange=True)\n",
    "fig.update_yaxes(visible=False, fixedrange=True)\n",
    "\n",
    "            # remove facet/subplot labels\n",
    "fig.update_layout(annotations=[], overwrite=True)\n",
    "\n",
    "fig"
   ]
  },
  {
   "cell_type": "code",
   "execution_count": 143,
   "id": "6ca502ec",
   "metadata": {},
   "outputs": [],
   "source": [
    "import ee\n",
    "\n",
    "import geemap.foliumap as geemap\n",
    "import geemap.colormaps as cm\n"
   ]
  },
  {
   "cell_type": "code",
   "execution_count": 147,
   "id": "aca7c2a9",
   "metadata": {},
   "outputs": [
    {
     "ename": "RefreshError",
     "evalue": "('invalid_grant: Token has been expired or revoked.', {'error': 'invalid_grant', 'error_description': 'Token has been expired or revoked.'})",
     "output_type": "error",
     "traceback": [
      "\u001b[0;31m---------------------------------------------------------------------------\u001b[0m",
      "\u001b[0;31mRefreshError\u001b[0m                              Traceback (most recent call last)",
      "\u001b[1;32m/Users/riteshtekriwal/Work/GitClones/bio-conservation/dashboard/visualization_2.ipynb Cell 37\u001b[0m in \u001b[0;36m<cell line: 1>\u001b[0;34m()\u001b[0m\n\u001b[0;32m----> <a href='vscode-notebook-cell:/Users/riteshtekriwal/Work/GitClones/bio-conservation/dashboard/visualization_2.ipynb#ch0000039?line=0'>1</a>\u001b[0m ee\u001b[39m.\u001b[39;49mInitialize()\n\u001b[1;32m      <a href='vscode-notebook-cell:/Users/riteshtekriwal/Work/GitClones/bio-conservation/dashboard/visualization_2.ipynb#ch0000039?line=1'>2</a>\u001b[0m longitude \u001b[39m=\u001b[39m \u001b[39m-\u001b[39m\u001b[39m40.65\u001b[39m\n\u001b[1;32m      <a href='vscode-notebook-cell:/Users/riteshtekriwal/Work/GitClones/bio-conservation/dashboard/visualization_2.ipynb#ch0000039?line=2'>3</a>\u001b[0m latitude \u001b[39m=\u001b[39m \u001b[39m19.90\u001b[39m\n",
      "File \u001b[0;32m~/Library/Caches/pypoetry/virtualenvs/gbif-T-iMq9I0-py3.9/lib/python3.9/site-packages/ee/__init__.py:132\u001b[0m, in \u001b[0;36mInitialize\u001b[0;34m(credentials, opt_url, cloud_api_key, http_transport, project)\u001b[0m\n\u001b[1;32m    130\u001b[0m \u001b[39mif\u001b[39;00m credentials \u001b[39m==\u001b[39m \u001b[39m'\u001b[39m\u001b[39mpersistent\u001b[39m\u001b[39m'\u001b[39m:\n\u001b[1;32m    131\u001b[0m   credentials \u001b[39m=\u001b[39m data\u001b[39m.\u001b[39mget_persistent_credentials()\n\u001b[0;32m--> 132\u001b[0m data\u001b[39m.\u001b[39;49minitialize(\n\u001b[1;32m    133\u001b[0m     credentials\u001b[39m=\u001b[39;49mcredentials,\n\u001b[1;32m    134\u001b[0m     api_base_url\u001b[39m=\u001b[39;49m(opt_url \u001b[39m+\u001b[39;49m \u001b[39m'\u001b[39;49m\u001b[39m/api\u001b[39;49m\u001b[39m'\u001b[39;49m \u001b[39mif\u001b[39;49;00m opt_url \u001b[39melse\u001b[39;49;00m \u001b[39mNone\u001b[39;49;00m),\n\u001b[1;32m    135\u001b[0m     tile_base_url\u001b[39m=\u001b[39;49mopt_url,\n\u001b[1;32m    136\u001b[0m     cloud_api_base_url\u001b[39m=\u001b[39;49mopt_url,\n\u001b[1;32m    137\u001b[0m     cloud_api_key\u001b[39m=\u001b[39;49mcloud_api_key,\n\u001b[1;32m    138\u001b[0m     project\u001b[39m=\u001b[39;49mproject,\n\u001b[1;32m    139\u001b[0m     http_transport\u001b[39m=\u001b[39;49mhttp_transport)\n\u001b[1;32m    140\u001b[0m \u001b[39m# Initialize the dynamically loaded functions on the objects that want them.\u001b[39;00m\n\u001b[1;32m    141\u001b[0m ApiFunction\u001b[39m.\u001b[39minitialize()\n",
      "File \u001b[0;32m~/Library/Caches/pypoetry/virtualenvs/gbif-T-iMq9I0-py3.9/lib/python3.9/site-packages/ee/data.py:201\u001b[0m, in \u001b[0;36minitialize\u001b[0;34m(credentials, api_base_url, tile_base_url, cloud_api_base_url, cloud_api_key, project, http_transport)\u001b[0m\n\u001b[1;32m    197\u001b[0m   _cloud_api_client_version \u001b[39m=\u001b[39m version\n\u001b[1;32m    199\u001b[0m _http_transport \u001b[39m=\u001b[39m http_transport\n\u001b[0;32m--> 201\u001b[0m _install_cloud_api_resource()\n\u001b[1;32m    203\u001b[0m \u001b[39mif\u001b[39;00m project \u001b[39mis\u001b[39;00m \u001b[39mnot\u001b[39;00m \u001b[39mNone\u001b[39;00m:\n\u001b[1;32m    204\u001b[0m   _cloud_api_user_project \u001b[39m=\u001b[39m project\n",
      "File \u001b[0;32m~/Library/Caches/pypoetry/virtualenvs/gbif-T-iMq9I0-py3.9/lib/python3.9/site-packages/ee/data.py:260\u001b[0m, in \u001b[0;36m_install_cloud_api_resource\u001b[0;34m()\u001b[0m\n\u001b[1;32m    257\u001b[0m \u001b[39mglobal\u001b[39;00m _http_transport\n\u001b[1;32m    259\u001b[0m timeout \u001b[39m=\u001b[39m (_deadline_ms \u001b[39m/\u001b[39m \u001b[39m1000.0\u001b[39m) \u001b[39mor\u001b[39;00m \u001b[39mNone\u001b[39;00m\n\u001b[0;32m--> 260\u001b[0m _cloud_api_resource \u001b[39m=\u001b[39m _cloud_api_utils\u001b[39m.\u001b[39;49mbuild_cloud_resource(\n\u001b[1;32m    261\u001b[0m     _cloud_api_base_url,\n\u001b[1;32m    262\u001b[0m     credentials\u001b[39m=\u001b[39;49m_credentials,\n\u001b[1;32m    263\u001b[0m     api_key\u001b[39m=\u001b[39;49m_cloud_api_key,\n\u001b[1;32m    264\u001b[0m     timeout\u001b[39m=\u001b[39;49mtimeout,\n\u001b[1;32m    265\u001b[0m     headers_supplier\u001b[39m=\u001b[39;49m_make_request_headers,\n\u001b[1;32m    266\u001b[0m     response_inspector\u001b[39m=\u001b[39;49m_handle_profiling_response,\n\u001b[1;32m    267\u001b[0m     http_transport\u001b[39m=\u001b[39;49m_http_transport)\n\u001b[1;32m    269\u001b[0m _cloud_api_resource_raw \u001b[39m=\u001b[39m _cloud_api_utils\u001b[39m.\u001b[39mbuild_cloud_resource(\n\u001b[1;32m    270\u001b[0m     _cloud_api_base_url,\n\u001b[1;32m    271\u001b[0m     credentials\u001b[39m=\u001b[39m_credentials,\n\u001b[0;32m   (...)\u001b[0m\n\u001b[1;32m    276\u001b[0m     http_transport\u001b[39m=\u001b[39m_http_transport,\n\u001b[1;32m    277\u001b[0m     raw\u001b[39m=\u001b[39m\u001b[39mTrue\u001b[39;00m)\n",
      "File \u001b[0;32m~/Library/Caches/pypoetry/virtualenvs/gbif-T-iMq9I0-py3.9/lib/python3.9/site-packages/ee/_cloud_api_utils.py:164\u001b[0m, in \u001b[0;36mbuild_cloud_resource\u001b[0;34m(api_base_url, api_key, credentials, timeout, headers_supplier, response_inspector, http_transport, raw)\u001b[0m\n\u001b[1;32m    162\u001b[0m   \u001b[39mpass\u001b[39;00m  \u001b[39m# Handle fallback case outside except block, for cleaner stack traces.\u001b[39;00m\n\u001b[1;32m    163\u001b[0m \u001b[39mif\u001b[39;00m resource \u001b[39mis\u001b[39;00m \u001b[39mNone\u001b[39;00m:\n\u001b[0;32m--> 164\u001b[0m   resource \u001b[39m=\u001b[39m build()\n\u001b[1;32m    165\u001b[0m resource\u001b[39m.\u001b[39m_baseUrl \u001b[39m=\u001b[39m api_base_url\n\u001b[1;32m    166\u001b[0m \u001b[39mreturn\u001b[39;00m resource\n",
      "File \u001b[0;32m~/Library/Caches/pypoetry/virtualenvs/gbif-T-iMq9I0-py3.9/lib/python3.9/site-packages/ee/_cloud_api_utils.py:144\u001b[0m, in \u001b[0;36mbuild_cloud_resource.<locals>.build\u001b[0;34m(**kwargs)\u001b[0m\n\u001b[1;32m    143\u001b[0m \u001b[39mdef\u001b[39;00m \u001b[39mbuild\u001b[39m(\u001b[39m*\u001b[39m\u001b[39m*\u001b[39mkwargs):\n\u001b[0;32m--> 144\u001b[0m   \u001b[39mreturn\u001b[39;00m discovery\u001b[39m.\u001b[39;49mbuild(\n\u001b[1;32m    145\u001b[0m       \u001b[39m'\u001b[39;49m\u001b[39mearthengine\u001b[39;49m\u001b[39m'\u001b[39;49m,\n\u001b[1;32m    146\u001b[0m       VERSION,\n\u001b[1;32m    147\u001b[0m       discoveryServiceUrl\u001b[39m=\u001b[39;49mdiscovery_service_url,\n\u001b[1;32m    148\u001b[0m       developerKey\u001b[39m=\u001b[39;49mapi_key,\n\u001b[1;32m    149\u001b[0m       http\u001b[39m=\u001b[39;49mhttp_transport,\n\u001b[1;32m    150\u001b[0m       requestBuilder\u001b[39m=\u001b[39;49mrequest_builder,\n\u001b[1;32m    151\u001b[0m       model\u001b[39m=\u001b[39;49malt_model,\n\u001b[1;32m    152\u001b[0m       cache_discovery\u001b[39m=\u001b[39;49m\u001b[39mFalse\u001b[39;49;00m,\n\u001b[1;32m    153\u001b[0m       \u001b[39m*\u001b[39;49m\u001b[39m*\u001b[39;49mkwargs)\n",
      "File \u001b[0;32m~/Library/Caches/pypoetry/virtualenvs/gbif-T-iMq9I0-py3.9/lib/python3.9/site-packages/googleapiclient/_helpers.py:134\u001b[0m, in \u001b[0;36mpositional.<locals>.positional_decorator.<locals>.positional_wrapper\u001b[0;34m(*args, **kwargs)\u001b[0m\n\u001b[1;32m    132\u001b[0m     \u001b[39melif\u001b[39;00m positional_parameters_enforcement \u001b[39m==\u001b[39m POSITIONAL_WARNING:\n\u001b[1;32m    133\u001b[0m         logger\u001b[39m.\u001b[39mwarning(message)\n\u001b[0;32m--> 134\u001b[0m \u001b[39mreturn\u001b[39;00m wrapped(\u001b[39m*\u001b[39;49margs, \u001b[39m*\u001b[39;49m\u001b[39m*\u001b[39;49mkwargs)\n",
      "File \u001b[0;32m~/Library/Caches/pypoetry/virtualenvs/gbif-T-iMq9I0-py3.9/lib/python3.9/site-packages/googleapiclient/discovery.py:270\u001b[0m, in \u001b[0;36mbuild\u001b[0;34m(serviceName, version, http, discoveryServiceUrl, developerKey, model, requestBuilder, credentials, cache_discovery, cache, client_options, adc_cert_path, adc_key_path, num_retries)\u001b[0m\n\u001b[1;32m    267\u001b[0m requested_url \u001b[39m=\u001b[39m uritemplate\u001b[39m.\u001b[39mexpand(discovery_url, params)\n\u001b[1;32m    269\u001b[0m \u001b[39mtry\u001b[39;00m:\n\u001b[0;32m--> 270\u001b[0m     content \u001b[39m=\u001b[39m _retrieve_discovery_doc(\n\u001b[1;32m    271\u001b[0m         requested_url,\n\u001b[1;32m    272\u001b[0m         discovery_http,\n\u001b[1;32m    273\u001b[0m         cache_discovery,\n\u001b[1;32m    274\u001b[0m         cache,\n\u001b[1;32m    275\u001b[0m         developerKey,\n\u001b[1;32m    276\u001b[0m         num_retries\u001b[39m=\u001b[39;49mnum_retries,\n\u001b[1;32m    277\u001b[0m     )\n\u001b[1;32m    278\u001b[0m     service \u001b[39m=\u001b[39m build_from_document(\n\u001b[1;32m    279\u001b[0m         content,\n\u001b[1;32m    280\u001b[0m         base\u001b[39m=\u001b[39mdiscovery_url,\n\u001b[0;32m   (...)\u001b[0m\n\u001b[1;32m    288\u001b[0m         adc_key_path\u001b[39m=\u001b[39madc_key_path,\n\u001b[1;32m    289\u001b[0m     )\n\u001b[1;32m    290\u001b[0m     \u001b[39mbreak\u001b[39;00m  \u001b[39m# exit if a service was created\u001b[39;00m\n",
      "File \u001b[0;32m~/Library/Caches/pypoetry/virtualenvs/gbif-T-iMq9I0-py3.9/lib/python3.9/site-packages/googleapiclient/discovery.py:376\u001b[0m, in \u001b[0;36m_retrieve_discovery_doc\u001b[0;34m(url, http, cache_discovery, cache, developerKey, num_retries)\u001b[0m\n\u001b[1;32m    373\u001b[0m \u001b[39m# Execute this request with retries build into HttpRequest\u001b[39;00m\n\u001b[1;32m    374\u001b[0m \u001b[39m# Note that it will already raise an error if we don't get a 2xx response\u001b[39;00m\n\u001b[1;32m    375\u001b[0m req \u001b[39m=\u001b[39m HttpRequest(http, HttpRequest\u001b[39m.\u001b[39mnull_postproc, actual_url)\n\u001b[0;32m--> 376\u001b[0m resp, content \u001b[39m=\u001b[39m req\u001b[39m.\u001b[39;49mexecute(num_retries\u001b[39m=\u001b[39;49mnum_retries)\n\u001b[1;32m    378\u001b[0m \u001b[39mtry\u001b[39;00m:\n\u001b[1;32m    379\u001b[0m     content \u001b[39m=\u001b[39m content\u001b[39m.\u001b[39mdecode(\u001b[39m\"\u001b[39m\u001b[39mutf-8\u001b[39m\u001b[39m\"\u001b[39m)\n",
      "File \u001b[0;32m~/Library/Caches/pypoetry/virtualenvs/gbif-T-iMq9I0-py3.9/lib/python3.9/site-packages/googleapiclient/_helpers.py:134\u001b[0m, in \u001b[0;36mpositional.<locals>.positional_decorator.<locals>.positional_wrapper\u001b[0;34m(*args, **kwargs)\u001b[0m\n\u001b[1;32m    132\u001b[0m     \u001b[39melif\u001b[39;00m positional_parameters_enforcement \u001b[39m==\u001b[39m POSITIONAL_WARNING:\n\u001b[1;32m    133\u001b[0m         logger\u001b[39m.\u001b[39mwarning(message)\n\u001b[0;32m--> 134\u001b[0m \u001b[39mreturn\u001b[39;00m wrapped(\u001b[39m*\u001b[39;49margs, \u001b[39m*\u001b[39;49m\u001b[39m*\u001b[39;49mkwargs)\n",
      "File \u001b[0;32m~/Library/Caches/pypoetry/virtualenvs/gbif-T-iMq9I0-py3.9/lib/python3.9/site-packages/googleapiclient/http.py:900\u001b[0m, in \u001b[0;36mHttpRequest.execute\u001b[0;34m(self, http, num_retries)\u001b[0m\n\u001b[1;32m    897\u001b[0m     \u001b[39mself\u001b[39m\u001b[39m.\u001b[39mheaders[\u001b[39m\"\u001b[39m\u001b[39mcontent-length\u001b[39m\u001b[39m\"\u001b[39m] \u001b[39m=\u001b[39m \u001b[39mstr\u001b[39m(\u001b[39mlen\u001b[39m(\u001b[39mself\u001b[39m\u001b[39m.\u001b[39mbody))\n\u001b[1;32m    899\u001b[0m \u001b[39m# Handle retries for server-side errors.\u001b[39;00m\n\u001b[0;32m--> 900\u001b[0m resp, content \u001b[39m=\u001b[39m _retry_request(\n\u001b[1;32m    901\u001b[0m     http,\n\u001b[1;32m    902\u001b[0m     num_retries,\n\u001b[1;32m    903\u001b[0m     \u001b[39m\"\u001b[39;49m\u001b[39mrequest\u001b[39;49m\u001b[39m\"\u001b[39;49m,\n\u001b[1;32m    904\u001b[0m     \u001b[39mself\u001b[39;49m\u001b[39m.\u001b[39;49m_sleep,\n\u001b[1;32m    905\u001b[0m     \u001b[39mself\u001b[39;49m\u001b[39m.\u001b[39;49m_rand,\n\u001b[1;32m    906\u001b[0m     \u001b[39mstr\u001b[39;49m(\u001b[39mself\u001b[39;49m\u001b[39m.\u001b[39;49muri),\n\u001b[1;32m    907\u001b[0m     method\u001b[39m=\u001b[39;49m\u001b[39mstr\u001b[39;49m(\u001b[39mself\u001b[39;49m\u001b[39m.\u001b[39;49mmethod),\n\u001b[1;32m    908\u001b[0m     body\u001b[39m=\u001b[39;49m\u001b[39mself\u001b[39;49m\u001b[39m.\u001b[39;49mbody,\n\u001b[1;32m    909\u001b[0m     headers\u001b[39m=\u001b[39;49m\u001b[39mself\u001b[39;49m\u001b[39m.\u001b[39;49mheaders,\n\u001b[1;32m    910\u001b[0m )\n\u001b[1;32m    912\u001b[0m \u001b[39mfor\u001b[39;00m callback \u001b[39min\u001b[39;00m \u001b[39mself\u001b[39m\u001b[39m.\u001b[39mresponse_callbacks:\n\u001b[1;32m    913\u001b[0m     callback(resp)\n",
      "File \u001b[0;32m~/Library/Caches/pypoetry/virtualenvs/gbif-T-iMq9I0-py3.9/lib/python3.9/site-packages/googleapiclient/http.py:177\u001b[0m, in \u001b[0;36m_retry_request\u001b[0;34m(http, num_retries, req_type, sleep, rand, uri, method, *args, **kwargs)\u001b[0m\n\u001b[1;32m    175\u001b[0m \u001b[39mtry\u001b[39;00m:\n\u001b[1;32m    176\u001b[0m     exception \u001b[39m=\u001b[39m \u001b[39mNone\u001b[39;00m\n\u001b[0;32m--> 177\u001b[0m     resp, content \u001b[39m=\u001b[39m http\u001b[39m.\u001b[39;49mrequest(uri, method, \u001b[39m*\u001b[39;49margs, \u001b[39m*\u001b[39;49m\u001b[39m*\u001b[39;49mkwargs)\n\u001b[1;32m    178\u001b[0m \u001b[39m# Retry on SSL errors and socket timeout errors.\u001b[39;00m\n\u001b[1;32m    179\u001b[0m \u001b[39mexcept\u001b[39;00m _ssl_SSLError \u001b[39mas\u001b[39;00m ssl_error:\n",
      "File \u001b[0;32m~/Library/Caches/pypoetry/virtualenvs/gbif-T-iMq9I0-py3.9/lib/python3.9/site-packages/google_auth_httplib2.py:209\u001b[0m, in \u001b[0;36mAuthorizedHttp.request\u001b[0;34m(self, uri, method, body, headers, redirections, connection_type, **kwargs)\u001b[0m\n\u001b[1;32m    205\u001b[0m \u001b[39m# Make a copy of the headers. They will be modified by the credentials\u001b[39;00m\n\u001b[1;32m    206\u001b[0m \u001b[39m# and we want to pass the original headers if we recurse.\u001b[39;00m\n\u001b[1;32m    207\u001b[0m request_headers \u001b[39m=\u001b[39m headers\u001b[39m.\u001b[39mcopy() \u001b[39mif\u001b[39;00m headers \u001b[39mis\u001b[39;00m \u001b[39mnot\u001b[39;00m \u001b[39mNone\u001b[39;00m \u001b[39melse\u001b[39;00m {}\n\u001b[0;32m--> 209\u001b[0m \u001b[39mself\u001b[39;49m\u001b[39m.\u001b[39;49mcredentials\u001b[39m.\u001b[39;49mbefore_request(\u001b[39mself\u001b[39;49m\u001b[39m.\u001b[39;49m_request, method, uri, request_headers)\n\u001b[1;32m    211\u001b[0m \u001b[39m# Check if the body is a file-like stream, and if so, save the body\u001b[39;00m\n\u001b[1;32m    212\u001b[0m \u001b[39m# stream position so that it can be restored in case of refresh.\u001b[39;00m\n\u001b[1;32m    213\u001b[0m body_stream_position \u001b[39m=\u001b[39m \u001b[39mNone\u001b[39;00m\n",
      "File \u001b[0;32m~/Library/Caches/pypoetry/virtualenvs/gbif-T-iMq9I0-py3.9/lib/python3.9/site-packages/google/auth/credentials.py:133\u001b[0m, in \u001b[0;36mCredentials.before_request\u001b[0;34m(self, request, method, url, headers)\u001b[0m\n\u001b[1;32m    129\u001b[0m \u001b[39m# pylint: disable=unused-argument\u001b[39;00m\n\u001b[1;32m    130\u001b[0m \u001b[39m# (Subclasses may use these arguments to ascertain information about\u001b[39;00m\n\u001b[1;32m    131\u001b[0m \u001b[39m# the http request.)\u001b[39;00m\n\u001b[1;32m    132\u001b[0m \u001b[39mif\u001b[39;00m \u001b[39mnot\u001b[39;00m \u001b[39mself\u001b[39m\u001b[39m.\u001b[39mvalid:\n\u001b[0;32m--> 133\u001b[0m     \u001b[39mself\u001b[39;49m\u001b[39m.\u001b[39;49mrefresh(request)\n\u001b[1;32m    134\u001b[0m \u001b[39mself\u001b[39m\u001b[39m.\u001b[39mapply(headers)\n",
      "File \u001b[0;32m~/Library/Caches/pypoetry/virtualenvs/gbif-T-iMq9I0-py3.9/lib/python3.9/site-packages/google/oauth2/credentials.py:302\u001b[0m, in \u001b[0;36mCredentials.refresh\u001b[0;34m(self, request)\u001b[0m\n\u001b[1;32m    284\u001b[0m \u001b[39mif\u001b[39;00m (\n\u001b[1;32m    285\u001b[0m     \u001b[39mself\u001b[39m\u001b[39m.\u001b[39m_refresh_token \u001b[39mis\u001b[39;00m \u001b[39mNone\u001b[39;00m\n\u001b[1;32m    286\u001b[0m     \u001b[39mor\u001b[39;00m \u001b[39mself\u001b[39m\u001b[39m.\u001b[39m_token_uri \u001b[39mis\u001b[39;00m \u001b[39mNone\u001b[39;00m\n\u001b[1;32m    287\u001b[0m     \u001b[39mor\u001b[39;00m \u001b[39mself\u001b[39m\u001b[39m.\u001b[39m_client_id \u001b[39mis\u001b[39;00m \u001b[39mNone\u001b[39;00m\n\u001b[1;32m    288\u001b[0m     \u001b[39mor\u001b[39;00m \u001b[39mself\u001b[39m\u001b[39m.\u001b[39m_client_secret \u001b[39mis\u001b[39;00m \u001b[39mNone\u001b[39;00m\n\u001b[1;32m    289\u001b[0m ):\n\u001b[1;32m    290\u001b[0m     \u001b[39mraise\u001b[39;00m exceptions\u001b[39m.\u001b[39mRefreshError(\n\u001b[1;32m    291\u001b[0m         \u001b[39m\"\u001b[39m\u001b[39mThe credentials do not contain the necessary fields need to \u001b[39m\u001b[39m\"\u001b[39m\n\u001b[1;32m    292\u001b[0m         \u001b[39m\"\u001b[39m\u001b[39mrefresh the access token. You must specify refresh_token, \u001b[39m\u001b[39m\"\u001b[39m\n\u001b[1;32m    293\u001b[0m         \u001b[39m\"\u001b[39m\u001b[39mtoken_uri, client_id, and client_secret.\u001b[39m\u001b[39m\"\u001b[39m\n\u001b[1;32m    294\u001b[0m     )\n\u001b[1;32m    296\u001b[0m (\n\u001b[1;32m    297\u001b[0m     access_token,\n\u001b[1;32m    298\u001b[0m     refresh_token,\n\u001b[1;32m    299\u001b[0m     expiry,\n\u001b[1;32m    300\u001b[0m     grant_response,\n\u001b[1;32m    301\u001b[0m     rapt_token,\n\u001b[0;32m--> 302\u001b[0m ) \u001b[39m=\u001b[39m reauth\u001b[39m.\u001b[39;49mrefresh_grant(\n\u001b[1;32m    303\u001b[0m     request,\n\u001b[1;32m    304\u001b[0m     \u001b[39mself\u001b[39;49m\u001b[39m.\u001b[39;49m_token_uri,\n\u001b[1;32m    305\u001b[0m     \u001b[39mself\u001b[39;49m\u001b[39m.\u001b[39;49m_refresh_token,\n\u001b[1;32m    306\u001b[0m     \u001b[39mself\u001b[39;49m\u001b[39m.\u001b[39;49m_client_id,\n\u001b[1;32m    307\u001b[0m     \u001b[39mself\u001b[39;49m\u001b[39m.\u001b[39;49m_client_secret,\n\u001b[1;32m    308\u001b[0m     scopes\u001b[39m=\u001b[39;49mscopes,\n\u001b[1;32m    309\u001b[0m     rapt_token\u001b[39m=\u001b[39;49m\u001b[39mself\u001b[39;49m\u001b[39m.\u001b[39;49m_rapt_token,\n\u001b[1;32m    310\u001b[0m     enable_reauth_refresh\u001b[39m=\u001b[39;49m\u001b[39mself\u001b[39;49m\u001b[39m.\u001b[39;49m_enable_reauth_refresh,\n\u001b[1;32m    311\u001b[0m )\n\u001b[1;32m    313\u001b[0m \u001b[39mself\u001b[39m\u001b[39m.\u001b[39mtoken \u001b[39m=\u001b[39m access_token\n\u001b[1;32m    314\u001b[0m \u001b[39mself\u001b[39m\u001b[39m.\u001b[39mexpiry \u001b[39m=\u001b[39m expiry\n",
      "File \u001b[0;32m~/Library/Caches/pypoetry/virtualenvs/gbif-T-iMq9I0-py3.9/lib/python3.9/site-packages/google/oauth2/reauth.py:347\u001b[0m, in \u001b[0;36mrefresh_grant\u001b[0;34m(request, token_uri, refresh_token, client_id, client_secret, scopes, rapt_token, enable_reauth_refresh)\u001b[0m\n\u001b[1;32m    342\u001b[0m     (response_status_ok, response_data) \u001b[39m=\u001b[39m _client\u001b[39m.\u001b[39m_token_endpoint_request_no_throw(\n\u001b[1;32m    343\u001b[0m         request, token_uri, body\n\u001b[1;32m    344\u001b[0m     )\n\u001b[1;32m    346\u001b[0m \u001b[39mif\u001b[39;00m \u001b[39mnot\u001b[39;00m response_status_ok:\n\u001b[0;32m--> 347\u001b[0m     _client\u001b[39m.\u001b[39;49m_handle_error_response(response_data)\n\u001b[1;32m    348\u001b[0m \u001b[39mreturn\u001b[39;00m _client\u001b[39m.\u001b[39m_handle_refresh_grant_response(response_data, refresh_token) \u001b[39m+\u001b[39m (\n\u001b[1;32m    349\u001b[0m     rapt_token,\n\u001b[1;32m    350\u001b[0m )\n",
      "File \u001b[0;32m~/Library/Caches/pypoetry/virtualenvs/gbif-T-iMq9I0-py3.9/lib/python3.9/site-packages/google/oauth2/_client.py:62\u001b[0m, in \u001b[0;36m_handle_error_response\u001b[0;34m(response_data)\u001b[0m\n\u001b[1;32m     59\u001b[0m \u001b[39mexcept\u001b[39;00m (\u001b[39mKeyError\u001b[39;00m, \u001b[39mValueError\u001b[39;00m):\n\u001b[1;32m     60\u001b[0m     error_details \u001b[39m=\u001b[39m json\u001b[39m.\u001b[39mdumps(response_data)\n\u001b[0;32m---> 62\u001b[0m \u001b[39mraise\u001b[39;00m exceptions\u001b[39m.\u001b[39mRefreshError(error_details, response_data)\n",
      "\u001b[0;31mRefreshError\u001b[0m: ('invalid_grant: Token has been expired or revoked.', {'error': 'invalid_grant', 'error_description': 'Token has been expired or revoked.'})"
     ]
    }
   ],
   "source": [
    "\n",
    "\n",
    "ee.Initialize()\n",
    "longitude = -40.65\n",
    "latitude = 19.90\n",
    "zoom = 11\n",
    "Map = geemap.Map()\n",
    "Map.add_basemap(\"HYBRID\")\n",
    "region = ee.Geometry.BBox(-179, -89, 179, 89)\n",
    "\n",
    "start_date = \"2022-01-01\"\n",
    "end_date = \"2022-07-01\"\n",
    "\n",
    "dw = geemap.dynamic_world(region, start_date, end_date, return_type=\"hillshade\")\n",
    "\n",
    "layers = {\n",
    "    \"Dynamic World\": geemap.ee_tile_layer(dw, {}, \"Dynamic World Land Cover\"),\n",
    "}\n",
    "Map.addLayer(dw, {}, 'Dynamic World Land Cover cover')\n",
    "Map.add_legend(\n",
    "    title=\"Dynamic World Land Cover\",\n",
    "    builtin_legend=\"Dynamic_World\",\n",
    ")\n",
    "df.to_csv('test.csv')\n",
    "Map.add_points_from_xy(df, popup=[\"species\"], x='longitude', y='latitude', layer_name=\"Occurence Data\")\n"
   ]
  }
 ],
 "metadata": {
  "kernelspec": {
   "display_name": "Python 3.9.13 ('gbif-T-iMq9I0-py3.9')",
   "language": "python",
   "name": "python3"
  },
  "language_info": {
   "codemirror_mode": {
    "name": "ipython",
    "version": 3
   },
   "file_extension": ".py",
   "mimetype": "text/x-python",
   "name": "python",
   "nbconvert_exporter": "python",
   "pygments_lexer": "ipython3",
   "version": "3.9.13"
  },
  "vscode": {
   "interpreter": {
    "hash": "0f265fd74fc66c46537054c4d8decf20641db0b9cbaf43f536403739cd1df4a4"
   }
  }
 },
 "nbformat": 4,
 "nbformat_minor": 5
}
