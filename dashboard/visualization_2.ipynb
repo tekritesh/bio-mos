{
 "cells": [
  {
   "cell_type": "code",
   "execution_count": null,
   "id": "4bbd259b",
   "metadata": {
    "ExecuteTime": {
     "end_time": "2022-07-30T20:29:20.458448Z",
     "start_time": "2022-07-30T20:29:20.451538Z"
    }
   },
   "outputs": [],
   "source": [
    "import os \n",
    "import pandas as pd\n",
    "import numpy as np\n",
    "import datetime as dt\n",
    "# import ee\n",
    "# import geemap as geemap\n",
    "from IPython.display import HTML\n",
    "\n",
    "import panel as pn\n",
    "# import param\n",
    "import plotly.express as px\n",
    "import plotly.graph_objects as go\n",
    "# import folium\n",
    "# from folium import plugins\n",
    "\n",
    "\n",
    "from meteostat import Point, Daily\n",
    "\n",
    "pn.extension('plotly')"
   ]
  },
  {
   "cell_type": "code",
   "execution_count": null,
   "id": "ed832e6c",
   "metadata": {
    "ExecuteTime": {
     "end_time": "2022-07-30T20:29:05.360253Z",
     "start_time": "2022-07-30T20:29:05.017843Z"
    }
   },
   "outputs": [],
   "source": [
    "%load_ext google.cloud.bigquery\n",
    "\n",
    "os.environ['GOOGLE_APPLICATION_CREDENTIALS'] = '../gbif-challenge-953ed382a2dd.json' ##change this"
   ]
  },
  {
   "cell_type": "code",
   "execution_count": null,
   "id": "706a1842",
   "metadata": {
    "ExecuteTime": {
     "end_time": "2022-07-30T20:29:05.389383Z",
     "start_time": "2022-07-30T20:29:05.363470Z"
    }
   },
   "outputs": [],
   "source": [
    "from google.cloud import bigquery\n",
    "\n",
    "client = bigquery.Client()"
   ]
  },
  {
   "cell_type": "code",
   "execution_count": null,
   "id": "fb0dff55",
   "metadata": {
    "ExecuteTime": {
     "end_time": "2022-07-30T20:29:05.932581Z",
     "start_time": "2022-07-30T20:29:05.925148Z"
    }
   },
   "outputs": [],
   "source": [
    "# %%bigquery df_bq\n",
    "# SELECT\n",
    "#     *\n",
    "# FROM `gbif-challenge.airflow_uploads.gbif_combined`\n",
    "# WHERE DATE(eventDate) = \"2022-04-04\"\n",
    "# ee.Initialize()"
   ]
  },
  {
   "cell_type": "code",
   "execution_count": null,
   "id": "c01ea068",
   "metadata": {},
   "outputs": [],
   "source": [
    "def get_species_names():\n",
    "    sql = f\"\"\"\n",
    "     SELECT COUNT(*) as occ_count, genericName,country FROM `gbif-challenge.airflow_uploads.gbif_combined` GROUP BY genericName,country ORDER BY country,genericName\n",
    "    \"\"\"\n",
    "    bq = client.query(sql).to_dataframe() \n",
    "    return bq.dropna()\n",
    "    "
   ]
  },
  {
   "cell_type": "code",
   "execution_count": null,
   "id": "470ec9cf",
   "metadata": {},
   "outputs": [],
   "source": [
    "# Drop Down Species Filter \n",
    "\n",
    "if os.path.exists( os.getcwd() + \"/species_names.csv\"):\n",
    "    df_species_names = pd.read_csv( os.getcwd() + \"/species_names.csv\")\n",
    "else:\n",
    "    df_species_names = get_species_names()\n",
    "    df_species_names.to_csv(os.getcwd() + \"/species_names.csv\", index=False)\n",
    "    \n"
   ]
  },
  {
   "cell_type": "code",
   "execution_count": 84,
   "id": "0d01d8f0",
   "metadata": {
    "ExecuteTime": {
     "end_time": "2022-07-30T20:29:07.146949Z",
     "start_time": "2022-07-30T20:29:07.104060Z"
    }
   },
   "outputs": [
    {
     "data": {
      "application/vnd.plotly.v1+json": {
       "config": {
        "plotlyServerURL": "https://plot.ly"
       },
       "data": [
        {
         "branchvalues": "total",
         "domain": {
          "x": [
           0,
           1
          ],
          "y": [
           0,
           1
          ]
         },
         "hovertemplate": "labels=%{label}<br>value=%{value}<br>parent=%{parent}<br>id=%{id}<extra></extra>",
         "ids": [
          "prcp",
          "tavg",
          "tmax",
          "tmin",
          "wdir",
          "wspd"
         ],
         "labels": [
          "prcp",
          "tavg",
          "tmax",
          "tmin",
          "wdir",
          "wspd"
         ],
         "marker": {
          "colors": [
           "#5cb25d",
           "#5cb25d",
           "#5cb25d",
           "#5cb25d",
           "#5cb25d",
           "#5cb25d"
          ]
         },
         "name": "",
         "parents": [
          "",
          "",
          "",
          "",
          "",
          ""
         ],
         "textfont": {
          "color": [
           "black",
           "black",
           "black",
           "black",
           "black",
           "black"
          ],
          "size": 30
         },
         "textinfo": "label+value",
         "type": "treemap",
         "values": [
          13073.3,
          85159.1,
          100031.1,
          73692.9,
          494754,
          27973.5
         ]
        }
       ],
       "layout": {
        "legend": {
         "tracegroupgap": 0
        },
        "margin": {
         "t": 60
        },
        "template": {
         "data": {
          "bar": [
           {
            "error_x": {
             "color": "#2a3f5f"
            },
            "error_y": {
             "color": "#2a3f5f"
            },
            "marker": {
             "line": {
              "color": "#E5ECF6",
              "width": 0.5
             },
             "pattern": {
              "fillmode": "overlay",
              "size": 10,
              "solidity": 0.2
             }
            },
            "type": "bar"
           }
          ],
          "barpolar": [
           {
            "marker": {
             "line": {
              "color": "#E5ECF6",
              "width": 0.5
             },
             "pattern": {
              "fillmode": "overlay",
              "size": 10,
              "solidity": 0.2
             }
            },
            "type": "barpolar"
           }
          ],
          "carpet": [
           {
            "aaxis": {
             "endlinecolor": "#2a3f5f",
             "gridcolor": "white",
             "linecolor": "white",
             "minorgridcolor": "white",
             "startlinecolor": "#2a3f5f"
            },
            "baxis": {
             "endlinecolor": "#2a3f5f",
             "gridcolor": "white",
             "linecolor": "white",
             "minorgridcolor": "white",
             "startlinecolor": "#2a3f5f"
            },
            "type": "carpet"
           }
          ],
          "choropleth": [
           {
            "colorbar": {
             "outlinewidth": 0,
             "ticks": ""
            },
            "type": "choropleth"
           }
          ],
          "contour": [
           {
            "colorbar": {
             "outlinewidth": 0,
             "ticks": ""
            },
            "colorscale": [
             [
              0,
              "#0d0887"
             ],
             [
              0.1111111111111111,
              "#46039f"
             ],
             [
              0.2222222222222222,
              "#7201a8"
             ],
             [
              0.3333333333333333,
              "#9c179e"
             ],
             [
              0.4444444444444444,
              "#bd3786"
             ],
             [
              0.5555555555555556,
              "#d8576b"
             ],
             [
              0.6666666666666666,
              "#ed7953"
             ],
             [
              0.7777777777777778,
              "#fb9f3a"
             ],
             [
              0.8888888888888888,
              "#fdca26"
             ],
             [
              1,
              "#f0f921"
             ]
            ],
            "type": "contour"
           }
          ],
          "contourcarpet": [
           {
            "colorbar": {
             "outlinewidth": 0,
             "ticks": ""
            },
            "type": "contourcarpet"
           }
          ],
          "heatmap": [
           {
            "colorbar": {
             "outlinewidth": 0,
             "ticks": ""
            },
            "colorscale": [
             [
              0,
              "#0d0887"
             ],
             [
              0.1111111111111111,
              "#46039f"
             ],
             [
              0.2222222222222222,
              "#7201a8"
             ],
             [
              0.3333333333333333,
              "#9c179e"
             ],
             [
              0.4444444444444444,
              "#bd3786"
             ],
             [
              0.5555555555555556,
              "#d8576b"
             ],
             [
              0.6666666666666666,
              "#ed7953"
             ],
             [
              0.7777777777777778,
              "#fb9f3a"
             ],
             [
              0.8888888888888888,
              "#fdca26"
             ],
             [
              1,
              "#f0f921"
             ]
            ],
            "type": "heatmap"
           }
          ],
          "heatmapgl": [
           {
            "colorbar": {
             "outlinewidth": 0,
             "ticks": ""
            },
            "colorscale": [
             [
              0,
              "#0d0887"
             ],
             [
              0.1111111111111111,
              "#46039f"
             ],
             [
              0.2222222222222222,
              "#7201a8"
             ],
             [
              0.3333333333333333,
              "#9c179e"
             ],
             [
              0.4444444444444444,
              "#bd3786"
             ],
             [
              0.5555555555555556,
              "#d8576b"
             ],
             [
              0.6666666666666666,
              "#ed7953"
             ],
             [
              0.7777777777777778,
              "#fb9f3a"
             ],
             [
              0.8888888888888888,
              "#fdca26"
             ],
             [
              1,
              "#f0f921"
             ]
            ],
            "type": "heatmapgl"
           }
          ],
          "histogram": [
           {
            "marker": {
             "pattern": {
              "fillmode": "overlay",
              "size": 10,
              "solidity": 0.2
             }
            },
            "type": "histogram"
           }
          ],
          "histogram2d": [
           {
            "colorbar": {
             "outlinewidth": 0,
             "ticks": ""
            },
            "colorscale": [
             [
              0,
              "#0d0887"
             ],
             [
              0.1111111111111111,
              "#46039f"
             ],
             [
              0.2222222222222222,
              "#7201a8"
             ],
             [
              0.3333333333333333,
              "#9c179e"
             ],
             [
              0.4444444444444444,
              "#bd3786"
             ],
             [
              0.5555555555555556,
              "#d8576b"
             ],
             [
              0.6666666666666666,
              "#ed7953"
             ],
             [
              0.7777777777777778,
              "#fb9f3a"
             ],
             [
              0.8888888888888888,
              "#fdca26"
             ],
             [
              1,
              "#f0f921"
             ]
            ],
            "type": "histogram2d"
           }
          ],
          "histogram2dcontour": [
           {
            "colorbar": {
             "outlinewidth": 0,
             "ticks": ""
            },
            "colorscale": [
             [
              0,
              "#0d0887"
             ],
             [
              0.1111111111111111,
              "#46039f"
             ],
             [
              0.2222222222222222,
              "#7201a8"
             ],
             [
              0.3333333333333333,
              "#9c179e"
             ],
             [
              0.4444444444444444,
              "#bd3786"
             ],
             [
              0.5555555555555556,
              "#d8576b"
             ],
             [
              0.6666666666666666,
              "#ed7953"
             ],
             [
              0.7777777777777778,
              "#fb9f3a"
             ],
             [
              0.8888888888888888,
              "#fdca26"
             ],
             [
              1,
              "#f0f921"
             ]
            ],
            "type": "histogram2dcontour"
           }
          ],
          "mesh3d": [
           {
            "colorbar": {
             "outlinewidth": 0,
             "ticks": ""
            },
            "type": "mesh3d"
           }
          ],
          "parcoords": [
           {
            "line": {
             "colorbar": {
              "outlinewidth": 0,
              "ticks": ""
             }
            },
            "type": "parcoords"
           }
          ],
          "pie": [
           {
            "automargin": true,
            "type": "pie"
           }
          ],
          "scatter": [
           {
            "fillpattern": {
             "fillmode": "overlay",
             "size": 10,
             "solidity": 0.2
            },
            "type": "scatter"
           }
          ],
          "scatter3d": [
           {
            "line": {
             "colorbar": {
              "outlinewidth": 0,
              "ticks": ""
             }
            },
            "marker": {
             "colorbar": {
              "outlinewidth": 0,
              "ticks": ""
             }
            },
            "type": "scatter3d"
           }
          ],
          "scattercarpet": [
           {
            "marker": {
             "colorbar": {
              "outlinewidth": 0,
              "ticks": ""
             }
            },
            "type": "scattercarpet"
           }
          ],
          "scattergeo": [
           {
            "marker": {
             "colorbar": {
              "outlinewidth": 0,
              "ticks": ""
             }
            },
            "type": "scattergeo"
           }
          ],
          "scattergl": [
           {
            "marker": {
             "colorbar": {
              "outlinewidth": 0,
              "ticks": ""
             }
            },
            "type": "scattergl"
           }
          ],
          "scattermapbox": [
           {
            "marker": {
             "colorbar": {
              "outlinewidth": 0,
              "ticks": ""
             }
            },
            "type": "scattermapbox"
           }
          ],
          "scatterpolar": [
           {
            "marker": {
             "colorbar": {
              "outlinewidth": 0,
              "ticks": ""
             }
            },
            "type": "scatterpolar"
           }
          ],
          "scatterpolargl": [
           {
            "marker": {
             "colorbar": {
              "outlinewidth": 0,
              "ticks": ""
             }
            },
            "type": "scatterpolargl"
           }
          ],
          "scatterternary": [
           {
            "marker": {
             "colorbar": {
              "outlinewidth": 0,
              "ticks": ""
             }
            },
            "type": "scatterternary"
           }
          ],
          "surface": [
           {
            "colorbar": {
             "outlinewidth": 0,
             "ticks": ""
            },
            "colorscale": [
             [
              0,
              "#0d0887"
             ],
             [
              0.1111111111111111,
              "#46039f"
             ],
             [
              0.2222222222222222,
              "#7201a8"
             ],
             [
              0.3333333333333333,
              "#9c179e"
             ],
             [
              0.4444444444444444,
              "#bd3786"
             ],
             [
              0.5555555555555556,
              "#d8576b"
             ],
             [
              0.6666666666666666,
              "#ed7953"
             ],
             [
              0.7777777777777778,
              "#fb9f3a"
             ],
             [
              0.8888888888888888,
              "#fdca26"
             ],
             [
              1,
              "#f0f921"
             ]
            ],
            "type": "surface"
           }
          ],
          "table": [
           {
            "cells": {
             "fill": {
              "color": "#EBF0F8"
             },
             "line": {
              "color": "white"
             }
            },
            "header": {
             "fill": {
              "color": "#C8D4E3"
             },
             "line": {
              "color": "white"
             }
            },
            "type": "table"
           }
          ]
         },
         "layout": {
          "annotationdefaults": {
           "arrowcolor": "#2a3f5f",
           "arrowhead": 0,
           "arrowwidth": 1
          },
          "autotypenumbers": "strict",
          "coloraxis": {
           "colorbar": {
            "outlinewidth": 0,
            "ticks": ""
           }
          },
          "colorscale": {
           "diverging": [
            [
             0,
             "#8e0152"
            ],
            [
             0.1,
             "#c51b7d"
            ],
            [
             0.2,
             "#de77ae"
            ],
            [
             0.3,
             "#f1b6da"
            ],
            [
             0.4,
             "#fde0ef"
            ],
            [
             0.5,
             "#f7f7f7"
            ],
            [
             0.6,
             "#e6f5d0"
            ],
            [
             0.7,
             "#b8e186"
            ],
            [
             0.8,
             "#7fbc41"
            ],
            [
             0.9,
             "#4d9221"
            ],
            [
             1,
             "#276419"
            ]
           ],
           "sequential": [
            [
             0,
             "#0d0887"
            ],
            [
             0.1111111111111111,
             "#46039f"
            ],
            [
             0.2222222222222222,
             "#7201a8"
            ],
            [
             0.3333333333333333,
             "#9c179e"
            ],
            [
             0.4444444444444444,
             "#bd3786"
            ],
            [
             0.5555555555555556,
             "#d8576b"
            ],
            [
             0.6666666666666666,
             "#ed7953"
            ],
            [
             0.7777777777777778,
             "#fb9f3a"
            ],
            [
             0.8888888888888888,
             "#fdca26"
            ],
            [
             1,
             "#f0f921"
            ]
           ],
           "sequentialminus": [
            [
             0,
             "#0d0887"
            ],
            [
             0.1111111111111111,
             "#46039f"
            ],
            [
             0.2222222222222222,
             "#7201a8"
            ],
            [
             0.3333333333333333,
             "#9c179e"
            ],
            [
             0.4444444444444444,
             "#bd3786"
            ],
            [
             0.5555555555555556,
             "#d8576b"
            ],
            [
             0.6666666666666666,
             "#ed7953"
            ],
            [
             0.7777777777777778,
             "#fb9f3a"
            ],
            [
             0.8888888888888888,
             "#fdca26"
            ],
            [
             1,
             "#f0f921"
            ]
           ]
          },
          "colorway": [
           "#636efa",
           "#EF553B",
           "#00cc96",
           "#ab63fa",
           "#FFA15A",
           "#19d3f3",
           "#FF6692",
           "#B6E880",
           "#FF97FF",
           "#FECB52"
          ],
          "font": {
           "color": "#2a3f5f"
          },
          "geo": {
           "bgcolor": "white",
           "lakecolor": "white",
           "landcolor": "#E5ECF6",
           "showlakes": true,
           "showland": true,
           "subunitcolor": "white"
          },
          "hoverlabel": {
           "align": "left"
          },
          "hovermode": "closest",
          "mapbox": {
           "style": "light"
          },
          "paper_bgcolor": "white",
          "plot_bgcolor": "#E5ECF6",
          "polar": {
           "angularaxis": {
            "gridcolor": "white",
            "linecolor": "white",
            "ticks": ""
           },
           "bgcolor": "#E5ECF6",
           "radialaxis": {
            "gridcolor": "white",
            "linecolor": "white",
            "ticks": ""
           }
          },
          "scene": {
           "xaxis": {
            "backgroundcolor": "#E5ECF6",
            "gridcolor": "white",
            "gridwidth": 2,
            "linecolor": "white",
            "showbackground": true,
            "ticks": "",
            "zerolinecolor": "white"
           },
           "yaxis": {
            "backgroundcolor": "#E5ECF6",
            "gridcolor": "white",
            "gridwidth": 2,
            "linecolor": "white",
            "showbackground": true,
            "ticks": "",
            "zerolinecolor": "white"
           },
           "zaxis": {
            "backgroundcolor": "#E5ECF6",
            "gridcolor": "white",
            "gridwidth": 2,
            "linecolor": "white",
            "showbackground": true,
            "ticks": "",
            "zerolinecolor": "white"
           }
          },
          "shapedefaults": {
           "line": {
            "color": "#2a3f5f"
           }
          },
          "ternary": {
           "aaxis": {
            "gridcolor": "white",
            "linecolor": "white",
            "ticks": ""
           },
           "baxis": {
            "gridcolor": "white",
            "linecolor": "white",
            "ticks": ""
           },
           "bgcolor": "#E5ECF6",
           "caxis": {
            "gridcolor": "white",
            "linecolor": "white",
            "ticks": ""
           }
          },
          "title": {
           "x": 0.05
          },
          "xaxis": {
           "automargin": true,
           "gridcolor": "white",
           "linecolor": "white",
           "ticks": "",
           "title": {
            "standoff": 15
           },
           "zerolinecolor": "white",
           "zerolinewidth": 2
          },
          "yaxis": {
           "automargin": true,
           "gridcolor": "white",
           "linecolor": "white",
           "ticks": "",
           "title": {
            "standoff": 15
           },
           "zerolinecolor": "white",
           "zerolinewidth": 2
          }
         }
        }
       }
      }
     },
     "metadata": {},
     "output_type": "display_data"
    }
   ],
   "source": [
    "df = pd.read_csv(\"/Users/riteshtekriwal/Work/Data/Raw/bio-conservation/test_combined.csv\")\n",
    "# df = pd.read_csv(\"gbif_combined.csv\")\n",
    "\n",
    "df.columns\n",
    "\n",
    "        ## filter the dataframe to the selected point\n",
    "# df = df.query(query)\n",
    "df = pd.melt(df, value_vars=['tavg', 'tmin', 'tmax','prcp','wspd','wdir'])\n",
    "fig = px.treemap(df, path=['variable'], values='value')\n",
    "fig.data[0].textinfo = 'label+value'\n",
    "\n",
    "level = 1 # write the number of the last level you have\n",
    "lvl_clr = \"#5cb25d\"\n",
    "font_clr = \"black\"\n",
    "\n",
    "fig.data[0]['marker']['colors'] =[lvl_clr for sector in fig.data[0]['ids'] if len(sector.split(\"/\")) == level]\n",
    "fig.data[0]['textfont']['color'] = [font_clr  for sector in fig.data[0]['ids'] if len(sector.split(\"/\")) == level]\n",
    "\n",
    "fig.data[0]['textfont']['size'] = 30\n",
    "\n",
    "fig.show()\n",
    "# df.head()\n",
    "\n",
    "# df.head(100)"
   ]
  },
  {
   "cell_type": "code",
   "execution_count": 86,
   "id": "f08de20f",
   "metadata": {},
   "outputs": [],
   "source": [
    "df.to_csv('/Users/riteshtekriwal/Work/GitClones/bio-conservation/dashboard/weather.csv', index = False)"
   ]
  },
  {
   "cell_type": "code",
   "execution_count": null,
   "id": "eddc323c",
   "metadata": {},
   "outputs": [],
   "source": [
    "df=  df[df['country'] == 'Brazil']\n",
    "x = df['species'].value_counts().rename_axis('Species').reset_index(name='Occurence Count')\n",
    "\n",
    "# x = x.rename(columns = {'index':'species_name'})\n",
    "x = x.sort_values(by = ['Occurence Count'],ascending=[False])\n",
    "x.head(10)"
   ]
  },
  {
   "cell_type": "code",
   "execution_count": null,
   "id": "6a743ab4",
   "metadata": {},
   "outputs": [],
   "source": [
    "\n",
    "fig = px.bar(\n",
    "    x.head(10),\n",
    "    x = 'Occurence Count',\n",
    "    y=\"Species\",\n",
    "    color_discrete_sequence=['#5cb25d'],\n",
    "    text = 'Occurence Count',\n",
    "    title = 'Occurence Counts for window <>'\n",
    "    )\n",
    "fig.update_layout({\n",
    "    'plot_bgcolor': 'rgba(0, 0, 0, 0)',\n",
    "    'paper_bgcolor': 'rgba(0, 0, 0, 0)',\n",
    "    })\n",
    "\n",
    "fig"
   ]
  },
  {
   "cell_type": "code",
   "execution_count": 14,
   "id": "43898d5b",
   "metadata": {},
   "outputs": [
    {
     "data": {
      "application/vnd.plotly.v1+json": {
       "config": {
        "plotlyServerURL": "https://plot.ly"
       },
       "data": [
        {
         "customdata": [
          [
           "Trichonephila clavipes",
           -46.702285,
           -23.58799
          ],
          [
           "Trichonephila clavipes",
           -46.702285,
           -23.58799
          ],
          [
           "Trichonephila clavipes",
           -46.988262,
           -23.02455
          ],
          [
           "Trichonephila clavipes",
           -46.988262,
           -23.02455
          ],
          [
           "Trichonephila clavipes",
           -48.019878,
           -15.800116
          ],
          [
           "Trichonephila clavipes",
           -43.153095,
           -22.951421
          ],
          [
           "Trichonephila clavipes",
           -48.301442,
           -25.549858
          ],
          [
           "Trichonephila clavipes",
           -47.836822,
           -15.883839
          ],
          [
           "Trichonephila clavipes",
           -46.760451,
           -23.541354
          ],
          [
           "Trichonephila clavipes",
           -45.82443,
           -23.584868
          ],
          [
           "Trichonephila clavipes",
           -45.82443,
           -23.584868
          ],
          [
           "Trichonephila clavipes",
           -46.705313,
           -23.637978
          ],
          [
           "Trichonephila clavipes",
           -46.705313,
           -23.637978
          ],
          [
           "Trichonephila clavipes",
           -47.879587,
           -15.779772
          ],
          [
           "Trichonephila clavipes",
           -47.879587,
           -15.779772
          ],
          [
           "Trichonephila clavipes",
           -50.822815,
           -29.822145
          ],
          [
           "Trichonephila clavipes",
           -42.861625,
           -20.761817
          ],
          [
           "Trichonephila clavipes",
           -49.238,
           -25.441067
          ],
          [
           "Trichonephila clavipes",
           -49.2379,
           -25.44105
          ],
          [
           "Trichonephila clavipes",
           -46.745672,
           -23.601053
          ],
          [
           "Trichonephila clavipes",
           -46.74629,
           -23.600499
          ],
          [
           "Trichonephila clavipes",
           -34.944669,
           -8.013517
          ],
          [
           "Trichonephila clavipes",
           -34.944669,
           -8.013517
          ],
          [
           "Trichonephila clavipes",
           -46.760784,
           -23.543311
          ],
          [
           "Trichonephila clavipes",
           -43.938668,
           -19.919052
          ],
          [
           "Trichonephila clavipes",
           -43.938668,
           -19.919052
          ],
          [
           "Trichonephila clavipes",
           -46.760308,
           -23.541482
          ],
          [
           "Trichonephila clavipes",
           -47.8988,
           -15.744533
          ],
          [
           "Trichonephila clavipes",
           -45.42264,
           -23.827066
          ],
          [
           "Trichonephila clavipes",
           -44.866195,
           -20.095269
          ],
          [
           "Trichonephila clavipes",
           -44.825112,
           -20.160283
          ],
          [
           "Trichonephila clavipes",
           -46.64581,
           -23.588436
          ],
          [
           "Trichonephila clavipes",
           -46.625182,
           -23.63976
          ],
          [
           "Trichonephila clavipes",
           -42.984896,
           -22.92977
          ],
          [
           "Trichonephila clavipes",
           -42.04023,
           -22.876817
          ],
          [
           "Trichonephila clavipes",
           -48.008808,
           -15.795753
          ],
          [
           "Trichonephila clavipes",
           -46.089114,
           -21.761901
          ],
          [
           "Trichonephila clavipes",
           -47.632875,
           -22.710353
          ],
          [
           "Trichonephila clavipes",
           -46.730778,
           -23.561005
          ],
          [
           "Trichonephila clavipes",
           -46.760879,
           -23.542844
          ],
          [
           "Trichonephila clavipes",
           -47.861903,
           -15.738166
          ],
          [
           "Trichonephila clavipes",
           -46.731408,
           -8.97315
          ],
          [
           "Trichonephila clavipes",
           -46.760927,
           -23.542966
          ],
          [
           "Trichonephila clavipes",
           -38.633333,
           -3.983333
          ],
          [
           "Trichonephila clavipes",
           -38.633333,
           -3.983333
          ],
          [
           "Trichonephila clavipes",
           -38.633333,
           -3.983333
          ],
          [
           "Trichonephila clavipes",
           -38.633333,
           -3.983333
          ],
          [
           "Trichonephila clavipes",
           -47.958321,
           -23.468504
          ],
          [
           "Trichonephila clavipes",
           -46.760807,
           -23.544166
          ],
          [
           "Trichonephila clavipes",
           -52.845663,
           -26.30818
          ],
          [
           "Trichonephila clavipes",
           -47.520302,
           -22.411412
          ],
          [
           "Trichonephila clavipes",
           -46.692169,
           -21.738522
          ],
          [
           "Trichonephila clavipes",
           -46.658986,
           -23.803293
          ],
          [
           "Trichonephila clavipes",
           -47.83401,
           -15.873524
          ],
          [
           "Trichonephila clavipes",
           -47.17476,
           -21.339908
          ],
          [
           "Trichonephila clavipes",
           -48.950988,
           -16.308339
          ],
          [
           "Trichonephila clavipes",
           -46.637083,
           -23.452565
          ],
          [
           "Trichonephila clavipes",
           -46.639871,
           -23.394878
          ],
          [
           "Trichonephila clavipes",
           -46.878963,
           -22.929989
          ],
          [
           "Trichonephila clavipes",
           -50.098504,
           -22.163039
          ],
          [
           "Trichonephila clavipes",
           -46.655652,
           -23.587831
          ],
          [
           "Trichonephila clavipes",
           -54.448021,
           -25.675653
          ],
          [
           "Trichonephila clavipes",
           -41.892576,
           -22.780913
          ],
          [
           "Trichonephila clavipes",
           -46.668903,
           -23.531411
          ],
          [
           "Trichonephila clavipes",
           -46.688084,
           -23.472529
          ],
          [
           "Trichonephila clavipes",
           -47.858889,
           -15.729444
          ],
          [
           "Trichonephila clavipes",
           -46.467547,
           -23.575404
          ],
          [
           "Trichonephila clavipes",
           -46.66362,
           -23.591087
          ]
         ],
         "hovertemplate": "<b>%{hovertext}</b><br><br>species=%{customdata[0]}<br>point_size=%{marker.size}<br>decimalLatitude=%{customdata[2]}<br>decimalLongitude=%{customdata[1]}<extra></extra>",
         "hovertext": [
          "Trichonephila",
          "Trichonephila",
          "Trichonephila",
          "Trichonephila",
          "Trichonephila",
          "Trichonephila",
          "Trichonephila",
          "Trichonephila",
          "Trichonephila",
          "Trichonephila",
          "Trichonephila",
          "Trichonephila",
          "Trichonephila",
          "Trichonephila",
          "Trichonephila",
          "Trichonephila",
          "Trichonephila",
          "Trichonephila",
          "Trichonephila",
          "Trichonephila",
          "Trichonephila",
          "Trichonephila",
          "Trichonephila",
          "Trichonephila",
          "Trichonephila",
          "Trichonephila",
          "Trichonephila",
          "Trichonephila",
          "Trichonephila",
          "Trichonephila",
          "Trichonephila",
          "Trichonephila",
          "Trichonephila",
          "Trichonephila",
          "Trichonephila",
          "Trichonephila",
          "Trichonephila",
          "Trichonephila",
          "Trichonephila",
          "Trichonephila",
          "Trichonephila",
          "Trichonephila",
          "Trichonephila",
          "Trichonephila",
          "Trichonephila",
          "Trichonephila",
          "Trichonephila",
          "Trichonephila",
          "Trichonephila",
          "Trichonephila",
          "Trichonephila",
          "Trichonephila",
          "Trichonephila",
          "Trichonephila",
          "Trichonephila",
          "Trichonephila",
          "Trichonephila",
          "Trichonephila",
          "Trichonephila",
          "Trichonephila",
          "Trichonephila",
          "Trichonephila",
          "Trichonephila",
          "Trichonephila",
          "Trichonephila",
          "Trichonephila",
          "Trichonephila",
          "Trichonephila"
         ],
         "lat": [
          -23.58799,
          -23.58799,
          -23.02455,
          -23.02455,
          -15.800116,
          -22.951421,
          -25.549858,
          -15.883839,
          -23.541354,
          -23.584868,
          -23.584868,
          -23.637978,
          -23.637978,
          -15.779772,
          -15.779772,
          -29.822145,
          -20.761817,
          -25.441067,
          -25.44105,
          -23.601053,
          -23.600499,
          -8.013517,
          -8.013517,
          -23.543311,
          -19.919052,
          -19.919052,
          -23.541482,
          -15.744533,
          -23.827066,
          -20.095269,
          -20.160283,
          -23.588436,
          -23.63976,
          -22.92977,
          -22.876817,
          -15.795753,
          -21.761901,
          -22.710353,
          -23.561005,
          -23.542844,
          -15.738166,
          -8.97315,
          -23.542966,
          -3.983333,
          -3.983333,
          -3.983333,
          -3.983333,
          -23.468504,
          -23.544166,
          -26.30818,
          -22.411412,
          -21.738522,
          -23.803293,
          -15.873524,
          -21.339908,
          -16.308339,
          -23.452565,
          -23.394878,
          -22.929989,
          -22.163039,
          -23.587831,
          -25.675653,
          -22.780913,
          -23.531411,
          -23.472529,
          -15.729444,
          -23.575404,
          -23.591087
         ],
         "legendgroup": "Trichonephila clavipes",
         "lon": [
          -46.702285,
          -46.702285,
          -46.988262,
          -46.988262,
          -48.019878,
          -43.153095,
          -48.301442,
          -47.836822,
          -46.760451,
          -45.82443,
          -45.82443,
          -46.705313,
          -46.705313,
          -47.879587,
          -47.879587,
          -50.822815,
          -42.861625,
          -49.238,
          -49.2379,
          -46.745672,
          -46.74629,
          -34.944669,
          -34.944669,
          -46.760784,
          -43.938668,
          -43.938668,
          -46.760308,
          -47.8988,
          -45.42264,
          -44.866195,
          -44.825112,
          -46.64581,
          -46.625182,
          -42.984896,
          -42.04023,
          -48.008808,
          -46.089114,
          -47.632875,
          -46.730778,
          -46.760879,
          -47.861903,
          -46.731408,
          -46.760927,
          -38.633333,
          -38.633333,
          -38.633333,
          -38.633333,
          -47.958321,
          -46.760807,
          -52.845663,
          -47.520302,
          -46.692169,
          -46.658986,
          -47.83401,
          -47.17476,
          -48.950988,
          -46.637083,
          -46.639871,
          -46.878963,
          -50.098504,
          -46.655652,
          -54.448021,
          -41.892576,
          -46.668903,
          -46.688084,
          -47.858889,
          -46.467547,
          -46.66362
         ],
         "marker": {
          "color": "#636efa",
          "size": [
           10,
           10,
           10,
           10,
           10,
           10,
           10,
           10,
           10,
           10,
           10,
           10,
           10,
           10,
           10,
           10,
           10,
           10,
           10,
           10,
           10,
           10,
           10,
           10,
           10,
           10,
           10,
           10,
           10,
           10,
           10,
           10,
           10,
           10,
           10,
           10,
           10,
           10,
           10,
           10,
           10,
           10,
           10,
           10,
           10,
           10,
           10,
           10,
           10,
           10,
           10,
           10,
           10,
           10,
           10,
           10,
           10,
           10,
           10,
           10,
           10,
           10,
           10,
           10,
           10,
           10,
           10,
           10
          ],
          "sizemode": "area",
          "sizeref": 0.025
         },
         "mode": "markers",
         "name": "Trichonephila clavipes",
         "showlegend": true,
         "subplot": "mapbox",
         "type": "scattermapbox"
        }
       ],
       "layout": {
        "annotations": [
         {
          "align": "left",
          "showarrow": false,
          "text": "Trace type:",
          "x": 0,
          "y": 1.06,
          "yref": "paper"
         }
        ],
        "autosize": true,
        "hovermode": "closest",
        "legend": {
         "itemsizing": "constant",
         "title": {
          "text": "species"
         },
         "tracegroupgap": 0
        },
        "mapbox": {
         "center": {
          "lat": -20.407006779411766,
          "lon": -46.053295852941176
         },
         "domain": {
          "x": [
           0,
           1
          ],
          "y": [
           0,
           1
          ]
         },
         "style": "open-street-map",
         "zoom": 6
        },
        "margin": {
         "b": 0,
         "l": 0,
         "r": 0,
         "t": 0
        },
        "showlegend": false,
        "template": {
         "data": {
          "bar": [
           {
            "error_x": {
             "color": "#2a3f5f"
            },
            "error_y": {
             "color": "#2a3f5f"
            },
            "marker": {
             "line": {
              "color": "white",
              "width": 0.5
             },
             "pattern": {
              "fillmode": "overlay",
              "size": 10,
              "solidity": 0.2
             }
            },
            "type": "bar"
           }
          ],
          "barpolar": [
           {
            "marker": {
             "line": {
              "color": "white",
              "width": 0.5
             },
             "pattern": {
              "fillmode": "overlay",
              "size": 10,
              "solidity": 0.2
             }
            },
            "type": "barpolar"
           }
          ],
          "carpet": [
           {
            "aaxis": {
             "endlinecolor": "#2a3f5f",
             "gridcolor": "#C8D4E3",
             "linecolor": "#C8D4E3",
             "minorgridcolor": "#C8D4E3",
             "startlinecolor": "#2a3f5f"
            },
            "baxis": {
             "endlinecolor": "#2a3f5f",
             "gridcolor": "#C8D4E3",
             "linecolor": "#C8D4E3",
             "minorgridcolor": "#C8D4E3",
             "startlinecolor": "#2a3f5f"
            },
            "type": "carpet"
           }
          ],
          "choropleth": [
           {
            "colorbar": {
             "outlinewidth": 0,
             "ticks": ""
            },
            "type": "choropleth"
           }
          ],
          "contour": [
           {
            "colorbar": {
             "outlinewidth": 0,
             "ticks": ""
            },
            "colorscale": [
             [
              0,
              "#0d0887"
             ],
             [
              0.1111111111111111,
              "#46039f"
             ],
             [
              0.2222222222222222,
              "#7201a8"
             ],
             [
              0.3333333333333333,
              "#9c179e"
             ],
             [
              0.4444444444444444,
              "#bd3786"
             ],
             [
              0.5555555555555556,
              "#d8576b"
             ],
             [
              0.6666666666666666,
              "#ed7953"
             ],
             [
              0.7777777777777778,
              "#fb9f3a"
             ],
             [
              0.8888888888888888,
              "#fdca26"
             ],
             [
              1,
              "#f0f921"
             ]
            ],
            "type": "contour"
           }
          ],
          "contourcarpet": [
           {
            "colorbar": {
             "outlinewidth": 0,
             "ticks": ""
            },
            "type": "contourcarpet"
           }
          ],
          "heatmap": [
           {
            "colorbar": {
             "outlinewidth": 0,
             "ticks": ""
            },
            "colorscale": [
             [
              0,
              "#0d0887"
             ],
             [
              0.1111111111111111,
              "#46039f"
             ],
             [
              0.2222222222222222,
              "#7201a8"
             ],
             [
              0.3333333333333333,
              "#9c179e"
             ],
             [
              0.4444444444444444,
              "#bd3786"
             ],
             [
              0.5555555555555556,
              "#d8576b"
             ],
             [
              0.6666666666666666,
              "#ed7953"
             ],
             [
              0.7777777777777778,
              "#fb9f3a"
             ],
             [
              0.8888888888888888,
              "#fdca26"
             ],
             [
              1,
              "#f0f921"
             ]
            ],
            "type": "heatmap"
           }
          ],
          "heatmapgl": [
           {
            "colorbar": {
             "outlinewidth": 0,
             "ticks": ""
            },
            "colorscale": [
             [
              0,
              "#0d0887"
             ],
             [
              0.1111111111111111,
              "#46039f"
             ],
             [
              0.2222222222222222,
              "#7201a8"
             ],
             [
              0.3333333333333333,
              "#9c179e"
             ],
             [
              0.4444444444444444,
              "#bd3786"
             ],
             [
              0.5555555555555556,
              "#d8576b"
             ],
             [
              0.6666666666666666,
              "#ed7953"
             ],
             [
              0.7777777777777778,
              "#fb9f3a"
             ],
             [
              0.8888888888888888,
              "#fdca26"
             ],
             [
              1,
              "#f0f921"
             ]
            ],
            "type": "heatmapgl"
           }
          ],
          "histogram": [
           {
            "marker": {
             "pattern": {
              "fillmode": "overlay",
              "size": 10,
              "solidity": 0.2
             }
            },
            "type": "histogram"
           }
          ],
          "histogram2d": [
           {
            "colorbar": {
             "outlinewidth": 0,
             "ticks": ""
            },
            "colorscale": [
             [
              0,
              "#0d0887"
             ],
             [
              0.1111111111111111,
              "#46039f"
             ],
             [
              0.2222222222222222,
              "#7201a8"
             ],
             [
              0.3333333333333333,
              "#9c179e"
             ],
             [
              0.4444444444444444,
              "#bd3786"
             ],
             [
              0.5555555555555556,
              "#d8576b"
             ],
             [
              0.6666666666666666,
              "#ed7953"
             ],
             [
              0.7777777777777778,
              "#fb9f3a"
             ],
             [
              0.8888888888888888,
              "#fdca26"
             ],
             [
              1,
              "#f0f921"
             ]
            ],
            "type": "histogram2d"
           }
          ],
          "histogram2dcontour": [
           {
            "colorbar": {
             "outlinewidth": 0,
             "ticks": ""
            },
            "colorscale": [
             [
              0,
              "#0d0887"
             ],
             [
              0.1111111111111111,
              "#46039f"
             ],
             [
              0.2222222222222222,
              "#7201a8"
             ],
             [
              0.3333333333333333,
              "#9c179e"
             ],
             [
              0.4444444444444444,
              "#bd3786"
             ],
             [
              0.5555555555555556,
              "#d8576b"
             ],
             [
              0.6666666666666666,
              "#ed7953"
             ],
             [
              0.7777777777777778,
              "#fb9f3a"
             ],
             [
              0.8888888888888888,
              "#fdca26"
             ],
             [
              1,
              "#f0f921"
             ]
            ],
            "type": "histogram2dcontour"
           }
          ],
          "mesh3d": [
           {
            "colorbar": {
             "outlinewidth": 0,
             "ticks": ""
            },
            "type": "mesh3d"
           }
          ],
          "parcoords": [
           {
            "line": {
             "colorbar": {
              "outlinewidth": 0,
              "ticks": ""
             }
            },
            "type": "parcoords"
           }
          ],
          "pie": [
           {
            "automargin": true,
            "type": "pie"
           }
          ],
          "scatter": [
           {
            "fillpattern": {
             "fillmode": "overlay",
             "size": 10,
             "solidity": 0.2
            },
            "type": "scatter"
           }
          ],
          "scatter3d": [
           {
            "line": {
             "colorbar": {
              "outlinewidth": 0,
              "ticks": ""
             }
            },
            "marker": {
             "colorbar": {
              "outlinewidth": 0,
              "ticks": ""
             }
            },
            "type": "scatter3d"
           }
          ],
          "scattercarpet": [
           {
            "marker": {
             "colorbar": {
              "outlinewidth": 0,
              "ticks": ""
             }
            },
            "type": "scattercarpet"
           }
          ],
          "scattergeo": [
           {
            "marker": {
             "colorbar": {
              "outlinewidth": 0,
              "ticks": ""
             }
            },
            "type": "scattergeo"
           }
          ],
          "scattergl": [
           {
            "marker": {
             "colorbar": {
              "outlinewidth": 0,
              "ticks": ""
             }
            },
            "type": "scattergl"
           }
          ],
          "scattermapbox": [
           {
            "marker": {
             "colorbar": {
              "outlinewidth": 0,
              "ticks": ""
             }
            },
            "type": "scattermapbox"
           }
          ],
          "scatterpolar": [
           {
            "marker": {
             "colorbar": {
              "outlinewidth": 0,
              "ticks": ""
             }
            },
            "type": "scatterpolar"
           }
          ],
          "scatterpolargl": [
           {
            "marker": {
             "colorbar": {
              "outlinewidth": 0,
              "ticks": ""
             }
            },
            "type": "scatterpolargl"
           }
          ],
          "scatterternary": [
           {
            "marker": {
             "colorbar": {
              "outlinewidth": 0,
              "ticks": ""
             }
            },
            "type": "scatterternary"
           }
          ],
          "surface": [
           {
            "colorbar": {
             "outlinewidth": 0,
             "ticks": ""
            },
            "colorscale": [
             [
              0,
              "#0d0887"
             ],
             [
              0.1111111111111111,
              "#46039f"
             ],
             [
              0.2222222222222222,
              "#7201a8"
             ],
             [
              0.3333333333333333,
              "#9c179e"
             ],
             [
              0.4444444444444444,
              "#bd3786"
             ],
             [
              0.5555555555555556,
              "#d8576b"
             ],
             [
              0.6666666666666666,
              "#ed7953"
             ],
             [
              0.7777777777777778,
              "#fb9f3a"
             ],
             [
              0.8888888888888888,
              "#fdca26"
             ],
             [
              1,
              "#f0f921"
             ]
            ],
            "type": "surface"
           }
          ],
          "table": [
           {
            "cells": {
             "fill": {
              "color": "#EBF0F8"
             },
             "line": {
              "color": "white"
             }
            },
            "header": {
             "fill": {
              "color": "#C8D4E3"
             },
             "line": {
              "color": "white"
             }
            },
            "type": "table"
           }
          ]
         },
         "layout": {
          "annotationdefaults": {
           "arrowcolor": "#2a3f5f",
           "arrowhead": 0,
           "arrowwidth": 1
          },
          "autotypenumbers": "strict",
          "coloraxis": {
           "colorbar": {
            "outlinewidth": 0,
            "ticks": ""
           }
          },
          "colorscale": {
           "diverging": [
            [
             0,
             "#8e0152"
            ],
            [
             0.1,
             "#c51b7d"
            ],
            [
             0.2,
             "#de77ae"
            ],
            [
             0.3,
             "#f1b6da"
            ],
            [
             0.4,
             "#fde0ef"
            ],
            [
             0.5,
             "#f7f7f7"
            ],
            [
             0.6,
             "#e6f5d0"
            ],
            [
             0.7,
             "#b8e186"
            ],
            [
             0.8,
             "#7fbc41"
            ],
            [
             0.9,
             "#4d9221"
            ],
            [
             1,
             "#276419"
            ]
           ],
           "sequential": [
            [
             0,
             "#0d0887"
            ],
            [
             0.1111111111111111,
             "#46039f"
            ],
            [
             0.2222222222222222,
             "#7201a8"
            ],
            [
             0.3333333333333333,
             "#9c179e"
            ],
            [
             0.4444444444444444,
             "#bd3786"
            ],
            [
             0.5555555555555556,
             "#d8576b"
            ],
            [
             0.6666666666666666,
             "#ed7953"
            ],
            [
             0.7777777777777778,
             "#fb9f3a"
            ],
            [
             0.8888888888888888,
             "#fdca26"
            ],
            [
             1,
             "#f0f921"
            ]
           ],
           "sequentialminus": [
            [
             0,
             "#0d0887"
            ],
            [
             0.1111111111111111,
             "#46039f"
            ],
            [
             0.2222222222222222,
             "#7201a8"
            ],
            [
             0.3333333333333333,
             "#9c179e"
            ],
            [
             0.4444444444444444,
             "#bd3786"
            ],
            [
             0.5555555555555556,
             "#d8576b"
            ],
            [
             0.6666666666666666,
             "#ed7953"
            ],
            [
             0.7777777777777778,
             "#fb9f3a"
            ],
            [
             0.8888888888888888,
             "#fdca26"
            ],
            [
             1,
             "#f0f921"
            ]
           ]
          },
          "colorway": [
           "#636efa",
           "#EF553B",
           "#00cc96",
           "#ab63fa",
           "#FFA15A",
           "#19d3f3",
           "#FF6692",
           "#B6E880",
           "#FF97FF",
           "#FECB52"
          ],
          "font": {
           "color": "#2a3f5f"
          },
          "geo": {
           "bgcolor": "white",
           "lakecolor": "white",
           "landcolor": "white",
           "showlakes": true,
           "showland": true,
           "subunitcolor": "#C8D4E3"
          },
          "hoverlabel": {
           "align": "left"
          },
          "hovermode": "closest",
          "mapbox": {
           "style": "light"
          },
          "paper_bgcolor": "white",
          "plot_bgcolor": "white",
          "polar": {
           "angularaxis": {
            "gridcolor": "#EBF0F8",
            "linecolor": "#EBF0F8",
            "ticks": ""
           },
           "bgcolor": "white",
           "radialaxis": {
            "gridcolor": "#EBF0F8",
            "linecolor": "#EBF0F8",
            "ticks": ""
           }
          },
          "scene": {
           "xaxis": {
            "backgroundcolor": "white",
            "gridcolor": "#DFE8F3",
            "gridwidth": 2,
            "linecolor": "#EBF0F8",
            "showbackground": true,
            "ticks": "",
            "zerolinecolor": "#EBF0F8"
           },
           "yaxis": {
            "backgroundcolor": "white",
            "gridcolor": "#DFE8F3",
            "gridwidth": 2,
            "linecolor": "#EBF0F8",
            "showbackground": true,
            "ticks": "",
            "zerolinecolor": "#EBF0F8"
           },
           "zaxis": {
            "backgroundcolor": "white",
            "gridcolor": "#DFE8F3",
            "gridwidth": 2,
            "linecolor": "#EBF0F8",
            "showbackground": true,
            "ticks": "",
            "zerolinecolor": "#EBF0F8"
           }
          },
          "shapedefaults": {
           "line": {
            "color": "#2a3f5f"
           }
          },
          "ternary": {
           "aaxis": {
            "gridcolor": "#DFE8F3",
            "linecolor": "#A2B1C6",
            "ticks": ""
           },
           "baxis": {
            "gridcolor": "#DFE8F3",
            "linecolor": "#A2B1C6",
            "ticks": ""
           },
           "bgcolor": "white",
           "caxis": {
            "gridcolor": "#DFE8F3",
            "linecolor": "#A2B1C6",
            "ticks": ""
           }
          },
          "title": {
           "x": 0.05
          },
          "xaxis": {
           "automargin": true,
           "gridcolor": "#EBF0F8",
           "linecolor": "#EBF0F8",
           "ticks": "",
           "title": {
            "standoff": 15
           },
           "zerolinecolor": "#EBF0F8",
           "zerolinewidth": 2
          },
          "yaxis": {
           "automargin": true,
           "gridcolor": "#EBF0F8",
           "linecolor": "#EBF0F8",
           "ticks": "",
           "title": {
            "standoff": 15
           },
           "zerolinecolor": "#EBF0F8",
           "zerolinewidth": 2
          }
         }
        },
        "updatemenus": [
         {
          "buttons": [
           {
            "args": [
             "hover_name",
             "tavg"
            ],
            "label": "Occurence",
            "method": "update"
           },
           {
            "args": [
             "hover_name",
             "prcp"
            ],
            "label": "Soil",
            "method": "update"
           }
          ],
          "direction": "left",
          "pad": {
           "r": 10,
           "t": 10
          },
          "showactive": true,
          "type": "buttons",
          "x": 0.11,
          "xanchor": "left",
          "y": 1.1,
          "yanchor": "top"
         }
        ]
       }
      }
     },
     "metadata": {},
     "output_type": "display_data"
    }
   ],
   "source": [
    "df['point_size'] = 10\n",
    "\n",
    "\n",
    "fig = px.scatter_mapbox(\n",
    "        df[df['species']==\"Trichonephila clavipes\"],\n",
    "        lat=\"decimalLatitude\",\n",
    "        lon=\"decimalLongitude\",\n",
    "        color=\"species\",\n",
    "        hover_name= 'genericName',\n",
    "        size = 'point_size',\n",
    "        hover_data= ['species','decimalLongitude','decimalLatitude'],\n",
    "        # color_discrete_sequence=['#5cb25d'],\n",
    "        # color_continuous_scale=px.colors.cyclical.IceFire,\n",
    "        zoom=6,\n",
    "        mapbox_style=\"open-street-map\")\n",
    "\n",
    "    # fig.update_layout(showlegend=False) \n",
    "# fig.update_layout({\n",
    "#     'plot_bgcolor': 'rgba(0, 0, 0, 0)',\n",
    "#     'paper_bgcolor': 'rgba(0, 0, 0, 0)',\n",
    "#     })\n",
    "\n",
    "fig.update_layout(\n",
    "        # title='Geo Spatial Occcurence Instances for <>',\n",
    "        autosize=True,\n",
    "        hovermode='closest',\n",
    "        margin={\"r\":0,\"t\":0,\"l\":0,\"b\":0},\n",
    "        template=\"plotly_white\",\n",
    "        showlegend=False)\n",
    "\n",
    "fig.update_layout(\n",
    "        updatemenus=[\n",
    "            dict(\n",
    "                type = \"buttons\",\n",
    "                direction = \"left\",\n",
    "                buttons=list([\n",
    "                    dict(\n",
    "                        args=[\"hover_name\", \"size\"],\n",
    "                        label=\"Occurence\",\n",
    "                        method=\"update\"\n",
    "                    ),\n",
    "                    dict(\n",
    "                        args=[\"hover_name\", \"prcp\"],\n",
    "                        label=\"Soil\",\n",
    "                        method=\"update\"\n",
    "                    )\n",
    "                ]),\n",
    "                pad={\"r\": 10, \"t\": 10},\n",
    "                showactive=True,\n",
    "                x=0.11,\n",
    "                xanchor=\"left\",\n",
    "                y=1.1,\n",
    "                yanchor=\"top\"\n",
    "            ),\n",
    "        ]\n",
    "    )\n",
    "\n",
    "    # Add annotation\n",
    "fig.update_layout(\n",
    "        annotations=[\n",
    "            dict(text=\"Trace type:\", showarrow=False,\n",
    "                                x=0, y=1.06, yref=\"paper\", align=\"left\")\n",
    "        ]\n",
    "    )\n",
    "\n",
    "fig"
   ]
  },
  {
   "cell_type": "code",
   "execution_count": 75,
   "id": "74128ab1",
   "metadata": {},
   "outputs": [
    {
     "data": {
      "text/plain": [
       "Index(['Unnamed: 0', 'key', 'publishingCountry', 'basisOfRecord',\n",
       "       'occurrenceStatus', 'scientificName', 'acceptedScientificName',\n",
       "       'kingdom', 'phylum', 'order', 'family', 'genus', 'species',\n",
       "       'genericName', 'specificEpithet', 'taxonRank', 'taxonomicStatus',\n",
       "       'iucnRedListCategory', 'decimalLongitude', 'decimalLatitude',\n",
       "       'coordinateUncertaintyInMeters', 'eventDate', 'issues', 'class',\n",
       "       'countryCode', 'country', 'datasetName', 'avg_radiance',\n",
       "       'avg_deg_urban', 'is_invasive', 'land_cover_label', 'tavg', 'tmin',\n",
       "       'tmax', 'prcp', 'snow', 'wdir', 'wspd', 'wpgt', 'pres', 'tsun',\n",
       "       'phh2o_0_5cm_mean', 'bdod_0_5cm_mean', 'cec_0_5cm_mean',\n",
       "       'cfvo_0_5cm_mean', 'clay_0_5cm_mean', 'nitrogen_0_5cm_mean',\n",
       "       'sand_0_5cm_mean', 'silt_0_5cm_mean', 'soc_0_5cm_mean',\n",
       "       'ocd_0_5cm_mean'],\n",
       "      dtype='object')"
      ]
     },
     "execution_count": 75,
     "metadata": {},
     "output_type": "execute_result"
    }
   ],
   "source": [
    "df[df['species']==\"Trichonephila clavipes\"].columns"
   ]
  },
  {
   "cell_type": "code",
   "execution_count": 104,
   "id": "eceb58e7",
   "metadata": {},
   "outputs": [
    {
     "data": {
      "text/html": [
       "<div>\n",
       "<style scoped>\n",
       "    .dataframe tbody tr th:only-of-type {\n",
       "        vertical-align: middle;\n",
       "    }\n",
       "\n",
       "    .dataframe tbody tr th {\n",
       "        vertical-align: top;\n",
       "    }\n",
       "\n",
       "    .dataframe thead th {\n",
       "        text-align: right;\n",
       "    }\n",
       "</style>\n",
       "<table border=\"1\" class=\"dataframe\">\n",
       "  <thead>\n",
       "    <tr style=\"text-align: right;\">\n",
       "      <th></th>\n",
       "      <th>variable</th>\n",
       "      <th>value</th>\n",
       "    </tr>\n",
       "  </thead>\n",
       "  <tbody>\n",
       "    <tr>\n",
       "      <th>0</th>\n",
       "      <td>tavg</td>\n",
       "      <td>NaN</td>\n",
       "    </tr>\n",
       "  </tbody>\n",
       "</table>\n",
       "</div>"
      ],
      "text/plain": [
       "  variable  value\n",
       "0     tavg    NaN"
      ]
     },
     "execution_count": 104,
     "metadata": {},
     "output_type": "execute_result"
    }
   ],
   "source": [
    "df.head(1)"
   ]
  },
  {
   "cell_type": "code",
   "execution_count": 78,
   "id": "af86d12d",
   "metadata": {},
   "outputs": [
    {
     "data": {
      "text/html": [
       "<div>\n",
       "<style scoped>\n",
       "    .dataframe tbody tr th:only-of-type {\n",
       "        vertical-align: middle;\n",
       "    }\n",
       "\n",
       "    .dataframe tbody tr th {\n",
       "        vertical-align: top;\n",
       "    }\n",
       "\n",
       "    .dataframe thead th {\n",
       "        text-align: right;\n",
       "    }\n",
       "</style>\n",
       "<table border=\"1\" class=\"dataframe\">\n",
       "  <thead>\n",
       "    <tr style=\"text-align: right;\">\n",
       "      <th></th>\n",
       "      <th>variable</th>\n",
       "      <th>value</th>\n",
       "    </tr>\n",
       "  </thead>\n",
       "  <tbody>\n",
       "    <tr>\n",
       "      <th>0</th>\n",
       "      <td>clay_0_5cm_mean</td>\n",
       "      <td>189.00</td>\n",
       "    </tr>\n",
       "    <tr>\n",
       "      <th>1</th>\n",
       "      <td>silt_0_5cm_mean</td>\n",
       "      <td>198.00</td>\n",
       "    </tr>\n",
       "    <tr>\n",
       "      <th>2</th>\n",
       "      <td>sand_0_5cm_mean</td>\n",
       "      <td>615.00</td>\n",
       "    </tr>\n",
       "    <tr>\n",
       "      <th>3</th>\n",
       "      <td>soc_0_5cm_mean</td>\n",
       "      <td>21.60</td>\n",
       "    </tr>\n",
       "    <tr>\n",
       "      <th>4</th>\n",
       "      <td>nitrogen_0_5cm_mean</td>\n",
       "      <td>14.44</td>\n",
       "    </tr>\n",
       "  </tbody>\n",
       "</table>\n",
       "</div>"
      ],
      "text/plain": [
       "              variable   value\n",
       "0      clay_0_5cm_mean  189.00\n",
       "1      silt_0_5cm_mean  198.00\n",
       "2      sand_0_5cm_mean  615.00\n",
       "3       soc_0_5cm_mean   21.60\n",
       "4  nitrogen_0_5cm_mean   14.44"
      ]
     },
     "execution_count": 78,
     "metadata": {},
     "output_type": "execute_result"
    }
   ],
   "source": [
    "df['soc_0_5cm_mean']=df['soc_0_5cm_mean']*0.1\n",
    "df['nitrogen_0_5cm_mean']=df['nitrogen_0_5cm_mean']*0.01\n",
    "\n",
    "x = pd.melt(\n",
    "            df.head(1),\n",
    "            value_vars=['clay_0_5cm_mean',\n",
    "                        'silt_0_5cm_mean',\n",
    "                        'sand_0_5cm_mean',\n",
    "                        'soc_0_5cm_mean',\n",
    "                        'nitrogen_0_5cm_mean']\n",
    "            )\n",
    "\n",
    "x = x.dropna()\n"
   ]
  },
  {
   "cell_type": "code",
   "execution_count": 79,
   "id": "b63949c9",
   "metadata": {},
   "outputs": [],
   "source": [
    "x.to_csv(\"/Users/riteshtekriwal/Work/GitClones/bio-conservation/dashboard/soil_temp.csv\",index=False)\n"
   ]
  },
  {
   "cell_type": "code",
   "execution_count": 50,
   "id": "2cb4bd9e",
   "metadata": {},
   "outputs": [
    {
     "data": {
      "application/vnd.plotly.v1+json": {
       "config": {
        "plotlyServerURL": "https://plot.ly"
       },
       "data": [
        {
         "domain": {
          "x": [
           0,
           1
          ],
          "y": [
           0,
           1
          ]
         },
         "hole": 0.25,
         "hovertemplate": "variable=%{label}<br>value=%{value}<extra></extra>",
         "labels": [
          "clay_0_5cm_mean",
          "silt_0_5cm_mean",
          "sand_0_5cm_mean",
          "soc_0_5cm_mean",
          "nitrogen_0_5cm_mean"
         ],
         "legendgroup": "",
         "name": "",
         "showlegend": true,
         "textposition": "inside",
         "type": "pie",
         "values": [
          189,
          198,
          615,
          21600,
          14.44
         ]
        }
       ],
       "layout": {
        "legend": {
         "tracegroupgap": 0
        },
        "template": {
         "data": {
          "bar": [
           {
            "error_x": {
             "color": "#2a3f5f"
            },
            "error_y": {
             "color": "#2a3f5f"
            },
            "marker": {
             "line": {
              "color": "#E5ECF6",
              "width": 0.5
             },
             "pattern": {
              "fillmode": "overlay",
              "size": 10,
              "solidity": 0.2
             }
            },
            "type": "bar"
           }
          ],
          "barpolar": [
           {
            "marker": {
             "line": {
              "color": "#E5ECF6",
              "width": 0.5
             },
             "pattern": {
              "fillmode": "overlay",
              "size": 10,
              "solidity": 0.2
             }
            },
            "type": "barpolar"
           }
          ],
          "carpet": [
           {
            "aaxis": {
             "endlinecolor": "#2a3f5f",
             "gridcolor": "white",
             "linecolor": "white",
             "minorgridcolor": "white",
             "startlinecolor": "#2a3f5f"
            },
            "baxis": {
             "endlinecolor": "#2a3f5f",
             "gridcolor": "white",
             "linecolor": "white",
             "minorgridcolor": "white",
             "startlinecolor": "#2a3f5f"
            },
            "type": "carpet"
           }
          ],
          "choropleth": [
           {
            "colorbar": {
             "outlinewidth": 0,
             "ticks": ""
            },
            "type": "choropleth"
           }
          ],
          "contour": [
           {
            "colorbar": {
             "outlinewidth": 0,
             "ticks": ""
            },
            "colorscale": [
             [
              0,
              "#0d0887"
             ],
             [
              0.1111111111111111,
              "#46039f"
             ],
             [
              0.2222222222222222,
              "#7201a8"
             ],
             [
              0.3333333333333333,
              "#9c179e"
             ],
             [
              0.4444444444444444,
              "#bd3786"
             ],
             [
              0.5555555555555556,
              "#d8576b"
             ],
             [
              0.6666666666666666,
              "#ed7953"
             ],
             [
              0.7777777777777778,
              "#fb9f3a"
             ],
             [
              0.8888888888888888,
              "#fdca26"
             ],
             [
              1,
              "#f0f921"
             ]
            ],
            "type": "contour"
           }
          ],
          "contourcarpet": [
           {
            "colorbar": {
             "outlinewidth": 0,
             "ticks": ""
            },
            "type": "contourcarpet"
           }
          ],
          "heatmap": [
           {
            "colorbar": {
             "outlinewidth": 0,
             "ticks": ""
            },
            "colorscale": [
             [
              0,
              "#0d0887"
             ],
             [
              0.1111111111111111,
              "#46039f"
             ],
             [
              0.2222222222222222,
              "#7201a8"
             ],
             [
              0.3333333333333333,
              "#9c179e"
             ],
             [
              0.4444444444444444,
              "#bd3786"
             ],
             [
              0.5555555555555556,
              "#d8576b"
             ],
             [
              0.6666666666666666,
              "#ed7953"
             ],
             [
              0.7777777777777778,
              "#fb9f3a"
             ],
             [
              0.8888888888888888,
              "#fdca26"
             ],
             [
              1,
              "#f0f921"
             ]
            ],
            "type": "heatmap"
           }
          ],
          "heatmapgl": [
           {
            "colorbar": {
             "outlinewidth": 0,
             "ticks": ""
            },
            "colorscale": [
             [
              0,
              "#0d0887"
             ],
             [
              0.1111111111111111,
              "#46039f"
             ],
             [
              0.2222222222222222,
              "#7201a8"
             ],
             [
              0.3333333333333333,
              "#9c179e"
             ],
             [
              0.4444444444444444,
              "#bd3786"
             ],
             [
              0.5555555555555556,
              "#d8576b"
             ],
             [
              0.6666666666666666,
              "#ed7953"
             ],
             [
              0.7777777777777778,
              "#fb9f3a"
             ],
             [
              0.8888888888888888,
              "#fdca26"
             ],
             [
              1,
              "#f0f921"
             ]
            ],
            "type": "heatmapgl"
           }
          ],
          "histogram": [
           {
            "marker": {
             "pattern": {
              "fillmode": "overlay",
              "size": 10,
              "solidity": 0.2
             }
            },
            "type": "histogram"
           }
          ],
          "histogram2d": [
           {
            "colorbar": {
             "outlinewidth": 0,
             "ticks": ""
            },
            "colorscale": [
             [
              0,
              "#0d0887"
             ],
             [
              0.1111111111111111,
              "#46039f"
             ],
             [
              0.2222222222222222,
              "#7201a8"
             ],
             [
              0.3333333333333333,
              "#9c179e"
             ],
             [
              0.4444444444444444,
              "#bd3786"
             ],
             [
              0.5555555555555556,
              "#d8576b"
             ],
             [
              0.6666666666666666,
              "#ed7953"
             ],
             [
              0.7777777777777778,
              "#fb9f3a"
             ],
             [
              0.8888888888888888,
              "#fdca26"
             ],
             [
              1,
              "#f0f921"
             ]
            ],
            "type": "histogram2d"
           }
          ],
          "histogram2dcontour": [
           {
            "colorbar": {
             "outlinewidth": 0,
             "ticks": ""
            },
            "colorscale": [
             [
              0,
              "#0d0887"
             ],
             [
              0.1111111111111111,
              "#46039f"
             ],
             [
              0.2222222222222222,
              "#7201a8"
             ],
             [
              0.3333333333333333,
              "#9c179e"
             ],
             [
              0.4444444444444444,
              "#bd3786"
             ],
             [
              0.5555555555555556,
              "#d8576b"
             ],
             [
              0.6666666666666666,
              "#ed7953"
             ],
             [
              0.7777777777777778,
              "#fb9f3a"
             ],
             [
              0.8888888888888888,
              "#fdca26"
             ],
             [
              1,
              "#f0f921"
             ]
            ],
            "type": "histogram2dcontour"
           }
          ],
          "mesh3d": [
           {
            "colorbar": {
             "outlinewidth": 0,
             "ticks": ""
            },
            "type": "mesh3d"
           }
          ],
          "parcoords": [
           {
            "line": {
             "colorbar": {
              "outlinewidth": 0,
              "ticks": ""
             }
            },
            "type": "parcoords"
           }
          ],
          "pie": [
           {
            "automargin": true,
            "type": "pie"
           }
          ],
          "scatter": [
           {
            "fillpattern": {
             "fillmode": "overlay",
             "size": 10,
             "solidity": 0.2
            },
            "type": "scatter"
           }
          ],
          "scatter3d": [
           {
            "line": {
             "colorbar": {
              "outlinewidth": 0,
              "ticks": ""
             }
            },
            "marker": {
             "colorbar": {
              "outlinewidth": 0,
              "ticks": ""
             }
            },
            "type": "scatter3d"
           }
          ],
          "scattercarpet": [
           {
            "marker": {
             "colorbar": {
              "outlinewidth": 0,
              "ticks": ""
             }
            },
            "type": "scattercarpet"
           }
          ],
          "scattergeo": [
           {
            "marker": {
             "colorbar": {
              "outlinewidth": 0,
              "ticks": ""
             }
            },
            "type": "scattergeo"
           }
          ],
          "scattergl": [
           {
            "marker": {
             "colorbar": {
              "outlinewidth": 0,
              "ticks": ""
             }
            },
            "type": "scattergl"
           }
          ],
          "scattermapbox": [
           {
            "marker": {
             "colorbar": {
              "outlinewidth": 0,
              "ticks": ""
             }
            },
            "type": "scattermapbox"
           }
          ],
          "scatterpolar": [
           {
            "marker": {
             "colorbar": {
              "outlinewidth": 0,
              "ticks": ""
             }
            },
            "type": "scatterpolar"
           }
          ],
          "scatterpolargl": [
           {
            "marker": {
             "colorbar": {
              "outlinewidth": 0,
              "ticks": ""
             }
            },
            "type": "scatterpolargl"
           }
          ],
          "scatterternary": [
           {
            "marker": {
             "colorbar": {
              "outlinewidth": 0,
              "ticks": ""
             }
            },
            "type": "scatterternary"
           }
          ],
          "surface": [
           {
            "colorbar": {
             "outlinewidth": 0,
             "ticks": ""
            },
            "colorscale": [
             [
              0,
              "#0d0887"
             ],
             [
              0.1111111111111111,
              "#46039f"
             ],
             [
              0.2222222222222222,
              "#7201a8"
             ],
             [
              0.3333333333333333,
              "#9c179e"
             ],
             [
              0.4444444444444444,
              "#bd3786"
             ],
             [
              0.5555555555555556,
              "#d8576b"
             ],
             [
              0.6666666666666666,
              "#ed7953"
             ],
             [
              0.7777777777777778,
              "#fb9f3a"
             ],
             [
              0.8888888888888888,
              "#fdca26"
             ],
             [
              1,
              "#f0f921"
             ]
            ],
            "type": "surface"
           }
          ],
          "table": [
           {
            "cells": {
             "fill": {
              "color": "#EBF0F8"
             },
             "line": {
              "color": "white"
             }
            },
            "header": {
             "fill": {
              "color": "#C8D4E3"
             },
             "line": {
              "color": "white"
             }
            },
            "type": "table"
           }
          ]
         },
         "layout": {
          "annotationdefaults": {
           "arrowcolor": "#2a3f5f",
           "arrowhead": 0,
           "arrowwidth": 1
          },
          "autotypenumbers": "strict",
          "coloraxis": {
           "colorbar": {
            "outlinewidth": 0,
            "ticks": ""
           }
          },
          "colorscale": {
           "diverging": [
            [
             0,
             "#8e0152"
            ],
            [
             0.1,
             "#c51b7d"
            ],
            [
             0.2,
             "#de77ae"
            ],
            [
             0.3,
             "#f1b6da"
            ],
            [
             0.4,
             "#fde0ef"
            ],
            [
             0.5,
             "#f7f7f7"
            ],
            [
             0.6,
             "#e6f5d0"
            ],
            [
             0.7,
             "#b8e186"
            ],
            [
             0.8,
             "#7fbc41"
            ],
            [
             0.9,
             "#4d9221"
            ],
            [
             1,
             "#276419"
            ]
           ],
           "sequential": [
            [
             0,
             "#0d0887"
            ],
            [
             0.1111111111111111,
             "#46039f"
            ],
            [
             0.2222222222222222,
             "#7201a8"
            ],
            [
             0.3333333333333333,
             "#9c179e"
            ],
            [
             0.4444444444444444,
             "#bd3786"
            ],
            [
             0.5555555555555556,
             "#d8576b"
            ],
            [
             0.6666666666666666,
             "#ed7953"
            ],
            [
             0.7777777777777778,
             "#fb9f3a"
            ],
            [
             0.8888888888888888,
             "#fdca26"
            ],
            [
             1,
             "#f0f921"
            ]
           ],
           "sequentialminus": [
            [
             0,
             "#0d0887"
            ],
            [
             0.1111111111111111,
             "#46039f"
            ],
            [
             0.2222222222222222,
             "#7201a8"
            ],
            [
             0.3333333333333333,
             "#9c179e"
            ],
            [
             0.4444444444444444,
             "#bd3786"
            ],
            [
             0.5555555555555556,
             "#d8576b"
            ],
            [
             0.6666666666666666,
             "#ed7953"
            ],
            [
             0.7777777777777778,
             "#fb9f3a"
            ],
            [
             0.8888888888888888,
             "#fdca26"
            ],
            [
             1,
             "#f0f921"
            ]
           ]
          },
          "colorway": [
           "#636efa",
           "#EF553B",
           "#00cc96",
           "#ab63fa",
           "#FFA15A",
           "#19d3f3",
           "#FF6692",
           "#B6E880",
           "#FF97FF",
           "#FECB52"
          ],
          "font": {
           "color": "#2a3f5f"
          },
          "geo": {
           "bgcolor": "white",
           "lakecolor": "white",
           "landcolor": "#E5ECF6",
           "showlakes": true,
           "showland": true,
           "subunitcolor": "white"
          },
          "hoverlabel": {
           "align": "left"
          },
          "hovermode": "closest",
          "mapbox": {
           "style": "light"
          },
          "paper_bgcolor": "white",
          "plot_bgcolor": "#E5ECF6",
          "polar": {
           "angularaxis": {
            "gridcolor": "white",
            "linecolor": "white",
            "ticks": ""
           },
           "bgcolor": "#E5ECF6",
           "radialaxis": {
            "gridcolor": "white",
            "linecolor": "white",
            "ticks": ""
           }
          },
          "scene": {
           "xaxis": {
            "backgroundcolor": "#E5ECF6",
            "gridcolor": "white",
            "gridwidth": 2,
            "linecolor": "white",
            "showbackground": true,
            "ticks": "",
            "zerolinecolor": "white"
           },
           "yaxis": {
            "backgroundcolor": "#E5ECF6",
            "gridcolor": "white",
            "gridwidth": 2,
            "linecolor": "white",
            "showbackground": true,
            "ticks": "",
            "zerolinecolor": "white"
           },
           "zaxis": {
            "backgroundcolor": "#E5ECF6",
            "gridcolor": "white",
            "gridwidth": 2,
            "linecolor": "white",
            "showbackground": true,
            "ticks": "",
            "zerolinecolor": "white"
           }
          },
          "shapedefaults": {
           "line": {
            "color": "#2a3f5f"
           }
          },
          "ternary": {
           "aaxis": {
            "gridcolor": "white",
            "linecolor": "white",
            "ticks": ""
           },
           "baxis": {
            "gridcolor": "white",
            "linecolor": "white",
            "ticks": ""
           },
           "bgcolor": "#E5ECF6",
           "caxis": {
            "gridcolor": "white",
            "linecolor": "white",
            "ticks": ""
           }
          },
          "title": {
           "x": 0.05
          },
          "xaxis": {
           "automargin": true,
           "gridcolor": "white",
           "linecolor": "white",
           "ticks": "",
           "title": {
            "standoff": 15
           },
           "zerolinecolor": "white",
           "zerolinewidth": 2
          },
          "yaxis": {
           "automargin": true,
           "gridcolor": "white",
           "linecolor": "white",
           "ticks": "",
           "title": {
            "standoff": 15
           },
           "zerolinecolor": "white",
           "zerolinewidth": 2
          }
         }
        },
        "title": {
         "text": "Soil Compositon %"
        },
        "uniformtext": {
         "minsize": 12,
         "mode": "hide"
        }
       }
      }
     },
     "metadata": {},
     "output_type": "display_data"
    }
   ],
   "source": [
    "fig = px.pie(\n",
    "    x,\n",
    "    values='value',\n",
    "    names='variable',\n",
    "    title='Soil Compositon %',\n",
    "    hole=.25)\n",
    "fig.update_traces(textposition='inside')\n",
    "fig.update_layout(uniformtext_minsize=12, uniformtext_mode='hide')\n",
    "fig.show()\n",
    "# fig.show()"
   ]
  },
  {
   "cell_type": "code",
   "execution_count": 69,
   "id": "f759ed44",
   "metadata": {},
   "outputs": [
    {
     "data": {
      "application/vnd.plotly.v1+json": {
       "config": {
        "plotlyServerURL": "https://plot.ly"
       },
       "data": [
        {
         "labels": [
          "CoVariates",
          "Water",
          "Soil",
          "Temperature",
          "LandCover",
          "Clay",
          "Silt",
          "Sand"
         ],
         "parents": [
          "",
          "CoVariates",
          "CoVariates",
          "CoVariates",
          "CoVariates",
          "Soil",
          "Soil",
          "Soil"
         ],
         "type": "sunburst",
         "values": [
          0,
          25,
          25,
          25,
          25,
          10,
          5,
          10
         ]
        }
       ],
       "layout": {
        "margin": {
         "b": 0,
         "l": 0,
         "r": 0,
         "t": 0
        },
        "template": {
         "data": {
          "bar": [
           {
            "error_x": {
             "color": "#2a3f5f"
            },
            "error_y": {
             "color": "#2a3f5f"
            },
            "marker": {
             "line": {
              "color": "#E5ECF6",
              "width": 0.5
             },
             "pattern": {
              "fillmode": "overlay",
              "size": 10,
              "solidity": 0.2
             }
            },
            "type": "bar"
           }
          ],
          "barpolar": [
           {
            "marker": {
             "line": {
              "color": "#E5ECF6",
              "width": 0.5
             },
             "pattern": {
              "fillmode": "overlay",
              "size": 10,
              "solidity": 0.2
             }
            },
            "type": "barpolar"
           }
          ],
          "carpet": [
           {
            "aaxis": {
             "endlinecolor": "#2a3f5f",
             "gridcolor": "white",
             "linecolor": "white",
             "minorgridcolor": "white",
             "startlinecolor": "#2a3f5f"
            },
            "baxis": {
             "endlinecolor": "#2a3f5f",
             "gridcolor": "white",
             "linecolor": "white",
             "minorgridcolor": "white",
             "startlinecolor": "#2a3f5f"
            },
            "type": "carpet"
           }
          ],
          "choropleth": [
           {
            "colorbar": {
             "outlinewidth": 0,
             "ticks": ""
            },
            "type": "choropleth"
           }
          ],
          "contour": [
           {
            "colorbar": {
             "outlinewidth": 0,
             "ticks": ""
            },
            "colorscale": [
             [
              0,
              "#0d0887"
             ],
             [
              0.1111111111111111,
              "#46039f"
             ],
             [
              0.2222222222222222,
              "#7201a8"
             ],
             [
              0.3333333333333333,
              "#9c179e"
             ],
             [
              0.4444444444444444,
              "#bd3786"
             ],
             [
              0.5555555555555556,
              "#d8576b"
             ],
             [
              0.6666666666666666,
              "#ed7953"
             ],
             [
              0.7777777777777778,
              "#fb9f3a"
             ],
             [
              0.8888888888888888,
              "#fdca26"
             ],
             [
              1,
              "#f0f921"
             ]
            ],
            "type": "contour"
           }
          ],
          "contourcarpet": [
           {
            "colorbar": {
             "outlinewidth": 0,
             "ticks": ""
            },
            "type": "contourcarpet"
           }
          ],
          "heatmap": [
           {
            "colorbar": {
             "outlinewidth": 0,
             "ticks": ""
            },
            "colorscale": [
             [
              0,
              "#0d0887"
             ],
             [
              0.1111111111111111,
              "#46039f"
             ],
             [
              0.2222222222222222,
              "#7201a8"
             ],
             [
              0.3333333333333333,
              "#9c179e"
             ],
             [
              0.4444444444444444,
              "#bd3786"
             ],
             [
              0.5555555555555556,
              "#d8576b"
             ],
             [
              0.6666666666666666,
              "#ed7953"
             ],
             [
              0.7777777777777778,
              "#fb9f3a"
             ],
             [
              0.8888888888888888,
              "#fdca26"
             ],
             [
              1,
              "#f0f921"
             ]
            ],
            "type": "heatmap"
           }
          ],
          "heatmapgl": [
           {
            "colorbar": {
             "outlinewidth": 0,
             "ticks": ""
            },
            "colorscale": [
             [
              0,
              "#0d0887"
             ],
             [
              0.1111111111111111,
              "#46039f"
             ],
             [
              0.2222222222222222,
              "#7201a8"
             ],
             [
              0.3333333333333333,
              "#9c179e"
             ],
             [
              0.4444444444444444,
              "#bd3786"
             ],
             [
              0.5555555555555556,
              "#d8576b"
             ],
             [
              0.6666666666666666,
              "#ed7953"
             ],
             [
              0.7777777777777778,
              "#fb9f3a"
             ],
             [
              0.8888888888888888,
              "#fdca26"
             ],
             [
              1,
              "#f0f921"
             ]
            ],
            "type": "heatmapgl"
           }
          ],
          "histogram": [
           {
            "marker": {
             "pattern": {
              "fillmode": "overlay",
              "size": 10,
              "solidity": 0.2
             }
            },
            "type": "histogram"
           }
          ],
          "histogram2d": [
           {
            "colorbar": {
             "outlinewidth": 0,
             "ticks": ""
            },
            "colorscale": [
             [
              0,
              "#0d0887"
             ],
             [
              0.1111111111111111,
              "#46039f"
             ],
             [
              0.2222222222222222,
              "#7201a8"
             ],
             [
              0.3333333333333333,
              "#9c179e"
             ],
             [
              0.4444444444444444,
              "#bd3786"
             ],
             [
              0.5555555555555556,
              "#d8576b"
             ],
             [
              0.6666666666666666,
              "#ed7953"
             ],
             [
              0.7777777777777778,
              "#fb9f3a"
             ],
             [
              0.8888888888888888,
              "#fdca26"
             ],
             [
              1,
              "#f0f921"
             ]
            ],
            "type": "histogram2d"
           }
          ],
          "histogram2dcontour": [
           {
            "colorbar": {
             "outlinewidth": 0,
             "ticks": ""
            },
            "colorscale": [
             [
              0,
              "#0d0887"
             ],
             [
              0.1111111111111111,
              "#46039f"
             ],
             [
              0.2222222222222222,
              "#7201a8"
             ],
             [
              0.3333333333333333,
              "#9c179e"
             ],
             [
              0.4444444444444444,
              "#bd3786"
             ],
             [
              0.5555555555555556,
              "#d8576b"
             ],
             [
              0.6666666666666666,
              "#ed7953"
             ],
             [
              0.7777777777777778,
              "#fb9f3a"
             ],
             [
              0.8888888888888888,
              "#fdca26"
             ],
             [
              1,
              "#f0f921"
             ]
            ],
            "type": "histogram2dcontour"
           }
          ],
          "mesh3d": [
           {
            "colorbar": {
             "outlinewidth": 0,
             "ticks": ""
            },
            "type": "mesh3d"
           }
          ],
          "parcoords": [
           {
            "line": {
             "colorbar": {
              "outlinewidth": 0,
              "ticks": ""
             }
            },
            "type": "parcoords"
           }
          ],
          "pie": [
           {
            "automargin": true,
            "type": "pie"
           }
          ],
          "scatter": [
           {
            "fillpattern": {
             "fillmode": "overlay",
             "size": 10,
             "solidity": 0.2
            },
            "type": "scatter"
           }
          ],
          "scatter3d": [
           {
            "line": {
             "colorbar": {
              "outlinewidth": 0,
              "ticks": ""
             }
            },
            "marker": {
             "colorbar": {
              "outlinewidth": 0,
              "ticks": ""
             }
            },
            "type": "scatter3d"
           }
          ],
          "scattercarpet": [
           {
            "marker": {
             "colorbar": {
              "outlinewidth": 0,
              "ticks": ""
             }
            },
            "type": "scattercarpet"
           }
          ],
          "scattergeo": [
           {
            "marker": {
             "colorbar": {
              "outlinewidth": 0,
              "ticks": ""
             }
            },
            "type": "scattergeo"
           }
          ],
          "scattergl": [
           {
            "marker": {
             "colorbar": {
              "outlinewidth": 0,
              "ticks": ""
             }
            },
            "type": "scattergl"
           }
          ],
          "scattermapbox": [
           {
            "marker": {
             "colorbar": {
              "outlinewidth": 0,
              "ticks": ""
             }
            },
            "type": "scattermapbox"
           }
          ],
          "scatterpolar": [
           {
            "marker": {
             "colorbar": {
              "outlinewidth": 0,
              "ticks": ""
             }
            },
            "type": "scatterpolar"
           }
          ],
          "scatterpolargl": [
           {
            "marker": {
             "colorbar": {
              "outlinewidth": 0,
              "ticks": ""
             }
            },
            "type": "scatterpolargl"
           }
          ],
          "scatterternary": [
           {
            "marker": {
             "colorbar": {
              "outlinewidth": 0,
              "ticks": ""
             }
            },
            "type": "scatterternary"
           }
          ],
          "surface": [
           {
            "colorbar": {
             "outlinewidth": 0,
             "ticks": ""
            },
            "colorscale": [
             [
              0,
              "#0d0887"
             ],
             [
              0.1111111111111111,
              "#46039f"
             ],
             [
              0.2222222222222222,
              "#7201a8"
             ],
             [
              0.3333333333333333,
              "#9c179e"
             ],
             [
              0.4444444444444444,
              "#bd3786"
             ],
             [
              0.5555555555555556,
              "#d8576b"
             ],
             [
              0.6666666666666666,
              "#ed7953"
             ],
             [
              0.7777777777777778,
              "#fb9f3a"
             ],
             [
              0.8888888888888888,
              "#fdca26"
             ],
             [
              1,
              "#f0f921"
             ]
            ],
            "type": "surface"
           }
          ],
          "table": [
           {
            "cells": {
             "fill": {
              "color": "#EBF0F8"
             },
             "line": {
              "color": "white"
             }
            },
            "header": {
             "fill": {
              "color": "#C8D4E3"
             },
             "line": {
              "color": "white"
             }
            },
            "type": "table"
           }
          ]
         },
         "layout": {
          "annotationdefaults": {
           "arrowcolor": "#2a3f5f",
           "arrowhead": 0,
           "arrowwidth": 1
          },
          "autotypenumbers": "strict",
          "coloraxis": {
           "colorbar": {
            "outlinewidth": 0,
            "ticks": ""
           }
          },
          "colorscale": {
           "diverging": [
            [
             0,
             "#8e0152"
            ],
            [
             0.1,
             "#c51b7d"
            ],
            [
             0.2,
             "#de77ae"
            ],
            [
             0.3,
             "#f1b6da"
            ],
            [
             0.4,
             "#fde0ef"
            ],
            [
             0.5,
             "#f7f7f7"
            ],
            [
             0.6,
             "#e6f5d0"
            ],
            [
             0.7,
             "#b8e186"
            ],
            [
             0.8,
             "#7fbc41"
            ],
            [
             0.9,
             "#4d9221"
            ],
            [
             1,
             "#276419"
            ]
           ],
           "sequential": [
            [
             0,
             "#0d0887"
            ],
            [
             0.1111111111111111,
             "#46039f"
            ],
            [
             0.2222222222222222,
             "#7201a8"
            ],
            [
             0.3333333333333333,
             "#9c179e"
            ],
            [
             0.4444444444444444,
             "#bd3786"
            ],
            [
             0.5555555555555556,
             "#d8576b"
            ],
            [
             0.6666666666666666,
             "#ed7953"
            ],
            [
             0.7777777777777778,
             "#fb9f3a"
            ],
            [
             0.8888888888888888,
             "#fdca26"
            ],
            [
             1,
             "#f0f921"
            ]
           ],
           "sequentialminus": [
            [
             0,
             "#0d0887"
            ],
            [
             0.1111111111111111,
             "#46039f"
            ],
            [
             0.2222222222222222,
             "#7201a8"
            ],
            [
             0.3333333333333333,
             "#9c179e"
            ],
            [
             0.4444444444444444,
             "#bd3786"
            ],
            [
             0.5555555555555556,
             "#d8576b"
            ],
            [
             0.6666666666666666,
             "#ed7953"
            ],
            [
             0.7777777777777778,
             "#fb9f3a"
            ],
            [
             0.8888888888888888,
             "#fdca26"
            ],
            [
             1,
             "#f0f921"
            ]
           ]
          },
          "colorway": [
           "#636efa",
           "#EF553B",
           "#00cc96",
           "#ab63fa",
           "#FFA15A",
           "#19d3f3",
           "#FF6692",
           "#B6E880",
           "#FF97FF",
           "#FECB52"
          ],
          "font": {
           "color": "#2a3f5f"
          },
          "geo": {
           "bgcolor": "white",
           "lakecolor": "white",
           "landcolor": "#E5ECF6",
           "showlakes": true,
           "showland": true,
           "subunitcolor": "white"
          },
          "hoverlabel": {
           "align": "left"
          },
          "hovermode": "closest",
          "mapbox": {
           "style": "light"
          },
          "paper_bgcolor": "white",
          "plot_bgcolor": "#E5ECF6",
          "polar": {
           "angularaxis": {
            "gridcolor": "white",
            "linecolor": "white",
            "ticks": ""
           },
           "bgcolor": "#E5ECF6",
           "radialaxis": {
            "gridcolor": "white",
            "linecolor": "white",
            "ticks": ""
           }
          },
          "scene": {
           "xaxis": {
            "backgroundcolor": "#E5ECF6",
            "gridcolor": "white",
            "gridwidth": 2,
            "linecolor": "white",
            "showbackground": true,
            "ticks": "",
            "zerolinecolor": "white"
           },
           "yaxis": {
            "backgroundcolor": "#E5ECF6",
            "gridcolor": "white",
            "gridwidth": 2,
            "linecolor": "white",
            "showbackground": true,
            "ticks": "",
            "zerolinecolor": "white"
           },
           "zaxis": {
            "backgroundcolor": "#E5ECF6",
            "gridcolor": "white",
            "gridwidth": 2,
            "linecolor": "white",
            "showbackground": true,
            "ticks": "",
            "zerolinecolor": "white"
           }
          },
          "shapedefaults": {
           "line": {
            "color": "#2a3f5f"
           }
          },
          "ternary": {
           "aaxis": {
            "gridcolor": "white",
            "linecolor": "white",
            "ticks": ""
           },
           "baxis": {
            "gridcolor": "white",
            "linecolor": "white",
            "ticks": ""
           },
           "bgcolor": "#E5ECF6",
           "caxis": {
            "gridcolor": "white",
            "linecolor": "white",
            "ticks": ""
           }
          },
          "title": {
           "x": 0.05
          },
          "xaxis": {
           "automargin": true,
           "gridcolor": "white",
           "linecolor": "white",
           "ticks": "",
           "title": {
            "standoff": 15
           },
           "zerolinecolor": "white",
           "zerolinewidth": 2
          },
          "yaxis": {
           "automargin": true,
           "gridcolor": "white",
           "linecolor": "white",
           "ticks": "",
           "title": {
            "standoff": 15
           },
           "zerolinecolor": "white",
           "zerolinewidth": 2
          }
         }
        }
       }
      }
     },
     "metadata": {},
     "output_type": "display_data"
    }
   ],
   "source": [
    "import plotly.graph_objects as go\n",
    "\n",
    "fig =go.Figure(go.Sunburst(\n",
    "    # labels=[\"Eve\", \"Cain\", \"Seth\", \"Enos\", \"Noam\", \"Abel\", \"Awan\", \"Enoch\", \"Azura\"],\n",
    "    # parents=[\"\"  , \"Eve\", \"Eve\", \"Seth\", \"Seth\", \"Eve\", \"Eve\", \"Awan\", \"Eve\" ],\n",
    "    labels=[\"CoVariates\", \"Water\", \"Soil\", \"Temperature\",\"LandCover\",\"Clay\",\"Silt\",\"Sand\"],\n",
    "    parents=[\"\"  , \"CoVariates\", \"CoVariates\", \"CoVariates\", \"CoVariates\", \"Soil\", \"Soil\", \"Soil\" ],\n",
    "    values=[0, 25, 25, 25, 25,10,5,10],\n",
    "))\n",
    "fig.update_layout(margin = dict(t=0, l=0, r=0, b=0))\n",
    "\n",
    "fig.show()"
   ]
  },
  {
   "cell_type": "code",
   "execution_count": 47,
   "id": "f5fbc197",
   "metadata": {},
   "outputs": [
    {
     "data": {
      "text/plain": [
       "[189.0, 198.0, 615.0, 21600.0, 14.44]"
      ]
     },
     "execution_count": 47,
     "metadata": {},
     "output_type": "execute_result"
    }
   ],
   "source": [
    "list(x['value'])"
   ]
  },
  {
   "cell_type": "code",
   "execution_count": null,
   "metadata": {},
   "outputs": [],
   "source": []
  },
  {
   "cell_type": "code",
   "execution_count": null,
   "id": "37178231",
   "metadata": {},
   "outputs": [],
   "source": []
  },
  {
   "cell_type": "code",
   "execution_count": null,
   "id": "3439f9d0",
   "metadata": {},
   "outputs": [],
   "source": []
  },
  {
   "cell_type": "code",
   "execution_count": null,
   "id": "3d732c9a",
   "metadata": {},
   "outputs": [],
   "source": []
  },
  {
   "cell_type": "code",
   "execution_count": null,
   "id": "b8bbbfd0",
   "metadata": {},
   "outputs": [],
   "source": []
  },
  {
   "cell_type": "code",
   "execution_count": null,
   "id": "65d8f624",
   "metadata": {},
   "outputs": [],
   "source": []
  },
  {
   "cell_type": "code",
   "execution_count": null,
   "id": "b53ab6df",
   "metadata": {},
   "outputs": [],
   "source": []
  },
  {
   "cell_type": "code",
   "execution_count": null,
   "id": "e49b7f95",
   "metadata": {
    "ExecuteTime": {
     "end_time": "2022-07-30T23:41:44.656647Z",
     "start_time": "2022-07-30T23:41:44.273792Z"
    }
   },
   "outputs": [],
   "source": [
    "#### all the filter widgets we need\n",
    "# latitude = pn.widgets.FloatInput(name='Latitude', value=5., step=1e-1, \n",
    "#                                  start=min(df.decimalLatitude), end=max(df.decimalLatitude), width=150)\n",
    "# longitude = pn.widgets.FloatInput(name='Longitude', value=5., step=1e-1,\n",
    "#                                   start=min(df.decimalLongitude), end=min(df.decimalLongitude), width=150)\n",
    "\n",
    "\n",
    "event_date = pn.widgets.DateRangeSlider(\n",
    "    name='Date Range',\n",
    "    start=min(pd.to_datetime(df['eventDate'])), end=max(pd.to_datetime(df['eventDate'])),\n",
    "    value=(dt.date(2021, 1, 1), dt.date(2021, 12, 1)),\n",
    ")\n",
    "# pn.widgets.DatePicker(,)\n",
    "country_list = (list(df_species_names.country.unique()))\n",
    "country = pn.widgets.Select(name='Country',width = 300, options=country_list)\n",
    "\n",
    "# species = pn.widgets.AutocompleteInput(\n",
    "#     name = 'Species',\n",
    "#     # width=400,\n",
    "#     options=sorted(list(df_species_names[df_species_names[\"country\" ]== country.value].genericName.dropna().unique())),\n",
    "#     min_characters = 1,\n",
    "#     case_sensitive=False,\n",
    "#     placeholder='Enter your Species')\n",
    "species_list = ['All']+ (list(df_species_names[df_species_names[\"country\" ]== country.value].genericName.unique()))\n",
    "species = pn.widgets.Select(\n",
    "    name='Species',\n",
    "    width= 400,\n",
    "    options=species_list)\n",
    "@pn.depends(country.value, watch=True)\n",
    "def _update_species(country):\n",
    "    species.options =  list(df_species_names[df_species_names[\"country\" ]== country.value].genericName.dropna().unique()).sort()\n",
    "    species.value = list(df_species_names[df_species_names[\"country\" ]== country.value].genericName.dropna().unique()).sort()[0]\n",
    "\n",
    "\n",
    "\n",
    "\n",
    "\n",
    "# print(\"============Country:%s\" % (country.value))\n",
    "\n",
    "button = pn.widgets.Button(name='Update Plots', width= 200, button_type='success')\n",
    "\n",
    "\n",
    "#### all our plot functions\n",
    "### the world map view of occurrence data\n",
    "def occ_plot(df=df):\n",
    "    # fig = px.scatter_geo(df, lat=\"decimalLatitude\", lon='decimalLongitude', color='species')\n",
    "    # ## making the background transparent below\n",
    "    # fig.update_layout({\n",
    "    # 'plot_bgcolor': 'rgba(0, 0, 0, 0)',\n",
    "    # 'paper_bgcolor': 'rgba(0, 0, 0, 0)'\n",
    "    # },\n",
    "    # margin=dict(t=0, b=0, l=0, r=0))\n",
    "\n",
    "    # fig = folium.Map(location=[df['decimalLatitude'].mean(), df['decimalLongitude'].mean()],\n",
    "    #                 zoom_start=5, control_scale=True,prefer_canvas=True)\n",
    "    # # folium.Circle().add_to(m)\n",
    "\n",
    "\n",
    "    # for i in range(0,len(df)):\n",
    "    #     folium.Circle(\n",
    "    #         location=[df.iloc[i]['decimalLatitude'], df.iloc[i]['decimalLongitude']],\n",
    "    #         popup=df.iloc[i]['acceptedScientificName'],\n",
    "    #         radius=1000,\n",
    "    #         # color=df.iloc[i]['acceptedScientificName'],\n",
    "    #         # fill=True,\n",
    "    #         color='r',\n",
    "    #         # fill_color=colordict[index],\n",
    "    #         fill_opacity=0.7,\n",
    "    #         fill=True,\n",
    "    #         # fill_color='red'\n",
    "    #     ).add_to(fig)\n",
    "\n",
    "    # folium.LayerControl().add_to(fig)\n",
    "\n",
    "    # minimap = plugins.MiniMap(toggle_display=True)\n",
    "\n",
    "    # m.add_child(minimap)\n",
    "    # add full screen button to map\n",
    "    # plugins.Fullscreen(position='topright').add_to(fig)\n",
    "    # draw = plugins.Draw(export=True)\n",
    "    # add draw tools to map\n",
    "    # draw.add_to(fig)\n",
    "\n",
    "\n",
    "    df = df.head(500)\n",
    "    df['point_size'] = 15\n",
    "    fig = px.scatter_mapbox(\n",
    "        df,\n",
    "        lat=\"decimalLatitude\",\n",
    "        lon=\"decimalLongitude\",\n",
    "        color=\"genericName\",\n",
    "        color_continuous_scale=px.colors.cyclical.IceFire,\n",
    "        size = 'point_size',\n",
    "        zoom=5,\n",
    "        mapbox_style=\"open-street-map\")\n",
    "\n",
    "    fig.update_layout(showlegend=False) \n",
    "\n",
    "    \n",
    "    return fig\n",
    "\n",
    "## create the world scatter plot\n",
    "plot_scatter = pn.pane.Plotly(occ_plot(),width= 1050, height= 550)\n",
    "\n",
    "\n",
    "## function for creating the treemap to show specific point wise values \n",
    "def create_cards(df, query=None):\n",
    "    if query:\n",
    "        ## filter the dataframe to the selected point\n",
    "        df = df.query(query)\n",
    "        df = pd.melt(df, value_vars=['avg_radiance', 'is_invasive', 'avg_deg_urban'])\n",
    "        fig = px.treemap(df, path=['variable'], values='value')\n",
    "        fig.data[0].textinfo = 'label+value'\n",
    "\n",
    "        level = 1 # write the number of the last level you have\n",
    "        lvl_clr = \"#5cb25d\"\n",
    "        font_clr = \"black\"\n",
    "\n",
    "        fig.data[0]['marker']['colors'] =[lvl_clr for sector in fig.data[0]['ids'] if len(sector.split(\"/\")) == level]\n",
    "        fig.data[0]['textfont']['color'] = [font_clr  for sector in fig.data[0]['ids'] if len(sector.split(\"/\")) == level]\n",
    "\n",
    "        fig.data[0]['textfont']['size'] = 30\n",
    "        return  fig\n",
    "\n",
    "\n",
    "###instantiate the cards plot\n",
    "plot_cards = pn.pane.Plotly(create_cards(df, f'decimalLatitude == -22.258903'), width=400, height=400)\n",
    "\n",
    "\n",
    "## function for creating the treemap to show specific point wise values \n",
    "def create_trends(df, query=None):\n",
    "    if query:\n",
    "        ## filter the dataframe to the selected point\n",
    "        df = df.query(query)\n",
    "        \n",
    "        print(df.eventDate)\n",
    "        start = dt.datetime(2018, 1, 1)\n",
    "        end = dt.datetime(2018, 12, 31)\n",
    "\n",
    "        # Create Point for Vancouver, BC\n",
    "#         pt = Point(df.loc[0,'decimalLatitude'], df.loc[0,'decimalLongitude'], 0)\n",
    "        pt = Point(53.033981, -1.380991, 0)\n",
    "\n",
    "        # Get daily data for 2018\n",
    "        data = Daily(pt, start, end)\n",
    "        data = data.fetch().reset_index(level=0)\n",
    "        if data.shape[0] > 0:\n",
    "            fig = px.line(data, x='time', y='tavg', template='plotly_white',\n",
    "                          title='Climate Covariates')\n",
    "            fig.update_layout(width=600)\n",
    "            return  fig\n",
    "\n",
    "\n",
    "###instantiate the cards plot\n",
    "plot_trends = pn.pane.Plotly(create_trends(df, f'decimalLatitude == -22.258903'), width=400, height=400)\n",
    "\n",
    "## display data, can delete\n",
    "cols = ['decimalLatitude','decimalLongitude', 'eventDate', 'species']\n",
    "display_data = pn.widgets.DataFrame(df[cols].head(5))\n",
    "\n",
    "## dependent hidden function to run when a point is clicked in the plot_scatter\n",
    "@pn.depends(plot_scatter.param.click_data, watch=True)\n",
    "def _update_after_click_on_1(click_data):\n",
    "    if click_data !=None:\n",
    "        lat = click_data['points'][0]['lat']\n",
    "        lon = click_data['points'][0]['lon']\n",
    "        plot_cards.object = create_cards(df, f'decimalLatitude == {lat}')\n",
    "\n",
    "\n",
    "def query(start=\"2022-04-04\", end=\"2022-04-04\", country='', species = ''):\n",
    "\n",
    "    # sql = f\"\"\"\n",
    "    # SELECT\n",
    "    #     *\n",
    "    # FROM `gbif-challenge.airflow_uploads.gbif_combined`\n",
    "    # WHERE DATE(eventDate) BETWEEN \"{start}\" AND \"{end}\" AND country in (\"{country}\") AND genericName in (\"{species}\")\" \n",
    "    # \"\"\"\n",
    "\n",
    "    if species is not 'All':\n",
    "        sql = f\"\"\"\n",
    "        SELECT\n",
    "            *\n",
    "        FROM `gbif-challenge.airflow_uploads.gbif_combined`\n",
    "        WHERE country in (\"{country}\") AND genericName in (\"{species}\")\n",
    "        \"\"\"\n",
    "\n",
    "        print(sql)\n",
    "\n",
    "        bq = client.query(sql).to_dataframe() \n",
    "    else :\n",
    "        bq = df.copy()\n",
    "    return bq\n",
    "    \n",
    "def fetch_data(start=\"2022-04-04\", end=\"2022-04-04\"):\n",
    "    global df, cols\n",
    "    if button.clicks > 0:\n",
    "        bq = query(event_date.value[0].strftime('%Y-%m-%d'), event_date.value[0].strftime('%Y-%m-%d'), country=country.value, species=species.value) ###change this to 1\n",
    "        df = bq.copy()\n",
    "        plot_scatter.object = occ_plot(df)\n",
    "        plot_cards.object = create_cards(df, f\"decimalLatitude == {df.loc[0,'decimalLatitude']}\")\n",
    "        plot_trends.object = create_trends(df, f\"decimalLatitude == {df.loc[0,'decimalLatitude']}\")\n",
    "\n",
    "        plot_species.object = species_counts(df)\n",
    "        display_data.value = df[cols]\n",
    "        \n",
    "### placeholder histogram plot of species counts\n",
    "def species_counts(df=df):\n",
    "    fig = px.histogram(df, y=\"species\",color_discrete_sequence=['#5cb25d'])\n",
    "    fig.update_layout({\n",
    "    'plot_bgcolor': 'rgba(0, 0, 0, 0)',\n",
    "    'paper_bgcolor': 'rgba(0, 0, 0, 0)',\n",
    "    })\n",
    "    return fig\n",
    "    \n",
    "plot_species = pn.pane.Plotly(species_counts())\n",
    "\n",
    "\n",
    "button.on_click(fetch_data)"
   ]
  },
  {
   "cell_type": "code",
   "execution_count": null,
   "id": "fcceb92a",
   "metadata": {
    "ExecuteTime": {
     "end_time": "2022-07-30T06:57:02.771798Z",
     "start_time": "2022-07-30T06:56:57.883218Z"
    }
   },
   "outputs": [],
   "source": [
    "## The main template to render, sidebar for text\n",
    "\n",
    "template = pn.template.FastGridTemplate(\n",
    "    title=\"🌏 GBIF Powered by Covariates\",\n",
    "#     sidebar=[\"We are interested bleh bleh bleh\",\n",
    "#              pn.pane.Markdown(\"## Select Filters\"), latitude, longitude,\n",
    "#              '', event_date, '', species, '', country, button],\n",
    "    header = ['<a href=\"https://github.com/tekritesh/bio-conservation/tree/main\">About</a>'],\n",
    "    sidebar=[\"\"\"We are interested bleh bleh bleh.\\n We will hunt you down if you harm ANY flora or fauna.\"\"\"],\n",
    "    accent = '#5cb25d', sidebar_width = 280, background_color = '#f5f5f5',\n",
    "    neutral_color = '#ffffff',\n",
    "    corner_radius = 15\n",
    ")\n",
    "\n",
    "### specify which portion of the main page grid you want to place a plot in\n",
    "\n",
    "template.main[:1, :] = pn.Row(\n",
    "    # pn.Column(latitude, longitude),\n",
    "                              pn.Column(country),\n",
    "                              pn.Column(species),\n",
    "                            #   event_date,\n",
    "                              pn.Column(button))\n",
    "\n",
    "template.main[1:5, :]=pn.Tabs(('GBIF',pn.Column(plot_scatter)),\n",
    "                              ('Radiance', pn.pane.HTML(HTML('map1.html'), width=600)), dynamic=True)\n",
    "\n",
    "template.main[5:9, :4] = pn.Column(plot_cards)\n",
    "\n",
    "template.main[5:9, 6:12]= pn.Column('### Species Counts', plot_species, height=400)\n",
    "template.main[9:11, :]= pn.Column(display_data, height=300, width = 1000)\n",
    "\n",
    "template.main[11:13, :] = pn.Column(plot_trends)\n",
    "\n",
    "\n",
    "\n",
    "###color examples\n",
    "##77cb\n",
    "#'#faad55'\n",
    "#'#f0a3bc'\n",
    "#a18dd6"
   ]
  },
  {
   "cell_type": "code",
   "execution_count": null,
   "id": "b29b2b08",
   "metadata": {
    "ExecuteTime": {
     "end_time": "2022-07-29T05:04:33.293854Z",
     "start_time": "2022-07-29T05:04:33.287170Z"
    }
   },
   "outputs": [],
   "source": [
    "## tells the terminal command to run the template variable as a dashboard\n",
    "\n",
    "template.servable();"
   ]
  },
  {
   "cell_type": "code",
   "execution_count": null,
   "id": "f06f2f6d",
   "metadata": {},
   "outputs": [],
   "source": [
    "####extra code\n",
    "\n",
    "# center_lat = -3.497341\n",
    "# center_lon = 38.642394\n",
    "\n",
    "# zoomlevel=15\n",
    "\n",
    "# get December image, we're using the \"avg_rad\" band\n",
    "# viirs2020_01 = ee.ImageCollection(\"NOAA/VIIRS/DNB/MONTHLY_V1/VCMSLCFG\").filterDate(\"2022-01-01\",\"2022-01-31\").select('avg_rad').median()\n",
    "\n",
    "\n",
    "# initialize our map\n",
    "# map1 = geemap.Map()\n",
    "# map1.addLayer(viirs2020_01, {}, \"VIIRS-DNB\")\n",
    "#map1.to_html('map1.html')\n",
    "\n",
    "# def get_map(lat=20.5936832, long=78.962883, zoom_start=5):\n",
    "#     mm = fm.Map(location=[lat,long], zoom_start=zoom_start)\n",
    "#     return mm\n",
    "\n",
    "# map = get_map()\n",
    "\n",
    "\n",
    "# @pn.depends(button.param.clicks, watch=True)\n",
    "# def fetch_data(clicks,start=\"2022-04-04\", end=\"2022-04-04\"):\n",
    "#     ##de = \"2022-04-04\"\\\n",
    "#     #end = event_date.value[0].strftime('%Y-%m-%d')\n",
    "#     cols = ['decimalLatitude','decimalLongitude', 'eventDate', 'species']\n",
    "#     if clicks > 0:\n",
    "#         global df\n",
    "#         sql = f\"\"\"\n",
    "#         SELECT\n",
    "#             *\n",
    "#         FROM `gbif-challenge.airflow_uploads.gbif_combined`\n",
    "#         WHERE DATE(eventDate) BETWEEN \"{start}\" AND \"{end}\"\n",
    "#         \"\"\"\n",
    "#         bq = client.query(sql).to_dataframe() \n",
    "#         plot_scatter.object = occ_plot(bq)\n",
    "#         plot_cards.object = create_cards(bq, f\"decimalLatitude == {bq.loc[0,'decimalLatitude']}\")\n",
    "#         plot_species.object = species_counts(bq)\n",
    "#         df = bq.copy()\n",
    "#         return pn.widgets.DataFrame(df[cols].head(20))\n",
    "    "
   ]
  },
  {
   "cell_type": "code",
   "execution_count": 103,
   "id": "d24564f0",
   "metadata": {
    "ExecuteTime": {
     "end_time": "2022-07-30T21:56:26.536853Z",
     "start_time": "2022-07-30T21:56:25.439210Z"
    }
   },
   "outputs": [
    {
     "data": {
      "image/png": "[encoded data removed]",
      "text/plain": [
       "<PIL.Image.Image image mode=RGB size=400x200>"
      ]
     },
     "execution_count": 103,
     "metadata": {},
     "output_type": "execute_result"
    }
   ],
   "source": [
    "from wordcloud import WordCloud\n",
    "df1 = pd.DataFrame({\n",
    "    'Title': ['MaxTemp:43','MinTemp:42','AvgTemp:5','Snowfal:F'],\n",
    "    'Count': [0.1,0.1,0.5,0.4,]})\n",
    "d = {a: x for a, x in df1.values}\n",
    "wc = WordCloud(background_color='white', width=400, height=200)\n",
    "wc.fit_words(d)\n",
    "wc.to_image()"
   ]
  },
  {
   "cell_type": "code",
   "execution_count": 106,
   "id": "245c6d40",
   "metadata": {},
   "outputs": [
    {
     "data": {
      "text/html": [
       "<div>\n",
       "<style scoped>\n",
       "    .dataframe tbody tr th:only-of-type {\n",
       "        vertical-align: middle;\n",
       "    }\n",
       "\n",
       "    .dataframe tbody tr th {\n",
       "        vertical-align: top;\n",
       "    }\n",
       "\n",
       "    .dataframe thead th {\n",
       "        text-align: right;\n",
       "    }\n",
       "</style>\n",
       "<table border=\"1\" class=\"dataframe\">\n",
       "  <thead>\n",
       "    <tr style=\"text-align: right;\">\n",
       "      <th></th>\n",
       "      <th>variable</th>\n",
       "      <th>value</th>\n",
       "    </tr>\n",
       "  </thead>\n",
       "  <tbody>\n",
       "    <tr>\n",
       "      <th>0</th>\n",
       "      <td>land_cover_label</td>\n",
       "      <td>trees</td>\n",
       "    </tr>\n",
       "    <tr>\n",
       "      <th>1</th>\n",
       "      <td>snow</td>\n",
       "      <td>NaN</td>\n",
       "    </tr>\n",
       "    <tr>\n",
       "      <th>2</th>\n",
       "      <td>is_invasive</td>\n",
       "      <td>False</td>\n",
       "    </tr>\n",
       "    <tr>\n",
       "      <th>3</th>\n",
       "      <td>species</td>\n",
       "      <td>Rupornis magnirostris</td>\n",
       "    </tr>\n",
       "  </tbody>\n",
       "</table>\n",
       "</div>"
      ],
      "text/plain": [
       "           variable                  value\n",
       "0  land_cover_label                  trees\n",
       "1              snow                    NaN\n",
       "2       is_invasive                  False\n",
       "3           species  Rupornis magnirostris"
      ]
     },
     "execution_count": 106,
     "metadata": {},
     "output_type": "execute_result"
    }
   ],
   "source": [
    "df = pd.read_csv(\"/Users/riteshtekriwal/Work/Data/Raw/bio-conservation/test_combined.csv\")\n",
    "df.head(1)\n",
    "df = pd.melt(df.head(1), value_vars=['land_cover_label', 'snow', 'is_invasive','species'])\n",
    "df['count']=[1,1,1,4]\n",
    "\n",
    "df"
   ]
  },
  {
   "cell_type": "code",
   "execution_count": null,
   "id": "a9cf077c",
   "metadata": {},
   "outputs": [],
   "source": []
  }
 ],
 "metadata": {
  "kernelspec": {
   "display_name": "Python 3.9.13 ('gbif-T-iMq9I0-py3.9')",
   "language": "python",
   "name": "python3"
  },
  "language_info": {
   "codemirror_mode": {
    "name": "ipython",
    "version": 3
   },
   "file_extension": ".py",
   "mimetype": "text/x-python",
   "name": "python",
   "nbconvert_exporter": "python",
   "pygments_lexer": "ipython3",
   "version": "3.9.13"
  },
  "vscode": {
   "interpreter": {
    "hash": "0f265fd74fc66c46537054c4d8decf20641db0b9cbaf43f536403739cd1df4a4"
   }
  }
 },
 "nbformat": 4,
 "nbformat_minor": 5
}
